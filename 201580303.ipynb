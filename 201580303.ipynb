{
  "nbformat": 4,
  "nbformat_minor": 0,
  "metadata": {
    "colab": {
      "provenance": [],
      "gpuType": "T4"
    },
    "kernelspec": {
      "name": "python3",
      "display_name": "Python 3"
    },
    "language_info": {
      "name": "python"
    },
    "accelerator": "GPU"
  },
  "cells": [
    {
      "cell_type": "code",
      "source": [
        "!pip install pdfplumber -q\n"
      ],
      "metadata": {
        "colab": {
          "base_uri": "https://localhost:8080/"
        },
        "id": "YDtD-rOItanT",
        "outputId": "7e3b1d2c-5434-4c2c-debf-fc0c8f2a047e"
      },
      "execution_count": null,
      "outputs": [
        {
          "output_type": "stream",
          "name": "stdout",
          "text": [
            "\u001b[2K     \u001b[90m━━━━━━━━━━━━━━━━━━━━━━━━━━━━━━━━━━━━━━━━\u001b[0m \u001b[32m46.1/46.1 kB\u001b[0m \u001b[31m3.0 MB/s\u001b[0m eta \u001b[36m0:00:00\u001b[0m\n",
            "\u001b[2K     \u001b[90m━━━━━━━━━━━━━━━━━━━━━━━━━━━━━━━━━━━━━━━━\u001b[0m \u001b[32m5.6/5.6 MB\u001b[0m \u001b[31m73.4 MB/s\u001b[0m eta \u001b[36m0:00:00\u001b[0m\n",
            "\u001b[2K     \u001b[90m━━━━━━━━━━━━━━━━━━━━━━━━━━━━━━━━━━━━━━━━\u001b[0m \u001b[32m3.4/3.4 MB\u001b[0m \u001b[31m64.5 MB/s\u001b[0m eta \u001b[36m0:00:00\u001b[0m\n",
            "\u001b[2K     \u001b[90m━━━━━━━━━━━━━━━━━━━━━━━━━━━━━━━━━━━━━━\u001b[0m \u001b[32m143.6/143.6 kB\u001b[0m \u001b[31m18.4 MB/s\u001b[0m eta \u001b[36m0:00:00\u001b[0m\n",
            "\u001b[?25h"
          ]
        }
      ]
    },
    {
      "cell_type": "code",
      "source": [
        "#importing libraries\n",
        "import pdfplumber\n",
        "from google.colab import drive\n",
        "import os"
      ],
      "metadata": {
        "id": "6LRQ9RsAtmjt"
      },
      "execution_count": null,
      "outputs": []
    },
    {
      "cell_type": "code",
      "source": [
        "#mounting drive\n",
        "drive.mount('/content/gdrive')"
      ],
      "metadata": {
        "colab": {
          "base_uri": "https://localhost:8080/"
        },
        "id": "ElDM79sHtx3d",
        "outputId": "ce5d7ba5-cea1-4748-9057-392589816883"
      },
      "execution_count": null,
      "outputs": [
        {
          "output_type": "stream",
          "name": "stdout",
          "text": [
            "Mounted at /content/gdrive\n"
          ]
        }
      ]
    },
    {
      "cell_type": "code",
      "source": [
        "os.chdir(\"/content/gdrive/MyDrive/NCERT/11\") #changing to the directory with the PDFs\n",
        "os.getcwd()"
      ],
      "metadata": {
        "colab": {
          "base_uri": "https://localhost:8080/",
          "height": 35
        },
        "id": "ctbVt1cDuhEy",
        "outputId": "008d83d5-c9cc-463e-f032-99cc75a107ae"
      },
      "execution_count": null,
      "outputs": [
        {
          "output_type": "execute_result",
          "data": {
            "text/plain": [
              "'/content/gdrive/MyDrive/NCERT/11'"
            ],
            "application/vnd.google.colaboratory.intrinsic+json": {
              "type": "string"
            }
          },
          "metadata": {},
          "execution_count": 4
        }
      ]
    },
    {
      "cell_type": "code",
      "source": [
        "Chapters_11 = os.listdir() #setting Chapters_11 as all the pdf's inside our directory\n",
        "print(Chapters_11) #printing the os.listdir()"
      ],
      "metadata": {
        "colab": {
          "base_uri": "https://localhost:8080/"
        },
        "id": "d7vG-gMEvClt",
        "outputId": "06ae8ec1-4fcc-493f-ec63-8680880673a0"
      },
      "execution_count": null,
      "outputs": [
        {
          "output_type": "stream",
          "name": "stdout",
          "text": [
            "['kehs101.pdf', 'kehs102.pdf', 'kehs103.pdf', 'kehs104.pdf', 'kehs105.pdf', 'kehs106.pdf', 'kehs107.pdf', 'kehs108.pdf', 'kehs109.pdf', 'kehs111.pdf']\n"
          ]
        }
      ]
    },
    {
      "cell_type": "code",
      "source": [],
      "metadata": {
        "id": "WSsCYMXfx6iM"
      },
      "execution_count": null,
      "outputs": []
    },
    {
      "cell_type": "code",
      "source": [
        "os.chdir(\"/content/gdrive/MyDrive/NCERT/12\") #changing to the directory with the PDFs\n",
        "os.getcwd()"
      ],
      "metadata": {
        "colab": {
          "base_uri": "https://localhost:8080/",
          "height": 35
        },
        "outputId": "ddd856f6-1a97-462b-effc-d7e09902047d",
        "id": "39hFJpfrx62L"
      },
      "execution_count": null,
      "outputs": [
        {
          "output_type": "execute_result",
          "data": {
            "text/plain": [
              "'/content/gdrive/MyDrive/NCERT/12'"
            ],
            "application/vnd.google.colaboratory.intrinsic+json": {
              "type": "string"
            }
          },
          "metadata": {},
          "execution_count": 6
        }
      ]
    },
    {
      "cell_type": "code",
      "source": [],
      "metadata": {
        "id": "ZLby4JVNx8Vw"
      },
      "execution_count": null,
      "outputs": []
    },
    {
      "cell_type": "code",
      "source": [
        "Chapters_12 = os.listdir() #setting Chapters_12 as all the pdf's inside our directory\n",
        "print(Chapters_12) #printing the os.listdir()"
      ],
      "metadata": {
        "colab": {
          "base_uri": "https://localhost:8080/"
        },
        "outputId": "e2fb3866-7e91-4d59-eff7-142c6a5c10cd",
        "id": "8OHdAmI-x8kd"
      },
      "execution_count": null,
      "outputs": [
        {
          "output_type": "stream",
          "name": "stdout",
          "text": [
            "['lehs301.pdf', 'lehs302.pdf', 'lehs303.pdf', 'lehs304.pdf', 'lehs305.pdf', 'lehs306.pdf', 'lehs101.pdf', 'lehs102.pdf', 'lehs103.pdf', 'lehs104.pdf', 'lehs201.pdf', 'lehs202.pdf', 'lehs203.pdf', 'lehs204.pdf', 'lehs205.pdf']\n"
          ]
        }
      ]
    },
    {
      "cell_type": "code",
      "source": [
        "import pandas as pd\n",
        "data = {'Page Text': ['No', 'Yes'],\n",
        "        'Class': [0, 1]}\n",
        "df = pd.DataFrame(data)\n",
        "df.head()\n",
        "\n"
      ],
      "metadata": {
        "colab": {
          "base_uri": "https://localhost:8080/",
          "height": 112
        },
        "id": "selnji7erm9F",
        "outputId": "3adf1b47-bd07-48eb-efc8-f715e6d233e5"
      },
      "execution_count": null,
      "outputs": [
        {
          "output_type": "execute_result",
          "data": {
            "text/plain": [
              "  Page Text  Class\n",
              "0        No      0\n",
              "1       Yes      1"
            ],
            "text/html": [
              "\n",
              "  <div id=\"df-27821cbb-4073-40db-8f00-1558c331a98b\">\n",
              "    <div class=\"colab-df-container\">\n",
              "      <div>\n",
              "<style scoped>\n",
              "    .dataframe tbody tr th:only-of-type {\n",
              "        vertical-align: middle;\n",
              "    }\n",
              "\n",
              "    .dataframe tbody tr th {\n",
              "        vertical-align: top;\n",
              "    }\n",
              "\n",
              "    .dataframe thead th {\n",
              "        text-align: right;\n",
              "    }\n",
              "</style>\n",
              "<table border=\"1\" class=\"dataframe\">\n",
              "  <thead>\n",
              "    <tr style=\"text-align: right;\">\n",
              "      <th></th>\n",
              "      <th>Page Text</th>\n",
              "      <th>Class</th>\n",
              "    </tr>\n",
              "  </thead>\n",
              "  <tbody>\n",
              "    <tr>\n",
              "      <th>0</th>\n",
              "      <td>No</td>\n",
              "      <td>0</td>\n",
              "    </tr>\n",
              "    <tr>\n",
              "      <th>1</th>\n",
              "      <td>Yes</td>\n",
              "      <td>1</td>\n",
              "    </tr>\n",
              "  </tbody>\n",
              "</table>\n",
              "</div>\n",
              "      <button class=\"colab-df-convert\" onclick=\"convertToInteractive('df-27821cbb-4073-40db-8f00-1558c331a98b')\"\n",
              "              title=\"Convert this dataframe to an interactive table.\"\n",
              "              style=\"display:none;\">\n",
              "        \n",
              "  <svg xmlns=\"http://www.w3.org/2000/svg\" height=\"24px\"viewBox=\"0 0 24 24\"\n",
              "       width=\"24px\">\n",
              "    <path d=\"M0 0h24v24H0V0z\" fill=\"none\"/>\n",
              "    <path d=\"M18.56 5.44l.94 2.06.94-2.06 2.06-.94-2.06-.94-.94-2.06-.94 2.06-2.06.94zm-11 1L8.5 8.5l.94-2.06 2.06-.94-2.06-.94L8.5 2.5l-.94 2.06-2.06.94zm10 10l.94 2.06.94-2.06 2.06-.94-2.06-.94-.94-2.06-.94 2.06-2.06.94z\"/><path d=\"M17.41 7.96l-1.37-1.37c-.4-.4-.92-.59-1.43-.59-.52 0-1.04.2-1.43.59L10.3 9.45l-7.72 7.72c-.78.78-.78 2.05 0 2.83L4 21.41c.39.39.9.59 1.41.59.51 0 1.02-.2 1.41-.59l7.78-7.78 2.81-2.81c.8-.78.8-2.07 0-2.86zM5.41 20L4 18.59l7.72-7.72 1.47 1.35L5.41 20z\"/>\n",
              "  </svg>\n",
              "      </button>\n",
              "      \n",
              "  <style>\n",
              "    .colab-df-container {\n",
              "      display:flex;\n",
              "      flex-wrap:wrap;\n",
              "      gap: 12px;\n",
              "    }\n",
              "\n",
              "    .colab-df-convert {\n",
              "      background-color: #E8F0FE;\n",
              "      border: none;\n",
              "      border-radius: 50%;\n",
              "      cursor: pointer;\n",
              "      display: none;\n",
              "      fill: #1967D2;\n",
              "      height: 32px;\n",
              "      padding: 0 0 0 0;\n",
              "      width: 32px;\n",
              "    }\n",
              "\n",
              "    .colab-df-convert:hover {\n",
              "      background-color: #E2EBFA;\n",
              "      box-shadow: 0px 1px 2px rgba(60, 64, 67, 0.3), 0px 1px 3px 1px rgba(60, 64, 67, 0.15);\n",
              "      fill: #174EA6;\n",
              "    }\n",
              "\n",
              "    [theme=dark] .colab-df-convert {\n",
              "      background-color: #3B4455;\n",
              "      fill: #D2E3FC;\n",
              "    }\n",
              "\n",
              "    [theme=dark] .colab-df-convert:hover {\n",
              "      background-color: #434B5C;\n",
              "      box-shadow: 0px 1px 3px 1px rgba(0, 0, 0, 0.15);\n",
              "      filter: drop-shadow(0px 1px 2px rgba(0, 0, 0, 0.3));\n",
              "      fill: #FFFFFF;\n",
              "    }\n",
              "  </style>\n",
              "\n",
              "      <script>\n",
              "        const buttonEl =\n",
              "          document.querySelector('#df-27821cbb-4073-40db-8f00-1558c331a98b button.colab-df-convert');\n",
              "        buttonEl.style.display =\n",
              "          google.colab.kernel.accessAllowed ? 'block' : 'none';\n",
              "\n",
              "        async function convertToInteractive(key) {\n",
              "          const element = document.querySelector('#df-27821cbb-4073-40db-8f00-1558c331a98b');\n",
              "          const dataTable =\n",
              "            await google.colab.kernel.invokeFunction('convertToInteractive',\n",
              "                                                     [key], {});\n",
              "          if (!dataTable) return;\n",
              "\n",
              "          const docLinkHtml = 'Like what you see? Visit the ' +\n",
              "            '<a target=\"_blank\" href=https://colab.research.google.com/notebooks/data_table.ipynb>data table notebook</a>'\n",
              "            + ' to learn more about interactive tables.';\n",
              "          element.innerHTML = '';\n",
              "          dataTable['output_type'] = 'display_data';\n",
              "          await google.colab.output.renderOutput(dataTable, element);\n",
              "          const docLink = document.createElement('div');\n",
              "          docLink.innerHTML = docLinkHtml;\n",
              "          element.appendChild(docLink);\n",
              "        }\n",
              "      </script>\n",
              "    </div>\n",
              "  </div>\n",
              "  "
            ]
          },
          "metadata": {},
          "execution_count": 4
        }
      ]
    },
    {
      "cell_type": "code",
      "source": [
        "#pdf101 = pdfplumber.open('/content/gdrive/MyDrive/NCERT/10/jess301.pdf')"
      ],
      "metadata": {
        "id": "0GwtEHH7oM34"
      },
      "execution_count": null,
      "outputs": []
    },
    {
      "cell_type": "code",
      "source": [
        "#pdf102 = pdfplumber.open('/content/gdrive/MyDrive/NCERT/10/jess302.pdf')"
      ],
      "metadata": {
        "id": "35JAYxNvoNA9"
      },
      "execution_count": null,
      "outputs": []
    },
    {
      "cell_type": "code",
      "source": [
        "#pdf103 = pdfplumber.open('/content/gdrive/MyDrive/NCERT/10/jess303.pdf')"
      ],
      "metadata": {
        "id": "lF8NGRvuoNHl"
      },
      "execution_count": null,
      "outputs": []
    },
    {
      "cell_type": "code",
      "source": [
        "#pdf104 = pdfplumber.open('/content/gdrive/MyDrive/NCERT/10/jess304.pdf')"
      ],
      "metadata": {
        "id": "I1Au4UjKoNNB"
      },
      "execution_count": null,
      "outputs": []
    },
    {
      "cell_type": "code",
      "source": [
        "#pdf105 = pdfplumber.open('/content/gdrive/MyDrive/NCERT/10/jess305.pdf')"
      ],
      "metadata": {
        "id": "OCe3FczuoNSB"
      },
      "execution_count": null,
      "outputs": []
    },
    {
      "cell_type": "code",
      "source": [
        "pdf121 = pdfplumber.open('/content/gdrive/MyDrive/NCERT/12/lehs101.pdf')"
      ],
      "metadata": {
        "id": "WF_PodBnnnV-"
      },
      "execution_count": null,
      "outputs": []
    },
    {
      "cell_type": "code",
      "source": [
        "pdf122 = pdfplumber.open('/content/gdrive/MyDrive/NCERT/12/lehs102.pdf')"
      ],
      "metadata": {
        "id": "2pNeSOJFnnpt"
      },
      "execution_count": null,
      "outputs": []
    },
    {
      "cell_type": "code",
      "source": [
        "pdf123 = pdfplumber.open('/content/gdrive/MyDrive/NCERT/12/lehs103.pdf')"
      ],
      "metadata": {
        "id": "NWBF7i38nn0x"
      },
      "execution_count": null,
      "outputs": []
    },
    {
      "cell_type": "code",
      "source": [
        "pdf124 = pdfplumber.open('/content/gdrive/MyDrive/NCERT/12/lehs104.pdf')"
      ],
      "metadata": {
        "id": "FOg_Ivofnn8A"
      },
      "execution_count": null,
      "outputs": []
    },
    {
      "cell_type": "code",
      "source": [
        "pdf125 = pdfplumber.open('/content/gdrive/MyDrive/NCERT/12/lehs201.pdf')"
      ],
      "metadata": {
        "id": "YAbBgRH0noCR"
      },
      "execution_count": null,
      "outputs": []
    },
    {
      "cell_type": "code",
      "source": [
        "pdf126 = pdfplumber.open('/content/gdrive/MyDrive/NCERT/12/lehs202.pdf')"
      ],
      "metadata": {
        "id": "bUwDAhqEnoIB"
      },
      "execution_count": null,
      "outputs": []
    },
    {
      "cell_type": "code",
      "source": [
        "pdf127 = pdfplumber.open('/content/gdrive/MyDrive/NCERT/12/lehs203.pdf')"
      ],
      "metadata": {
        "id": "Th2HNyzfnomD"
      },
      "execution_count": null,
      "outputs": []
    },
    {
      "cell_type": "code",
      "source": [
        "pdf128 = pdfplumber.open('/content/gdrive/MyDrive/NCERT/12/lehs204.pdf')"
      ],
      "metadata": {
        "id": "7xP1cd_nnouI"
      },
      "execution_count": null,
      "outputs": []
    },
    {
      "cell_type": "code",
      "source": [
        "pdf129 = pdfplumber.open('/content/gdrive/MyDrive/NCERT/12/lehs205.pdf')"
      ],
      "metadata": {
        "id": "6KMc8ZV6no0R"
      },
      "execution_count": null,
      "outputs": []
    },
    {
      "cell_type": "code",
      "source": [
        "pdf1210 = pdfplumber.open('/content/gdrive/MyDrive/NCERT/12/lehs301.pdf')"
      ],
      "metadata": {
        "id": "_a1tzjqsno5o"
      },
      "execution_count": null,
      "outputs": []
    },
    {
      "cell_type": "code",
      "source": [
        "pdf1211 = pdfplumber.open('/content/gdrive/MyDrive/NCERT/12/lehs302.pdf')"
      ],
      "metadata": {
        "id": "Lb_CWOkVzRt1"
      },
      "execution_count": null,
      "outputs": []
    },
    {
      "cell_type": "code",
      "source": [
        "pdf1212 = pdfplumber.open('/content/gdrive/MyDrive/NCERT/12/lehs303.pdf')"
      ],
      "metadata": {
        "id": "fEW3OjcNzSOE"
      },
      "execution_count": null,
      "outputs": []
    },
    {
      "cell_type": "code",
      "source": [
        "pdf1213 = pdfplumber.open('/content/gdrive/MyDrive/NCERT/12/lehs304.pdf')"
      ],
      "metadata": {
        "id": "7ceV0nX-zSXI"
      },
      "execution_count": null,
      "outputs": []
    },
    {
      "cell_type": "code",
      "source": [
        "pdf1214 = pdfplumber.open('/content/gdrive/MyDrive/NCERT/12/lehs305.pdf')"
      ],
      "metadata": {
        "id": "T6ceCqDEzSev"
      },
      "execution_count": null,
      "outputs": []
    },
    {
      "cell_type": "code",
      "source": [
        "pdf1215 = pdfplumber.open('/content/gdrive/MyDrive/NCERT/12/lehs306.pdf')"
      ],
      "metadata": {
        "id": "U-Je8rwFzSve"
      },
      "execution_count": null,
      "outputs": []
    },
    {
      "cell_type": "code",
      "source": [
        "pdf111 = pdfplumber.open('/content/gdrive/MyDrive/NCERT/11/kehs101.pdf')"
      ],
      "metadata": {
        "id": "_bZiBmzyzS2n"
      },
      "execution_count": null,
      "outputs": []
    },
    {
      "cell_type": "code",
      "source": [
        "pdf112 = pdfplumber.open('/content/gdrive/MyDrive/NCERT/11/kehs102.pdf')"
      ],
      "metadata": {
        "id": "YmpG7FQgzS8R"
      },
      "execution_count": null,
      "outputs": []
    },
    {
      "cell_type": "code",
      "source": [
        "pdf113 = pdfplumber.open('/content/gdrive/MyDrive/NCERT/11/kehs103.pdf')"
      ],
      "metadata": {
        "id": "ydUbSWir1DA-"
      },
      "execution_count": null,
      "outputs": []
    },
    {
      "cell_type": "code",
      "source": [
        "pdf114 = pdfplumber.open('/content/gdrive/MyDrive/NCERT/11/kehs104.pdf')"
      ],
      "metadata": {
        "id": "tUr48qc61DKp"
      },
      "execution_count": null,
      "outputs": []
    },
    {
      "cell_type": "code",
      "source": [
        "pdf115 = pdfplumber.open('/content/gdrive/MyDrive/NCERT/11/kehs105.pdf')"
      ],
      "metadata": {
        "id": "qfrerLOv1DRx"
      },
      "execution_count": null,
      "outputs": []
    },
    {
      "cell_type": "code",
      "source": [
        "pdf116 = pdfplumber.open('/content/gdrive/MyDrive/NCERT/11/kehs106.pdf')"
      ],
      "metadata": {
        "id": "aL9dQ2xk1DXM"
      },
      "execution_count": null,
      "outputs": []
    },
    {
      "cell_type": "code",
      "source": [
        "pdf117 = pdfplumber.open('/content/gdrive/MyDrive/NCERT/11/kehs107.pdf')"
      ],
      "metadata": {
        "id": "x0pD3HM31Da6"
      },
      "execution_count": null,
      "outputs": []
    },
    {
      "cell_type": "code",
      "source": [
        "pdf118 = pdfplumber.open('/content/gdrive/MyDrive/NCERT/11/kehs108.pdf')"
      ],
      "metadata": {
        "id": "LAF3xRa01Dei"
      },
      "execution_count": null,
      "outputs": []
    },
    {
      "cell_type": "code",
      "source": [
        "pdf119 = pdfplumber.open('/content/gdrive/MyDrive/NCERT/11/kehs109.pdf')"
      ],
      "metadata": {
        "id": "6c-ZItjF1DiK"
      },
      "execution_count": null,
      "outputs": []
    },
    {
      "cell_type": "code",
      "source": [
        "pdf1110 = pdfplumber.open('/content/gdrive/MyDrive/NCERT/11/kehs111.pdf')"
      ],
      "metadata": {
        "id": "VuOHGpyD1DpM"
      },
      "execution_count": null,
      "outputs": []
    },
    {
      "cell_type": "code",
      "source": [
        "\n",
        "\n",
        "\n",
        "page = pdf124.pages[15]\n",
        "text = page.extract_text()\n",
        "print(text)"
      ],
      "metadata": {
        "id": "frno_46vqP5R",
        "colab": {
          "base_uri": "https://localhost:8080/"
        },
        "outputId": "968ca741-6c66-436a-8fca-54c8d89c05c5"
      },
      "execution_count": null,
      "outputs": [
        {
          "output_type": "stream",
          "name": "stdout",
          "text": [
            " \n",
            "Fig. 4.9\n",
            "A votive inscription from Sanchi\n",
            "Hundreds of similar inscriptions\n",
            "have also been found at Bharhut\n",
            "and Amaravati.\n",
            "Arising from the harmika was a mast called the yashti,\n",
            "often surmounted by a chhatri or umbrella. Around  Discuss...\n",
            "the mound was a railing, separating the sacred space\n",
            "What are the similarities and\n",
            "from the secular world.\n",
            "differences between the plan\n",
            "The early stupas at Sanchi and Bharhut were plain\n",
            "of the Great Stupa, Sanchi\n",
            "except for the stone railings, which resembled a\n",
            "(Fig. 4.10a) and the\n",
            "bamboo or wooden fence, and the gateways, which\n",
            "photograph (Fig. 4.3)?\n",
            "were richly carved and installed at the four cardinal\n",
            "points. Worshippers entered through the eastern\n",
            "gateway and walked around the mound in a clockwise\n",
            "direction keeping the mound on the right, imitating\n",
            "the sun’s course through the sky. Later, the mound\n",
            "of the stupas came to be elaborately carved with\n",
            "niches and sculptures as at Amaravati, and Shah- What are the features of\n",
            "ji-ki-Dheri in Peshawar (Pakistan).\n",
            "the building that are\n",
            "clearest in the plan? What\n",
            "are the features that are\n",
            "best seen in the elevation?\n",
            "Fig. 4.10b\n",
            "An elevation of the Great Stupa\n",
            "An elevation provides a vertical perspective.\n",
            "Fig. 4.10a\n",
            "Plan of the Great Stupa at Sanchi\n",
            "A plan provides a horizontal perspective of a building.\n",
            "2022-23\n"
          ]
        }
      ]
    },
    {
      "cell_type": "code",
      "source": [
        "\n",
        "\n",
        "\n",
        "page = pdf116.pages[25]\n",
        "text = page.extract_text()\n",
        "print (text)"
      ],
      "metadata": {
        "colab": {
          "base_uri": "https://localhost:8080/"
        },
        "outputId": "e9114150-d10d-4d99-bbdb-a424d5eb213b",
        "id": "BTp5bGZwmsrP"
      },
      "execution_count": null,
      "outputs": [
        {
          "output_type": "stream",
          "name": "stdout",
          "text": [
            "148 THEMES IN WORLD HISTORY\n",
            "‘How many valiant men, how many fair ladies, (had) breakfast with\n",
            "their kinfolk and the same night supped with their ancestors in the\n",
            "next world! The condition of the people was pitiable to behold. They\n",
            "sickened by the thousands daily, and died unattended and without\n",
            "help. Many died in the open street, others dying in their houses, made\n",
            "it known by the stench of their rotting bodies. Consecrated churchyards\n",
            "did not suffice for the burial of the vast multitude of bodies, which\n",
            "were heaped by the hundreds in vast trenches, like goods in a ships\n",
            "hold and covered with a little earth.’\n",
            "– Giovanni Boccaccio (1313-75), Italian author.\n",
            "As trade centres, cities were the hardest hit. In enclosed\n",
            "communities like monasteries and convents, when one individual\n",
            "contracted the plague, it was not long before everyone did. And in\n",
            "almost every case, none survived. The plague took its worst toll among\n",
            "infants, the young and the elderly. There were other relatively minor\n",
            "episodes of plague in the 1360s and 1370s. The population of Europe,\n",
            "73 million in 1300, stood reduced to 45 million in 1400.\n",
            "This catastrophe, combined with the economic crisis, caused\n",
            "immense social dislocation. Depopulation resulted in a major shortage\n",
            "of labour. Serious imbalances were created between agriculture and\n",
            "manufacture, because there were not enough people to engage in\n",
            "both equally. Prices of agricultural goods dropped as there were fewer\n",
            "people to buy. Wage rates increased because the demand for labour,\n",
            "particularly agricultural labour, rose in England by as much as 250\n",
            "per cent in the aftermath of the Black Death. The surviving labour\n",
            "force could now demand twice their earlier wages.\n",
            "Social Unrest\n",
            "The income of lords was thus badly hit. It declined as agricultural\n",
            "prices came down and wages of labourers increased. In desperation,\n",
            "they tried to give up the money-contracts they had entered into\n",
            "and revive labour-services. This was violently opposed by peasants,\n",
            "particularly the better-educated and more prosperous ones. In 1323,\n",
            "peasants revolted in Flanders, in 1358 in France, and in 1381\n",
            "in England.\n",
            "Though these rebellions were ruthlessly crushed, it is significant\n",
            "that they occurred with the most violent intensity in those areas which\n",
            "had experienced the prosperity of the economic expansion – a sign that\n",
            "peasants were attempting to protect the gains they had made in previous\n",
            "centuries. Despite the severe repression, the sheer intensity of peasant\n",
            "opposition ensured that the old feudal relations could not be reimposed.\n",
            "The money economy was too far advanced to be reversed. Therefore,\n",
            "though the lords succeeded in crushing the revolts, the peasants\n",
            "ensured that the feudal privileges of earlier days could not be reinvented.\n",
            "2020-21\n"
          ]
        }
      ]
    },
    {
      "cell_type": "code",
      "source": [
        "# Empty the dataframe\n",
        "df.drop(df.index, inplace=True)\n",
        "df.drop(columns=df.columns, inplace=True)"
      ],
      "metadata": {
        "id": "UOBiryD0nytO"
      },
      "execution_count": null,
      "outputs": []
    },
    {
      "cell_type": "code",
      "source": [
        "#ranges and inequality limits based on maximum page numbers of each PDF of textbooks from Grade 11 and Grade 12 History of NCERT\n",
        "\n",
        "\n",
        "\n",
        "for i in range (34):\n",
        "\n",
        "    if i < 28:\n",
        "      page1 = pdf111.pages[i]\n",
        "      text1 = page1.extract_text()\n",
        "    if i < 27:\n",
        "      page10 = pdf121.pages[i]\n",
        "      text10 = page10.extract_text()\n",
        "    if i < 20:\n",
        "      page2 = pdf112.pages[i]\n",
        "      text2 = page2.extract_text()\n",
        "    if i < 25:\n",
        "      page20 = pdf122.pages[i]\n",
        "      text20 = page20.extract_text()\n",
        "    if i < 28:\n",
        "      page3 = pdf113.pages[i]\n",
        "      text3 = page3.extract_text()\n",
        "    if i < 29:\n",
        "      page30 = pdf123.pages[i]\n",
        "      text30 = page30.extract_text()\n",
        "    if i < 27:\n",
        "      page4 = pdf114.pages[i]\n",
        "      text4 = page4.extract_text()\n",
        "    if i < 33:\n",
        "      page40 = pdf124.pages[i]\n",
        "      text40 = page40.extract_text()\n",
        "    if i < 19:\n",
        "      page5 = pdf115.pages[i]\n",
        "      text5 = page5.extract_text()\n",
        "    if i < 25:\n",
        "      page50 = pdf125.pages[i]\n",
        "      text50 = page50.extract_text()\n",
        "    if i < 29:\n",
        "      page6 = pdf116.pages[i]\n",
        "      text6 = page6.extract_text()\n",
        "    if i < 30:\n",
        "      page60 = pdf126.pages[i]\n",
        "      text60 = page60.extract_text()\n",
        "    if i < 16:\n",
        "      page7 = pdf117.pages[i]\n",
        "      text7 = page7.extract_text()\n",
        "    if i < 26:\n",
        "      page70 = pdf127.pages[i]\n",
        "      text70 = page70.extract_text()\n",
        "    if i < 17:\n",
        "      page8 = pdf118.pages[i]\n",
        "      text8 = page8.extract_text()\n",
        "    if i < 28:\n",
        "      page80 = pdf128.pages[i]\n",
        "      text80 = page80.extract_text()\n",
        "    if i < 28:\n",
        "      page9 = pdf119.pages[i]\n",
        "      text9 = page9.extract_text()\n",
        "    if i < 33:\n",
        "      page90 = pdf129.pages[i]\n",
        "      text90 = page90.extract_text()\n",
        "    if i < 31:\n",
        "      page11 = pdf1110.pages[i]\n",
        "      text11 = page11.extract_text()\n",
        "    if i < 31:\n",
        "      page110 = pdf1210.pages[i]\n",
        "      text110 = page110.extract_text()\n",
        "    if i < 28:\n",
        "      page120 = pdf1211.pages[i]\n",
        "      text120 = page120.extract_text()\n",
        "    if i < 30:\n",
        "      page130 = pdf1212.pages[i]\n",
        "      text130 = page130.extract_text()\n",
        "    if i < 30:\n",
        "      page140 = pdf1213.pages[i]\n",
        "      text140 = page140.extract_text()\n",
        "    if i < 29:\n",
        "      page150 = pdf1214.pages[i]\n",
        "      text150 = page150.extract_text()\n",
        "    if i < 28:\n",
        "      page160 = pdf1215.pages[i]\n",
        "      text160 = page160.extract_text()\n",
        "\n",
        "    new_row1 = {'Page Text': text1, 'Class': 11}\n",
        "    df = df.append(new_row1, ignore_index=True)\n",
        "    new_row1a = {'Page Text': text10, 'Class': 12}\n",
        "    df = df.append(new_row1a, ignore_index=True)\n",
        "    new_row2 = {'Page Text': text2, 'Class': 11}\n",
        "    df = df.append(new_row2, ignore_index=True)\n",
        "    new_row3 = {'Page Text': text20, 'Class': 12}\n",
        "    df = df.append(new_row3, ignore_index=True)\n",
        "    new_row4 = {'Page Text': text3, 'Class': 11}\n",
        "    df = df.append(new_row4, ignore_index=True)\n",
        "    new_row4a = {'Page Text': text30, 'Class': 12}\n",
        "    df = df.append(new_row4a, ignore_index=True)\n",
        "    new_row5 = {'Page Text': text4, 'Class': 11}\n",
        "    df = df.append(new_row5, ignore_index=True)\n",
        "    new_row6 = {'Page Text': text40, 'Class': 12}\n",
        "    df = df.append(new_row6, ignore_index=True)\n",
        "    new_row7 = {'Page Text': text5, 'Class': 11}\n",
        "    df = df.append(new_row7, ignore_index=True)\n",
        "    new_row7a = {'Page Text': text50, 'Class': 12}\n",
        "    df = df.append(new_row7a, ignore_index=True)\n",
        "    new_row8 = {'Page Text': text6, 'Class': 11}\n",
        "    df = df.append(new_row8, ignore_index=True)\n",
        "    new_row9 = {'Page Text': text60, 'Class': 12}\n",
        "    df = df.append(new_row9, ignore_index=True)\n",
        "    new_row10 = {'Page Text': text7, 'Class': 11}\n",
        "    df = df.append(new_row10, ignore_index=True)\n",
        "    new_row10a = {'Page Text': text70, 'Class': 12}\n",
        "    df = df.append(new_row10a, ignore_index=True)\n",
        "    new_row11 = {'Page Text': text8, 'Class': 11}\n",
        "    df = df.append(new_row11, ignore_index=True)\n",
        "    new_row12 = {'Page Text': text80, 'Class': 12}\n",
        "    df = df.append(new_row12, ignore_index=True)\n",
        "    new_row13 = {'Page Text': text9, 'Class': 11}\n",
        "    df = df.append(new_row13, ignore_index=True)\n",
        "    new_row13a = {'Page Text': text90, 'Class': 12}\n",
        "    df = df.append(new_row13a, ignore_index=True)\n",
        "    new_row14 = {'Page Text': text11, 'Class': 11}\n",
        "    df = df.append(new_row14, ignore_index=True)\n",
        "    new_row15 = {'Page Text': text110, 'Class': 12}\n",
        "    df = df.append(new_row15, ignore_index=True)\n",
        "    new_row16 = {'Page Text': text120, 'Class': 12}\n",
        "    df = df.append(new_row16, ignore_index=True)\n",
        "    new_row17 = {'Page Text': text130, 'Class': 12}\n",
        "    df = df.append(new_row17, ignore_index=True)\n",
        "    new_row18 = {'Page Text': text140, 'Class': 12}\n",
        "    df = df.append(new_row18, ignore_index=True)\n",
        "    new_row19 = {'Page Text': text150, 'Class': 12}\n",
        "    df = df.append(new_row19, ignore_index=True)\n",
        "    new_row20 = {'Page Text': text160, 'Class': 12}\n",
        "    df = df.append(new_row20, ignore_index=True)\n"
      ],
      "metadata": {
        "colab": {
          "base_uri": "https://localhost:8080/"
        },
        "id": "-oz2otzrsZ7o",
        "outputId": "a0458c8a-fdeb-4214-f15f-2c4dc27fb76e"
      },
      "execution_count": null,
      "outputs": [
        {
          "output_type": "stream",
          "name": "stderr",
          "text": [
            "<ipython-input-35-079751cde519>:80: FutureWarning: The frame.append method is deprecated and will be removed from pandas in a future version. Use pandas.concat instead.\n",
            "  df = df.append(new_row1, ignore_index=True)\n",
            "<ipython-input-35-079751cde519>:82: FutureWarning: The frame.append method is deprecated and will be removed from pandas in a future version. Use pandas.concat instead.\n",
            "  df = df.append(new_row1a, ignore_index=True)\n",
            "<ipython-input-35-079751cde519>:84: FutureWarning: The frame.append method is deprecated and will be removed from pandas in a future version. Use pandas.concat instead.\n",
            "  df = df.append(new_row2, ignore_index=True)\n",
            "<ipython-input-35-079751cde519>:86: FutureWarning: The frame.append method is deprecated and will be removed from pandas in a future version. Use pandas.concat instead.\n",
            "  df = df.append(new_row3, ignore_index=True)\n",
            "<ipython-input-35-079751cde519>:88: FutureWarning: The frame.append method is deprecated and will be removed from pandas in a future version. Use pandas.concat instead.\n",
            "  df = df.append(new_row4, ignore_index=True)\n",
            "<ipython-input-35-079751cde519>:90: FutureWarning: The frame.append method is deprecated and will be removed from pandas in a future version. Use pandas.concat instead.\n",
            "  df = df.append(new_row4a, ignore_index=True)\n",
            "<ipython-input-35-079751cde519>:92: FutureWarning: The frame.append method is deprecated and will be removed from pandas in a future version. Use pandas.concat instead.\n",
            "  df = df.append(new_row5, ignore_index=True)\n",
            "<ipython-input-35-079751cde519>:94: FutureWarning: The frame.append method is deprecated and will be removed from pandas in a future version. Use pandas.concat instead.\n",
            "  df = df.append(new_row6, ignore_index=True)\n",
            "<ipython-input-35-079751cde519>:96: FutureWarning: The frame.append method is deprecated and will be removed from pandas in a future version. Use pandas.concat instead.\n",
            "  df = df.append(new_row7, ignore_index=True)\n",
            "<ipython-input-35-079751cde519>:98: FutureWarning: The frame.append method is deprecated and will be removed from pandas in a future version. Use pandas.concat instead.\n",
            "  df = df.append(new_row7a, ignore_index=True)\n",
            "<ipython-input-35-079751cde519>:100: FutureWarning: The frame.append method is deprecated and will be removed from pandas in a future version. Use pandas.concat instead.\n",
            "  df = df.append(new_row8, ignore_index=True)\n",
            "<ipython-input-35-079751cde519>:102: FutureWarning: The frame.append method is deprecated and will be removed from pandas in a future version. Use pandas.concat instead.\n",
            "  df = df.append(new_row9, ignore_index=True)\n",
            "<ipython-input-35-079751cde519>:104: FutureWarning: The frame.append method is deprecated and will be removed from pandas in a future version. Use pandas.concat instead.\n",
            "  df = df.append(new_row10, ignore_index=True)\n",
            "<ipython-input-35-079751cde519>:106: FutureWarning: The frame.append method is deprecated and will be removed from pandas in a future version. Use pandas.concat instead.\n",
            "  df = df.append(new_row10a, ignore_index=True)\n",
            "<ipython-input-35-079751cde519>:108: FutureWarning: The frame.append method is deprecated and will be removed from pandas in a future version. Use pandas.concat instead.\n",
            "  df = df.append(new_row11, ignore_index=True)\n",
            "<ipython-input-35-079751cde519>:110: FutureWarning: The frame.append method is deprecated and will be removed from pandas in a future version. Use pandas.concat instead.\n",
            "  df = df.append(new_row12, ignore_index=True)\n",
            "<ipython-input-35-079751cde519>:112: FutureWarning: The frame.append method is deprecated and will be removed from pandas in a future version. Use pandas.concat instead.\n",
            "  df = df.append(new_row13, ignore_index=True)\n",
            "<ipython-input-35-079751cde519>:114: FutureWarning: The frame.append method is deprecated and will be removed from pandas in a future version. Use pandas.concat instead.\n",
            "  df = df.append(new_row13a, ignore_index=True)\n",
            "<ipython-input-35-079751cde519>:116: FutureWarning: The frame.append method is deprecated and will be removed from pandas in a future version. Use pandas.concat instead.\n",
            "  df = df.append(new_row14, ignore_index=True)\n",
            "<ipython-input-35-079751cde519>:118: FutureWarning: The frame.append method is deprecated and will be removed from pandas in a future version. Use pandas.concat instead.\n",
            "  df = df.append(new_row15, ignore_index=True)\n",
            "<ipython-input-35-079751cde519>:120: FutureWarning: The frame.append method is deprecated and will be removed from pandas in a future version. Use pandas.concat instead.\n",
            "  df = df.append(new_row16, ignore_index=True)\n",
            "<ipython-input-35-079751cde519>:122: FutureWarning: The frame.append method is deprecated and will be removed from pandas in a future version. Use pandas.concat instead.\n",
            "  df = df.append(new_row17, ignore_index=True)\n",
            "<ipython-input-35-079751cde519>:124: FutureWarning: The frame.append method is deprecated and will be removed from pandas in a future version. Use pandas.concat instead.\n",
            "  df = df.append(new_row18, ignore_index=True)\n",
            "<ipython-input-35-079751cde519>:126: FutureWarning: The frame.append method is deprecated and will be removed from pandas in a future version. Use pandas.concat instead.\n",
            "  df = df.append(new_row19, ignore_index=True)\n",
            "<ipython-input-35-079751cde519>:128: FutureWarning: The frame.append method is deprecated and will be removed from pandas in a future version. Use pandas.concat instead.\n",
            "  df = df.append(new_row20, ignore_index=True)\n",
            "<ipython-input-35-079751cde519>:80: FutureWarning: The frame.append method is deprecated and will be removed from pandas in a future version. Use pandas.concat instead.\n",
            "  df = df.append(new_row1, ignore_index=True)\n",
            "<ipython-input-35-079751cde519>:82: FutureWarning: The frame.append method is deprecated and will be removed from pandas in a future version. Use pandas.concat instead.\n",
            "  df = df.append(new_row1a, ignore_index=True)\n",
            "<ipython-input-35-079751cde519>:84: FutureWarning: The frame.append method is deprecated and will be removed from pandas in a future version. Use pandas.concat instead.\n",
            "  df = df.append(new_row2, ignore_index=True)\n",
            "<ipython-input-35-079751cde519>:86: FutureWarning: The frame.append method is deprecated and will be removed from pandas in a future version. Use pandas.concat instead.\n",
            "  df = df.append(new_row3, ignore_index=True)\n",
            "<ipython-input-35-079751cde519>:88: FutureWarning: The frame.append method is deprecated and will be removed from pandas in a future version. Use pandas.concat instead.\n",
            "  df = df.append(new_row4, ignore_index=True)\n",
            "<ipython-input-35-079751cde519>:90: FutureWarning: The frame.append method is deprecated and will be removed from pandas in a future version. Use pandas.concat instead.\n",
            "  df = df.append(new_row4a, ignore_index=True)\n",
            "<ipython-input-35-079751cde519>:92: FutureWarning: The frame.append method is deprecated and will be removed from pandas in a future version. Use pandas.concat instead.\n",
            "  df = df.append(new_row5, ignore_index=True)\n",
            "<ipython-input-35-079751cde519>:94: FutureWarning: The frame.append method is deprecated and will be removed from pandas in a future version. Use pandas.concat instead.\n",
            "  df = df.append(new_row6, ignore_index=True)\n",
            "<ipython-input-35-079751cde519>:96: FutureWarning: The frame.append method is deprecated and will be removed from pandas in a future version. Use pandas.concat instead.\n",
            "  df = df.append(new_row7, ignore_index=True)\n",
            "<ipython-input-35-079751cde519>:98: FutureWarning: The frame.append method is deprecated and will be removed from pandas in a future version. Use pandas.concat instead.\n",
            "  df = df.append(new_row7a, ignore_index=True)\n",
            "<ipython-input-35-079751cde519>:100: FutureWarning: The frame.append method is deprecated and will be removed from pandas in a future version. Use pandas.concat instead.\n",
            "  df = df.append(new_row8, ignore_index=True)\n",
            "<ipython-input-35-079751cde519>:102: FutureWarning: The frame.append method is deprecated and will be removed from pandas in a future version. Use pandas.concat instead.\n",
            "  df = df.append(new_row9, ignore_index=True)\n",
            "<ipython-input-35-079751cde519>:104: FutureWarning: The frame.append method is deprecated and will be removed from pandas in a future version. Use pandas.concat instead.\n",
            "  df = df.append(new_row10, ignore_index=True)\n",
            "<ipython-input-35-079751cde519>:106: FutureWarning: The frame.append method is deprecated and will be removed from pandas in a future version. Use pandas.concat instead.\n",
            "  df = df.append(new_row10a, ignore_index=True)\n",
            "<ipython-input-35-079751cde519>:108: FutureWarning: The frame.append method is deprecated and will be removed from pandas in a future version. Use pandas.concat instead.\n",
            "  df = df.append(new_row11, ignore_index=True)\n",
            "<ipython-input-35-079751cde519>:110: FutureWarning: The frame.append method is deprecated and will be removed from pandas in a future version. Use pandas.concat instead.\n",
            "  df = df.append(new_row12, ignore_index=True)\n",
            "<ipython-input-35-079751cde519>:112: FutureWarning: The frame.append method is deprecated and will be removed from pandas in a future version. Use pandas.concat instead.\n",
            "  df = df.append(new_row13, ignore_index=True)\n",
            "<ipython-input-35-079751cde519>:114: FutureWarning: The frame.append method is deprecated and will be removed from pandas in a future version. Use pandas.concat instead.\n",
            "  df = df.append(new_row13a, ignore_index=True)\n",
            "<ipython-input-35-079751cde519>:116: FutureWarning: The frame.append method is deprecated and will be removed from pandas in a future version. Use pandas.concat instead.\n",
            "  df = df.append(new_row14, ignore_index=True)\n",
            "<ipython-input-35-079751cde519>:118: FutureWarning: The frame.append method is deprecated and will be removed from pandas in a future version. Use pandas.concat instead.\n",
            "  df = df.append(new_row15, ignore_index=True)\n",
            "<ipython-input-35-079751cde519>:120: FutureWarning: The frame.append method is deprecated and will be removed from pandas in a future version. Use pandas.concat instead.\n",
            "  df = df.append(new_row16, ignore_index=True)\n",
            "<ipython-input-35-079751cde519>:122: FutureWarning: The frame.append method is deprecated and will be removed from pandas in a future version. Use pandas.concat instead.\n",
            "  df = df.append(new_row17, ignore_index=True)\n",
            "<ipython-input-35-079751cde519>:124: FutureWarning: The frame.append method is deprecated and will be removed from pandas in a future version. Use pandas.concat instead.\n",
            "  df = df.append(new_row18, ignore_index=True)\n",
            "<ipython-input-35-079751cde519>:126: FutureWarning: The frame.append method is deprecated and will be removed from pandas in a future version. Use pandas.concat instead.\n",
            "  df = df.append(new_row19, ignore_index=True)\n",
            "<ipython-input-35-079751cde519>:128: FutureWarning: The frame.append method is deprecated and will be removed from pandas in a future version. Use pandas.concat instead.\n",
            "  df = df.append(new_row20, ignore_index=True)\n",
            "<ipython-input-35-079751cde519>:80: FutureWarning: The frame.append method is deprecated and will be removed from pandas in a future version. Use pandas.concat instead.\n",
            "  df = df.append(new_row1, ignore_index=True)\n",
            "<ipython-input-35-079751cde519>:82: FutureWarning: The frame.append method is deprecated and will be removed from pandas in a future version. Use pandas.concat instead.\n",
            "  df = df.append(new_row1a, ignore_index=True)\n",
            "<ipython-input-35-079751cde519>:84: FutureWarning: The frame.append method is deprecated and will be removed from pandas in a future version. Use pandas.concat instead.\n",
            "  df = df.append(new_row2, ignore_index=True)\n",
            "<ipython-input-35-079751cde519>:86: FutureWarning: The frame.append method is deprecated and will be removed from pandas in a future version. Use pandas.concat instead.\n",
            "  df = df.append(new_row3, ignore_index=True)\n",
            "<ipython-input-35-079751cde519>:88: FutureWarning: The frame.append method is deprecated and will be removed from pandas in a future version. Use pandas.concat instead.\n",
            "  df = df.append(new_row4, ignore_index=True)\n",
            "<ipython-input-35-079751cde519>:90: FutureWarning: The frame.append method is deprecated and will be removed from pandas in a future version. Use pandas.concat instead.\n",
            "  df = df.append(new_row4a, ignore_index=True)\n",
            "<ipython-input-35-079751cde519>:92: FutureWarning: The frame.append method is deprecated and will be removed from pandas in a future version. Use pandas.concat instead.\n",
            "  df = df.append(new_row5, ignore_index=True)\n",
            "<ipython-input-35-079751cde519>:94: FutureWarning: The frame.append method is deprecated and will be removed from pandas in a future version. Use pandas.concat instead.\n",
            "  df = df.append(new_row6, ignore_index=True)\n",
            "<ipython-input-35-079751cde519>:96: FutureWarning: The frame.append method is deprecated and will be removed from pandas in a future version. Use pandas.concat instead.\n",
            "  df = df.append(new_row7, ignore_index=True)\n",
            "<ipython-input-35-079751cde519>:98: FutureWarning: The frame.append method is deprecated and will be removed from pandas in a future version. Use pandas.concat instead.\n",
            "  df = df.append(new_row7a, ignore_index=True)\n",
            "<ipython-input-35-079751cde519>:100: FutureWarning: The frame.append method is deprecated and will be removed from pandas in a future version. Use pandas.concat instead.\n",
            "  df = df.append(new_row8, ignore_index=True)\n",
            "<ipython-input-35-079751cde519>:102: FutureWarning: The frame.append method is deprecated and will be removed from pandas in a future version. Use pandas.concat instead.\n",
            "  df = df.append(new_row9, ignore_index=True)\n",
            "<ipython-input-35-079751cde519>:104: FutureWarning: The frame.append method is deprecated and will be removed from pandas in a future version. Use pandas.concat instead.\n",
            "  df = df.append(new_row10, ignore_index=True)\n",
            "<ipython-input-35-079751cde519>:106: FutureWarning: The frame.append method is deprecated and will be removed from pandas in a future version. Use pandas.concat instead.\n",
            "  df = df.append(new_row10a, ignore_index=True)\n",
            "<ipython-input-35-079751cde519>:108: FutureWarning: The frame.append method is deprecated and will be removed from pandas in a future version. Use pandas.concat instead.\n",
            "  df = df.append(new_row11, ignore_index=True)\n",
            "<ipython-input-35-079751cde519>:110: FutureWarning: The frame.append method is deprecated and will be removed from pandas in a future version. Use pandas.concat instead.\n",
            "  df = df.append(new_row12, ignore_index=True)\n",
            "<ipython-input-35-079751cde519>:112: FutureWarning: The frame.append method is deprecated and will be removed from pandas in a future version. Use pandas.concat instead.\n",
            "  df = df.append(new_row13, ignore_index=True)\n",
            "<ipython-input-35-079751cde519>:114: FutureWarning: The frame.append method is deprecated and will be removed from pandas in a future version. Use pandas.concat instead.\n",
            "  df = df.append(new_row13a, ignore_index=True)\n",
            "<ipython-input-35-079751cde519>:116: FutureWarning: The frame.append method is deprecated and will be removed from pandas in a future version. Use pandas.concat instead.\n",
            "  df = df.append(new_row14, ignore_index=True)\n",
            "<ipython-input-35-079751cde519>:118: FutureWarning: The frame.append method is deprecated and will be removed from pandas in a future version. Use pandas.concat instead.\n",
            "  df = df.append(new_row15, ignore_index=True)\n",
            "<ipython-input-35-079751cde519>:120: FutureWarning: The frame.append method is deprecated and will be removed from pandas in a future version. Use pandas.concat instead.\n",
            "  df = df.append(new_row16, ignore_index=True)\n",
            "<ipython-input-35-079751cde519>:122: FutureWarning: The frame.append method is deprecated and will be removed from pandas in a future version. Use pandas.concat instead.\n",
            "  df = df.append(new_row17, ignore_index=True)\n",
            "<ipython-input-35-079751cde519>:124: FutureWarning: The frame.append method is deprecated and will be removed from pandas in a future version. Use pandas.concat instead.\n",
            "  df = df.append(new_row18, ignore_index=True)\n",
            "<ipython-input-35-079751cde519>:126: FutureWarning: The frame.append method is deprecated and will be removed from pandas in a future version. Use pandas.concat instead.\n",
            "  df = df.append(new_row19, ignore_index=True)\n",
            "<ipython-input-35-079751cde519>:128: FutureWarning: The frame.append method is deprecated and will be removed from pandas in a future version. Use pandas.concat instead.\n",
            "  df = df.append(new_row20, ignore_index=True)\n",
            "<ipython-input-35-079751cde519>:80: FutureWarning: The frame.append method is deprecated and will be removed from pandas in a future version. Use pandas.concat instead.\n",
            "  df = df.append(new_row1, ignore_index=True)\n",
            "<ipython-input-35-079751cde519>:82: FutureWarning: The frame.append method is deprecated and will be removed from pandas in a future version. Use pandas.concat instead.\n",
            "  df = df.append(new_row1a, ignore_index=True)\n",
            "<ipython-input-35-079751cde519>:84: FutureWarning: The frame.append method is deprecated and will be removed from pandas in a future version. Use pandas.concat instead.\n",
            "  df = df.append(new_row2, ignore_index=True)\n",
            "<ipython-input-35-079751cde519>:86: FutureWarning: The frame.append method is deprecated and will be removed from pandas in a future version. Use pandas.concat instead.\n",
            "  df = df.append(new_row3, ignore_index=True)\n",
            "<ipython-input-35-079751cde519>:88: FutureWarning: The frame.append method is deprecated and will be removed from pandas in a future version. Use pandas.concat instead.\n",
            "  df = df.append(new_row4, ignore_index=True)\n",
            "<ipython-input-35-079751cde519>:90: FutureWarning: The frame.append method is deprecated and will be removed from pandas in a future version. Use pandas.concat instead.\n",
            "  df = df.append(new_row4a, ignore_index=True)\n",
            "<ipython-input-35-079751cde519>:92: FutureWarning: The frame.append method is deprecated and will be removed from pandas in a future version. Use pandas.concat instead.\n",
            "  df = df.append(new_row5, ignore_index=True)\n",
            "<ipython-input-35-079751cde519>:94: FutureWarning: The frame.append method is deprecated and will be removed from pandas in a future version. Use pandas.concat instead.\n",
            "  df = df.append(new_row6, ignore_index=True)\n",
            "<ipython-input-35-079751cde519>:96: FutureWarning: The frame.append method is deprecated and will be removed from pandas in a future version. Use pandas.concat instead.\n",
            "  df = df.append(new_row7, ignore_index=True)\n",
            "<ipython-input-35-079751cde519>:98: FutureWarning: The frame.append method is deprecated and will be removed from pandas in a future version. Use pandas.concat instead.\n",
            "  df = df.append(new_row7a, ignore_index=True)\n",
            "<ipython-input-35-079751cde519>:100: FutureWarning: The frame.append method is deprecated and will be removed from pandas in a future version. Use pandas.concat instead.\n",
            "  df = df.append(new_row8, ignore_index=True)\n",
            "<ipython-input-35-079751cde519>:102: FutureWarning: The frame.append method is deprecated and will be removed from pandas in a future version. Use pandas.concat instead.\n",
            "  df = df.append(new_row9, ignore_index=True)\n",
            "<ipython-input-35-079751cde519>:104: FutureWarning: The frame.append method is deprecated and will be removed from pandas in a future version. Use pandas.concat instead.\n",
            "  df = df.append(new_row10, ignore_index=True)\n",
            "<ipython-input-35-079751cde519>:106: FutureWarning: The frame.append method is deprecated and will be removed from pandas in a future version. Use pandas.concat instead.\n",
            "  df = df.append(new_row10a, ignore_index=True)\n",
            "<ipython-input-35-079751cde519>:108: FutureWarning: The frame.append method is deprecated and will be removed from pandas in a future version. Use pandas.concat instead.\n",
            "  df = df.append(new_row11, ignore_index=True)\n",
            "<ipython-input-35-079751cde519>:110: FutureWarning: The frame.append method is deprecated and will be removed from pandas in a future version. Use pandas.concat instead.\n",
            "  df = df.append(new_row12, ignore_index=True)\n",
            "<ipython-input-35-079751cde519>:112: FutureWarning: The frame.append method is deprecated and will be removed from pandas in a future version. Use pandas.concat instead.\n",
            "  df = df.append(new_row13, ignore_index=True)\n",
            "<ipython-input-35-079751cde519>:114: FutureWarning: The frame.append method is deprecated and will be removed from pandas in a future version. Use pandas.concat instead.\n",
            "  df = df.append(new_row13a, ignore_index=True)\n",
            "<ipython-input-35-079751cde519>:116: FutureWarning: The frame.append method is deprecated and will be removed from pandas in a future version. Use pandas.concat instead.\n",
            "  df = df.append(new_row14, ignore_index=True)\n",
            "<ipython-input-35-079751cde519>:118: FutureWarning: The frame.append method is deprecated and will be removed from pandas in a future version. Use pandas.concat instead.\n",
            "  df = df.append(new_row15, ignore_index=True)\n",
            "<ipython-input-35-079751cde519>:120: FutureWarning: The frame.append method is deprecated and will be removed from pandas in a future version. Use pandas.concat instead.\n",
            "  df = df.append(new_row16, ignore_index=True)\n",
            "<ipython-input-35-079751cde519>:122: FutureWarning: The frame.append method is deprecated and will be removed from pandas in a future version. Use pandas.concat instead.\n",
            "  df = df.append(new_row17, ignore_index=True)\n",
            "<ipython-input-35-079751cde519>:124: FutureWarning: The frame.append method is deprecated and will be removed from pandas in a future version. Use pandas.concat instead.\n",
            "  df = df.append(new_row18, ignore_index=True)\n",
            "<ipython-input-35-079751cde519>:126: FutureWarning: The frame.append method is deprecated and will be removed from pandas in a future version. Use pandas.concat instead.\n",
            "  df = df.append(new_row19, ignore_index=True)\n",
            "<ipython-input-35-079751cde519>:128: FutureWarning: The frame.append method is deprecated and will be removed from pandas in a future version. Use pandas.concat instead.\n",
            "  df = df.append(new_row20, ignore_index=True)\n",
            "<ipython-input-35-079751cde519>:80: FutureWarning: The frame.append method is deprecated and will be removed from pandas in a future version. Use pandas.concat instead.\n",
            "  df = df.append(new_row1, ignore_index=True)\n",
            "<ipython-input-35-079751cde519>:82: FutureWarning: The frame.append method is deprecated and will be removed from pandas in a future version. Use pandas.concat instead.\n",
            "  df = df.append(new_row1a, ignore_index=True)\n",
            "<ipython-input-35-079751cde519>:84: FutureWarning: The frame.append method is deprecated and will be removed from pandas in a future version. Use pandas.concat instead.\n",
            "  df = df.append(new_row2, ignore_index=True)\n",
            "<ipython-input-35-079751cde519>:86: FutureWarning: The frame.append method is deprecated and will be removed from pandas in a future version. Use pandas.concat instead.\n",
            "  df = df.append(new_row3, ignore_index=True)\n",
            "<ipython-input-35-079751cde519>:88: FutureWarning: The frame.append method is deprecated and will be removed from pandas in a future version. Use pandas.concat instead.\n",
            "  df = df.append(new_row4, ignore_index=True)\n",
            "<ipython-input-35-079751cde519>:90: FutureWarning: The frame.append method is deprecated and will be removed from pandas in a future version. Use pandas.concat instead.\n",
            "  df = df.append(new_row4a, ignore_index=True)\n",
            "<ipython-input-35-079751cde519>:92: FutureWarning: The frame.append method is deprecated and will be removed from pandas in a future version. Use pandas.concat instead.\n",
            "  df = df.append(new_row5, ignore_index=True)\n",
            "<ipython-input-35-079751cde519>:94: FutureWarning: The frame.append method is deprecated and will be removed from pandas in a future version. Use pandas.concat instead.\n",
            "  df = df.append(new_row6, ignore_index=True)\n",
            "<ipython-input-35-079751cde519>:96: FutureWarning: The frame.append method is deprecated and will be removed from pandas in a future version. Use pandas.concat instead.\n",
            "  df = df.append(new_row7, ignore_index=True)\n",
            "<ipython-input-35-079751cde519>:98: FutureWarning: The frame.append method is deprecated and will be removed from pandas in a future version. Use pandas.concat instead.\n",
            "  df = df.append(new_row7a, ignore_index=True)\n",
            "<ipython-input-35-079751cde519>:100: FutureWarning: The frame.append method is deprecated and will be removed from pandas in a future version. Use pandas.concat instead.\n",
            "  df = df.append(new_row8, ignore_index=True)\n",
            "<ipython-input-35-079751cde519>:102: FutureWarning: The frame.append method is deprecated and will be removed from pandas in a future version. Use pandas.concat instead.\n",
            "  df = df.append(new_row9, ignore_index=True)\n",
            "<ipython-input-35-079751cde519>:104: FutureWarning: The frame.append method is deprecated and will be removed from pandas in a future version. Use pandas.concat instead.\n",
            "  df = df.append(new_row10, ignore_index=True)\n",
            "<ipython-input-35-079751cde519>:106: FutureWarning: The frame.append method is deprecated and will be removed from pandas in a future version. Use pandas.concat instead.\n",
            "  df = df.append(new_row10a, ignore_index=True)\n",
            "<ipython-input-35-079751cde519>:108: FutureWarning: The frame.append method is deprecated and will be removed from pandas in a future version. Use pandas.concat instead.\n",
            "  df = df.append(new_row11, ignore_index=True)\n",
            "<ipython-input-35-079751cde519>:110: FutureWarning: The frame.append method is deprecated and will be removed from pandas in a future version. Use pandas.concat instead.\n",
            "  df = df.append(new_row12, ignore_index=True)\n",
            "<ipython-input-35-079751cde519>:112: FutureWarning: The frame.append method is deprecated and will be removed from pandas in a future version. Use pandas.concat instead.\n",
            "  df = df.append(new_row13, ignore_index=True)\n",
            "<ipython-input-35-079751cde519>:114: FutureWarning: The frame.append method is deprecated and will be removed from pandas in a future version. Use pandas.concat instead.\n",
            "  df = df.append(new_row13a, ignore_index=True)\n",
            "<ipython-input-35-079751cde519>:116: FutureWarning: The frame.append method is deprecated and will be removed from pandas in a future version. Use pandas.concat instead.\n",
            "  df = df.append(new_row14, ignore_index=True)\n",
            "<ipython-input-35-079751cde519>:118: FutureWarning: The frame.append method is deprecated and will be removed from pandas in a future version. Use pandas.concat instead.\n",
            "  df = df.append(new_row15, ignore_index=True)\n",
            "<ipython-input-35-079751cde519>:120: FutureWarning: The frame.append method is deprecated and will be removed from pandas in a future version. Use pandas.concat instead.\n",
            "  df = df.append(new_row16, ignore_index=True)\n",
            "<ipython-input-35-079751cde519>:122: FutureWarning: The frame.append method is deprecated and will be removed from pandas in a future version. Use pandas.concat instead.\n",
            "  df = df.append(new_row17, ignore_index=True)\n",
            "<ipython-input-35-079751cde519>:124: FutureWarning: The frame.append method is deprecated and will be removed from pandas in a future version. Use pandas.concat instead.\n",
            "  df = df.append(new_row18, ignore_index=True)\n",
            "<ipython-input-35-079751cde519>:126: FutureWarning: The frame.append method is deprecated and will be removed from pandas in a future version. Use pandas.concat instead.\n",
            "  df = df.append(new_row19, ignore_index=True)\n",
            "<ipython-input-35-079751cde519>:128: FutureWarning: The frame.append method is deprecated and will be removed from pandas in a future version. Use pandas.concat instead.\n",
            "  df = df.append(new_row20, ignore_index=True)\n",
            "<ipython-input-35-079751cde519>:80: FutureWarning: The frame.append method is deprecated and will be removed from pandas in a future version. Use pandas.concat instead.\n",
            "  df = df.append(new_row1, ignore_index=True)\n",
            "<ipython-input-35-079751cde519>:82: FutureWarning: The frame.append method is deprecated and will be removed from pandas in a future version. Use pandas.concat instead.\n",
            "  df = df.append(new_row1a, ignore_index=True)\n",
            "<ipython-input-35-079751cde519>:84: FutureWarning: The frame.append method is deprecated and will be removed from pandas in a future version. Use pandas.concat instead.\n",
            "  df = df.append(new_row2, ignore_index=True)\n",
            "<ipython-input-35-079751cde519>:86: FutureWarning: The frame.append method is deprecated and will be removed from pandas in a future version. Use pandas.concat instead.\n",
            "  df = df.append(new_row3, ignore_index=True)\n",
            "<ipython-input-35-079751cde519>:88: FutureWarning: The frame.append method is deprecated and will be removed from pandas in a future version. Use pandas.concat instead.\n",
            "  df = df.append(new_row4, ignore_index=True)\n",
            "<ipython-input-35-079751cde519>:90: FutureWarning: The frame.append method is deprecated and will be removed from pandas in a future version. Use pandas.concat instead.\n",
            "  df = df.append(new_row4a, ignore_index=True)\n",
            "<ipython-input-35-079751cde519>:92: FutureWarning: The frame.append method is deprecated and will be removed from pandas in a future version. Use pandas.concat instead.\n",
            "  df = df.append(new_row5, ignore_index=True)\n",
            "<ipython-input-35-079751cde519>:94: FutureWarning: The frame.append method is deprecated and will be removed from pandas in a future version. Use pandas.concat instead.\n",
            "  df = df.append(new_row6, ignore_index=True)\n",
            "<ipython-input-35-079751cde519>:96: FutureWarning: The frame.append method is deprecated and will be removed from pandas in a future version. Use pandas.concat instead.\n",
            "  df = df.append(new_row7, ignore_index=True)\n",
            "<ipython-input-35-079751cde519>:98: FutureWarning: The frame.append method is deprecated and will be removed from pandas in a future version. Use pandas.concat instead.\n",
            "  df = df.append(new_row7a, ignore_index=True)\n",
            "<ipython-input-35-079751cde519>:100: FutureWarning: The frame.append method is deprecated and will be removed from pandas in a future version. Use pandas.concat instead.\n",
            "  df = df.append(new_row8, ignore_index=True)\n",
            "<ipython-input-35-079751cde519>:102: FutureWarning: The frame.append method is deprecated and will be removed from pandas in a future version. Use pandas.concat instead.\n",
            "  df = df.append(new_row9, ignore_index=True)\n",
            "<ipython-input-35-079751cde519>:104: FutureWarning: The frame.append method is deprecated and will be removed from pandas in a future version. Use pandas.concat instead.\n",
            "  df = df.append(new_row10, ignore_index=True)\n",
            "<ipython-input-35-079751cde519>:106: FutureWarning: The frame.append method is deprecated and will be removed from pandas in a future version. Use pandas.concat instead.\n",
            "  df = df.append(new_row10a, ignore_index=True)\n",
            "<ipython-input-35-079751cde519>:108: FutureWarning: The frame.append method is deprecated and will be removed from pandas in a future version. Use pandas.concat instead.\n",
            "  df = df.append(new_row11, ignore_index=True)\n",
            "<ipython-input-35-079751cde519>:110: FutureWarning: The frame.append method is deprecated and will be removed from pandas in a future version. Use pandas.concat instead.\n",
            "  df = df.append(new_row12, ignore_index=True)\n",
            "<ipython-input-35-079751cde519>:112: FutureWarning: The frame.append method is deprecated and will be removed from pandas in a future version. Use pandas.concat instead.\n",
            "  df = df.append(new_row13, ignore_index=True)\n",
            "<ipython-input-35-079751cde519>:114: FutureWarning: The frame.append method is deprecated and will be removed from pandas in a future version. Use pandas.concat instead.\n",
            "  df = df.append(new_row13a, ignore_index=True)\n",
            "<ipython-input-35-079751cde519>:116: FutureWarning: The frame.append method is deprecated and will be removed from pandas in a future version. Use pandas.concat instead.\n",
            "  df = df.append(new_row14, ignore_index=True)\n",
            "<ipython-input-35-079751cde519>:118: FutureWarning: The frame.append method is deprecated and will be removed from pandas in a future version. Use pandas.concat instead.\n",
            "  df = df.append(new_row15, ignore_index=True)\n",
            "<ipython-input-35-079751cde519>:120: FutureWarning: The frame.append method is deprecated and will be removed from pandas in a future version. Use pandas.concat instead.\n",
            "  df = df.append(new_row16, ignore_index=True)\n",
            "<ipython-input-35-079751cde519>:122: FutureWarning: The frame.append method is deprecated and will be removed from pandas in a future version. Use pandas.concat instead.\n",
            "  df = df.append(new_row17, ignore_index=True)\n",
            "<ipython-input-35-079751cde519>:124: FutureWarning: The frame.append method is deprecated and will be removed from pandas in a future version. Use pandas.concat instead.\n",
            "  df = df.append(new_row18, ignore_index=True)\n",
            "<ipython-input-35-079751cde519>:126: FutureWarning: The frame.append method is deprecated and will be removed from pandas in a future version. Use pandas.concat instead.\n",
            "  df = df.append(new_row19, ignore_index=True)\n",
            "<ipython-input-35-079751cde519>:128: FutureWarning: The frame.append method is deprecated and will be removed from pandas in a future version. Use pandas.concat instead.\n",
            "  df = df.append(new_row20, ignore_index=True)\n",
            "<ipython-input-35-079751cde519>:80: FutureWarning: The frame.append method is deprecated and will be removed from pandas in a future version. Use pandas.concat instead.\n",
            "  df = df.append(new_row1, ignore_index=True)\n",
            "<ipython-input-35-079751cde519>:82: FutureWarning: The frame.append method is deprecated and will be removed from pandas in a future version. Use pandas.concat instead.\n",
            "  df = df.append(new_row1a, ignore_index=True)\n",
            "<ipython-input-35-079751cde519>:84: FutureWarning: The frame.append method is deprecated and will be removed from pandas in a future version. Use pandas.concat instead.\n",
            "  df = df.append(new_row2, ignore_index=True)\n",
            "<ipython-input-35-079751cde519>:86: FutureWarning: The frame.append method is deprecated and will be removed from pandas in a future version. Use pandas.concat instead.\n",
            "  df = df.append(new_row3, ignore_index=True)\n",
            "<ipython-input-35-079751cde519>:88: FutureWarning: The frame.append method is deprecated and will be removed from pandas in a future version. Use pandas.concat instead.\n",
            "  df = df.append(new_row4, ignore_index=True)\n",
            "<ipython-input-35-079751cde519>:90: FutureWarning: The frame.append method is deprecated and will be removed from pandas in a future version. Use pandas.concat instead.\n",
            "  df = df.append(new_row4a, ignore_index=True)\n",
            "<ipython-input-35-079751cde519>:92: FutureWarning: The frame.append method is deprecated and will be removed from pandas in a future version. Use pandas.concat instead.\n",
            "  df = df.append(new_row5, ignore_index=True)\n",
            "<ipython-input-35-079751cde519>:94: FutureWarning: The frame.append method is deprecated and will be removed from pandas in a future version. Use pandas.concat instead.\n",
            "  df = df.append(new_row6, ignore_index=True)\n",
            "<ipython-input-35-079751cde519>:96: FutureWarning: The frame.append method is deprecated and will be removed from pandas in a future version. Use pandas.concat instead.\n",
            "  df = df.append(new_row7, ignore_index=True)\n",
            "<ipython-input-35-079751cde519>:98: FutureWarning: The frame.append method is deprecated and will be removed from pandas in a future version. Use pandas.concat instead.\n",
            "  df = df.append(new_row7a, ignore_index=True)\n",
            "<ipython-input-35-079751cde519>:100: FutureWarning: The frame.append method is deprecated and will be removed from pandas in a future version. Use pandas.concat instead.\n",
            "  df = df.append(new_row8, ignore_index=True)\n",
            "<ipython-input-35-079751cde519>:102: FutureWarning: The frame.append method is deprecated and will be removed from pandas in a future version. Use pandas.concat instead.\n",
            "  df = df.append(new_row9, ignore_index=True)\n",
            "<ipython-input-35-079751cde519>:104: FutureWarning: The frame.append method is deprecated and will be removed from pandas in a future version. Use pandas.concat instead.\n",
            "  df = df.append(new_row10, ignore_index=True)\n",
            "<ipython-input-35-079751cde519>:106: FutureWarning: The frame.append method is deprecated and will be removed from pandas in a future version. Use pandas.concat instead.\n",
            "  df = df.append(new_row10a, ignore_index=True)\n",
            "<ipython-input-35-079751cde519>:108: FutureWarning: The frame.append method is deprecated and will be removed from pandas in a future version. Use pandas.concat instead.\n",
            "  df = df.append(new_row11, ignore_index=True)\n",
            "<ipython-input-35-079751cde519>:110: FutureWarning: The frame.append method is deprecated and will be removed from pandas in a future version. Use pandas.concat instead.\n",
            "  df = df.append(new_row12, ignore_index=True)\n",
            "<ipython-input-35-079751cde519>:112: FutureWarning: The frame.append method is deprecated and will be removed from pandas in a future version. Use pandas.concat instead.\n",
            "  df = df.append(new_row13, ignore_index=True)\n",
            "<ipython-input-35-079751cde519>:114: FutureWarning: The frame.append method is deprecated and will be removed from pandas in a future version. Use pandas.concat instead.\n",
            "  df = df.append(new_row13a, ignore_index=True)\n",
            "<ipython-input-35-079751cde519>:116: FutureWarning: The frame.append method is deprecated and will be removed from pandas in a future version. Use pandas.concat instead.\n",
            "  df = df.append(new_row14, ignore_index=True)\n",
            "<ipython-input-35-079751cde519>:118: FutureWarning: The frame.append method is deprecated and will be removed from pandas in a future version. Use pandas.concat instead.\n",
            "  df = df.append(new_row15, ignore_index=True)\n",
            "<ipython-input-35-079751cde519>:120: FutureWarning: The frame.append method is deprecated and will be removed from pandas in a future version. Use pandas.concat instead.\n",
            "  df = df.append(new_row16, ignore_index=True)\n",
            "<ipython-input-35-079751cde519>:122: FutureWarning: The frame.append method is deprecated and will be removed from pandas in a future version. Use pandas.concat instead.\n",
            "  df = df.append(new_row17, ignore_index=True)\n",
            "<ipython-input-35-079751cde519>:124: FutureWarning: The frame.append method is deprecated and will be removed from pandas in a future version. Use pandas.concat instead.\n",
            "  df = df.append(new_row18, ignore_index=True)\n",
            "<ipython-input-35-079751cde519>:126: FutureWarning: The frame.append method is deprecated and will be removed from pandas in a future version. Use pandas.concat instead.\n",
            "  df = df.append(new_row19, ignore_index=True)\n",
            "<ipython-input-35-079751cde519>:128: FutureWarning: The frame.append method is deprecated and will be removed from pandas in a future version. Use pandas.concat instead.\n",
            "  df = df.append(new_row20, ignore_index=True)\n",
            "<ipython-input-35-079751cde519>:80: FutureWarning: The frame.append method is deprecated and will be removed from pandas in a future version. Use pandas.concat instead.\n",
            "  df = df.append(new_row1, ignore_index=True)\n",
            "<ipython-input-35-079751cde519>:82: FutureWarning: The frame.append method is deprecated and will be removed from pandas in a future version. Use pandas.concat instead.\n",
            "  df = df.append(new_row1a, ignore_index=True)\n",
            "<ipython-input-35-079751cde519>:84: FutureWarning: The frame.append method is deprecated and will be removed from pandas in a future version. Use pandas.concat instead.\n",
            "  df = df.append(new_row2, ignore_index=True)\n",
            "<ipython-input-35-079751cde519>:86: FutureWarning: The frame.append method is deprecated and will be removed from pandas in a future version. Use pandas.concat instead.\n",
            "  df = df.append(new_row3, ignore_index=True)\n",
            "<ipython-input-35-079751cde519>:88: FutureWarning: The frame.append method is deprecated and will be removed from pandas in a future version. Use pandas.concat instead.\n",
            "  df = df.append(new_row4, ignore_index=True)\n",
            "<ipython-input-35-079751cde519>:90: FutureWarning: The frame.append method is deprecated and will be removed from pandas in a future version. Use pandas.concat instead.\n",
            "  df = df.append(new_row4a, ignore_index=True)\n",
            "<ipython-input-35-079751cde519>:92: FutureWarning: The frame.append method is deprecated and will be removed from pandas in a future version. Use pandas.concat instead.\n",
            "  df = df.append(new_row5, ignore_index=True)\n",
            "<ipython-input-35-079751cde519>:94: FutureWarning: The frame.append method is deprecated and will be removed from pandas in a future version. Use pandas.concat instead.\n",
            "  df = df.append(new_row6, ignore_index=True)\n",
            "<ipython-input-35-079751cde519>:96: FutureWarning: The frame.append method is deprecated and will be removed from pandas in a future version. Use pandas.concat instead.\n",
            "  df = df.append(new_row7, ignore_index=True)\n",
            "<ipython-input-35-079751cde519>:98: FutureWarning: The frame.append method is deprecated and will be removed from pandas in a future version. Use pandas.concat instead.\n",
            "  df = df.append(new_row7a, ignore_index=True)\n",
            "<ipython-input-35-079751cde519>:100: FutureWarning: The frame.append method is deprecated and will be removed from pandas in a future version. Use pandas.concat instead.\n",
            "  df = df.append(new_row8, ignore_index=True)\n",
            "<ipython-input-35-079751cde519>:102: FutureWarning: The frame.append method is deprecated and will be removed from pandas in a future version. Use pandas.concat instead.\n",
            "  df = df.append(new_row9, ignore_index=True)\n",
            "<ipython-input-35-079751cde519>:104: FutureWarning: The frame.append method is deprecated and will be removed from pandas in a future version. Use pandas.concat instead.\n",
            "  df = df.append(new_row10, ignore_index=True)\n",
            "<ipython-input-35-079751cde519>:106: FutureWarning: The frame.append method is deprecated and will be removed from pandas in a future version. Use pandas.concat instead.\n",
            "  df = df.append(new_row10a, ignore_index=True)\n",
            "<ipython-input-35-079751cde519>:108: FutureWarning: The frame.append method is deprecated and will be removed from pandas in a future version. Use pandas.concat instead.\n",
            "  df = df.append(new_row11, ignore_index=True)\n",
            "<ipython-input-35-079751cde519>:110: FutureWarning: The frame.append method is deprecated and will be removed from pandas in a future version. Use pandas.concat instead.\n",
            "  df = df.append(new_row12, ignore_index=True)\n",
            "<ipython-input-35-079751cde519>:112: FutureWarning: The frame.append method is deprecated and will be removed from pandas in a future version. Use pandas.concat instead.\n",
            "  df = df.append(new_row13, ignore_index=True)\n",
            "<ipython-input-35-079751cde519>:114: FutureWarning: The frame.append method is deprecated and will be removed from pandas in a future version. Use pandas.concat instead.\n",
            "  df = df.append(new_row13a, ignore_index=True)\n",
            "<ipython-input-35-079751cde519>:116: FutureWarning: The frame.append method is deprecated and will be removed from pandas in a future version. Use pandas.concat instead.\n",
            "  df = df.append(new_row14, ignore_index=True)\n",
            "<ipython-input-35-079751cde519>:118: FutureWarning: The frame.append method is deprecated and will be removed from pandas in a future version. Use pandas.concat instead.\n",
            "  df = df.append(new_row15, ignore_index=True)\n",
            "<ipython-input-35-079751cde519>:120: FutureWarning: The frame.append method is deprecated and will be removed from pandas in a future version. Use pandas.concat instead.\n",
            "  df = df.append(new_row16, ignore_index=True)\n",
            "<ipython-input-35-079751cde519>:122: FutureWarning: The frame.append method is deprecated and will be removed from pandas in a future version. Use pandas.concat instead.\n",
            "  df = df.append(new_row17, ignore_index=True)\n",
            "<ipython-input-35-079751cde519>:124: FutureWarning: The frame.append method is deprecated and will be removed from pandas in a future version. Use pandas.concat instead.\n",
            "  df = df.append(new_row18, ignore_index=True)\n",
            "<ipython-input-35-079751cde519>:126: FutureWarning: The frame.append method is deprecated and will be removed from pandas in a future version. Use pandas.concat instead.\n",
            "  df = df.append(new_row19, ignore_index=True)\n",
            "<ipython-input-35-079751cde519>:128: FutureWarning: The frame.append method is deprecated and will be removed from pandas in a future version. Use pandas.concat instead.\n",
            "  df = df.append(new_row20, ignore_index=True)\n",
            "<ipython-input-35-079751cde519>:80: FutureWarning: The frame.append method is deprecated and will be removed from pandas in a future version. Use pandas.concat instead.\n",
            "  df = df.append(new_row1, ignore_index=True)\n",
            "<ipython-input-35-079751cde519>:82: FutureWarning: The frame.append method is deprecated and will be removed from pandas in a future version. Use pandas.concat instead.\n",
            "  df = df.append(new_row1a, ignore_index=True)\n",
            "<ipython-input-35-079751cde519>:84: FutureWarning: The frame.append method is deprecated and will be removed from pandas in a future version. Use pandas.concat instead.\n",
            "  df = df.append(new_row2, ignore_index=True)\n",
            "<ipython-input-35-079751cde519>:86: FutureWarning: The frame.append method is deprecated and will be removed from pandas in a future version. Use pandas.concat instead.\n",
            "  df = df.append(new_row3, ignore_index=True)\n",
            "<ipython-input-35-079751cde519>:88: FutureWarning: The frame.append method is deprecated and will be removed from pandas in a future version. Use pandas.concat instead.\n",
            "  df = df.append(new_row4, ignore_index=True)\n",
            "<ipython-input-35-079751cde519>:90: FutureWarning: The frame.append method is deprecated and will be removed from pandas in a future version. Use pandas.concat instead.\n",
            "  df = df.append(new_row4a, ignore_index=True)\n",
            "<ipython-input-35-079751cde519>:92: FutureWarning: The frame.append method is deprecated and will be removed from pandas in a future version. Use pandas.concat instead.\n",
            "  df = df.append(new_row5, ignore_index=True)\n",
            "<ipython-input-35-079751cde519>:94: FutureWarning: The frame.append method is deprecated and will be removed from pandas in a future version. Use pandas.concat instead.\n",
            "  df = df.append(new_row6, ignore_index=True)\n",
            "<ipython-input-35-079751cde519>:96: FutureWarning: The frame.append method is deprecated and will be removed from pandas in a future version. Use pandas.concat instead.\n",
            "  df = df.append(new_row7, ignore_index=True)\n",
            "<ipython-input-35-079751cde519>:98: FutureWarning: The frame.append method is deprecated and will be removed from pandas in a future version. Use pandas.concat instead.\n",
            "  df = df.append(new_row7a, ignore_index=True)\n",
            "<ipython-input-35-079751cde519>:100: FutureWarning: The frame.append method is deprecated and will be removed from pandas in a future version. Use pandas.concat instead.\n",
            "  df = df.append(new_row8, ignore_index=True)\n",
            "<ipython-input-35-079751cde519>:102: FutureWarning: The frame.append method is deprecated and will be removed from pandas in a future version. Use pandas.concat instead.\n",
            "  df = df.append(new_row9, ignore_index=True)\n",
            "<ipython-input-35-079751cde519>:104: FutureWarning: The frame.append method is deprecated and will be removed from pandas in a future version. Use pandas.concat instead.\n",
            "  df = df.append(new_row10, ignore_index=True)\n",
            "<ipython-input-35-079751cde519>:106: FutureWarning: The frame.append method is deprecated and will be removed from pandas in a future version. Use pandas.concat instead.\n",
            "  df = df.append(new_row10a, ignore_index=True)\n",
            "<ipython-input-35-079751cde519>:108: FutureWarning: The frame.append method is deprecated and will be removed from pandas in a future version. Use pandas.concat instead.\n",
            "  df = df.append(new_row11, ignore_index=True)\n",
            "<ipython-input-35-079751cde519>:110: FutureWarning: The frame.append method is deprecated and will be removed from pandas in a future version. Use pandas.concat instead.\n",
            "  df = df.append(new_row12, ignore_index=True)\n",
            "<ipython-input-35-079751cde519>:112: FutureWarning: The frame.append method is deprecated and will be removed from pandas in a future version. Use pandas.concat instead.\n",
            "  df = df.append(new_row13, ignore_index=True)\n",
            "<ipython-input-35-079751cde519>:114: FutureWarning: The frame.append method is deprecated and will be removed from pandas in a future version. Use pandas.concat instead.\n",
            "  df = df.append(new_row13a, ignore_index=True)\n",
            "<ipython-input-35-079751cde519>:116: FutureWarning: The frame.append method is deprecated and will be removed from pandas in a future version. Use pandas.concat instead.\n",
            "  df = df.append(new_row14, ignore_index=True)\n",
            "<ipython-input-35-079751cde519>:118: FutureWarning: The frame.append method is deprecated and will be removed from pandas in a future version. Use pandas.concat instead.\n",
            "  df = df.append(new_row15, ignore_index=True)\n",
            "<ipython-input-35-079751cde519>:120: FutureWarning: The frame.append method is deprecated and will be removed from pandas in a future version. Use pandas.concat instead.\n",
            "  df = df.append(new_row16, ignore_index=True)\n",
            "<ipython-input-35-079751cde519>:122: FutureWarning: The frame.append method is deprecated and will be removed from pandas in a future version. Use pandas.concat instead.\n",
            "  df = df.append(new_row17, ignore_index=True)\n",
            "<ipython-input-35-079751cde519>:124: FutureWarning: The frame.append method is deprecated and will be removed from pandas in a future version. Use pandas.concat instead.\n",
            "  df = df.append(new_row18, ignore_index=True)\n",
            "<ipython-input-35-079751cde519>:126: FutureWarning: The frame.append method is deprecated and will be removed from pandas in a future version. Use pandas.concat instead.\n",
            "  df = df.append(new_row19, ignore_index=True)\n",
            "<ipython-input-35-079751cde519>:128: FutureWarning: The frame.append method is deprecated and will be removed from pandas in a future version. Use pandas.concat instead.\n",
            "  df = df.append(new_row20, ignore_index=True)\n",
            "<ipython-input-35-079751cde519>:80: FutureWarning: The frame.append method is deprecated and will be removed from pandas in a future version. Use pandas.concat instead.\n",
            "  df = df.append(new_row1, ignore_index=True)\n",
            "<ipython-input-35-079751cde519>:82: FutureWarning: The frame.append method is deprecated and will be removed from pandas in a future version. Use pandas.concat instead.\n",
            "  df = df.append(new_row1a, ignore_index=True)\n",
            "<ipython-input-35-079751cde519>:84: FutureWarning: The frame.append method is deprecated and will be removed from pandas in a future version. Use pandas.concat instead.\n",
            "  df = df.append(new_row2, ignore_index=True)\n",
            "<ipython-input-35-079751cde519>:86: FutureWarning: The frame.append method is deprecated and will be removed from pandas in a future version. Use pandas.concat instead.\n",
            "  df = df.append(new_row3, ignore_index=True)\n",
            "<ipython-input-35-079751cde519>:88: FutureWarning: The frame.append method is deprecated and will be removed from pandas in a future version. Use pandas.concat instead.\n",
            "  df = df.append(new_row4, ignore_index=True)\n",
            "<ipython-input-35-079751cde519>:90: FutureWarning: The frame.append method is deprecated and will be removed from pandas in a future version. Use pandas.concat instead.\n",
            "  df = df.append(new_row4a, ignore_index=True)\n",
            "<ipython-input-35-079751cde519>:92: FutureWarning: The frame.append method is deprecated and will be removed from pandas in a future version. Use pandas.concat instead.\n",
            "  df = df.append(new_row5, ignore_index=True)\n",
            "<ipython-input-35-079751cde519>:94: FutureWarning: The frame.append method is deprecated and will be removed from pandas in a future version. Use pandas.concat instead.\n",
            "  df = df.append(new_row6, ignore_index=True)\n",
            "<ipython-input-35-079751cde519>:96: FutureWarning: The frame.append method is deprecated and will be removed from pandas in a future version. Use pandas.concat instead.\n",
            "  df = df.append(new_row7, ignore_index=True)\n",
            "<ipython-input-35-079751cde519>:98: FutureWarning: The frame.append method is deprecated and will be removed from pandas in a future version. Use pandas.concat instead.\n",
            "  df = df.append(new_row7a, ignore_index=True)\n",
            "<ipython-input-35-079751cde519>:100: FutureWarning: The frame.append method is deprecated and will be removed from pandas in a future version. Use pandas.concat instead.\n",
            "  df = df.append(new_row8, ignore_index=True)\n",
            "<ipython-input-35-079751cde519>:102: FutureWarning: The frame.append method is deprecated and will be removed from pandas in a future version. Use pandas.concat instead.\n",
            "  df = df.append(new_row9, ignore_index=True)\n",
            "<ipython-input-35-079751cde519>:104: FutureWarning: The frame.append method is deprecated and will be removed from pandas in a future version. Use pandas.concat instead.\n",
            "  df = df.append(new_row10, ignore_index=True)\n",
            "<ipython-input-35-079751cde519>:106: FutureWarning: The frame.append method is deprecated and will be removed from pandas in a future version. Use pandas.concat instead.\n",
            "  df = df.append(new_row10a, ignore_index=True)\n",
            "<ipython-input-35-079751cde519>:108: FutureWarning: The frame.append method is deprecated and will be removed from pandas in a future version. Use pandas.concat instead.\n",
            "  df = df.append(new_row11, ignore_index=True)\n",
            "<ipython-input-35-079751cde519>:110: FutureWarning: The frame.append method is deprecated and will be removed from pandas in a future version. Use pandas.concat instead.\n",
            "  df = df.append(new_row12, ignore_index=True)\n",
            "<ipython-input-35-079751cde519>:112: FutureWarning: The frame.append method is deprecated and will be removed from pandas in a future version. Use pandas.concat instead.\n",
            "  df = df.append(new_row13, ignore_index=True)\n",
            "<ipython-input-35-079751cde519>:114: FutureWarning: The frame.append method is deprecated and will be removed from pandas in a future version. Use pandas.concat instead.\n",
            "  df = df.append(new_row13a, ignore_index=True)\n",
            "<ipython-input-35-079751cde519>:116: FutureWarning: The frame.append method is deprecated and will be removed from pandas in a future version. Use pandas.concat instead.\n",
            "  df = df.append(new_row14, ignore_index=True)\n",
            "<ipython-input-35-079751cde519>:118: FutureWarning: The frame.append method is deprecated and will be removed from pandas in a future version. Use pandas.concat instead.\n",
            "  df = df.append(new_row15, ignore_index=True)\n",
            "<ipython-input-35-079751cde519>:120: FutureWarning: The frame.append method is deprecated and will be removed from pandas in a future version. Use pandas.concat instead.\n",
            "  df = df.append(new_row16, ignore_index=True)\n",
            "<ipython-input-35-079751cde519>:122: FutureWarning: The frame.append method is deprecated and will be removed from pandas in a future version. Use pandas.concat instead.\n",
            "  df = df.append(new_row17, ignore_index=True)\n",
            "<ipython-input-35-079751cde519>:124: FutureWarning: The frame.append method is deprecated and will be removed from pandas in a future version. Use pandas.concat instead.\n",
            "  df = df.append(new_row18, ignore_index=True)\n",
            "<ipython-input-35-079751cde519>:126: FutureWarning: The frame.append method is deprecated and will be removed from pandas in a future version. Use pandas.concat instead.\n",
            "  df = df.append(new_row19, ignore_index=True)\n",
            "<ipython-input-35-079751cde519>:128: FutureWarning: The frame.append method is deprecated and will be removed from pandas in a future version. Use pandas.concat instead.\n",
            "  df = df.append(new_row20, ignore_index=True)\n",
            "<ipython-input-35-079751cde519>:80: FutureWarning: The frame.append method is deprecated and will be removed from pandas in a future version. Use pandas.concat instead.\n",
            "  df = df.append(new_row1, ignore_index=True)\n",
            "<ipython-input-35-079751cde519>:82: FutureWarning: The frame.append method is deprecated and will be removed from pandas in a future version. Use pandas.concat instead.\n",
            "  df = df.append(new_row1a, ignore_index=True)\n",
            "<ipython-input-35-079751cde519>:84: FutureWarning: The frame.append method is deprecated and will be removed from pandas in a future version. Use pandas.concat instead.\n",
            "  df = df.append(new_row2, ignore_index=True)\n",
            "<ipython-input-35-079751cde519>:86: FutureWarning: The frame.append method is deprecated and will be removed from pandas in a future version. Use pandas.concat instead.\n",
            "  df = df.append(new_row3, ignore_index=True)\n",
            "<ipython-input-35-079751cde519>:88: FutureWarning: The frame.append method is deprecated and will be removed from pandas in a future version. Use pandas.concat instead.\n",
            "  df = df.append(new_row4, ignore_index=True)\n",
            "<ipython-input-35-079751cde519>:90: FutureWarning: The frame.append method is deprecated and will be removed from pandas in a future version. Use pandas.concat instead.\n",
            "  df = df.append(new_row4a, ignore_index=True)\n",
            "<ipython-input-35-079751cde519>:92: FutureWarning: The frame.append method is deprecated and will be removed from pandas in a future version. Use pandas.concat instead.\n",
            "  df = df.append(new_row5, ignore_index=True)\n",
            "<ipython-input-35-079751cde519>:94: FutureWarning: The frame.append method is deprecated and will be removed from pandas in a future version. Use pandas.concat instead.\n",
            "  df = df.append(new_row6, ignore_index=True)\n",
            "<ipython-input-35-079751cde519>:96: FutureWarning: The frame.append method is deprecated and will be removed from pandas in a future version. Use pandas.concat instead.\n",
            "  df = df.append(new_row7, ignore_index=True)\n",
            "<ipython-input-35-079751cde519>:98: FutureWarning: The frame.append method is deprecated and will be removed from pandas in a future version. Use pandas.concat instead.\n",
            "  df = df.append(new_row7a, ignore_index=True)\n",
            "<ipython-input-35-079751cde519>:100: FutureWarning: The frame.append method is deprecated and will be removed from pandas in a future version. Use pandas.concat instead.\n",
            "  df = df.append(new_row8, ignore_index=True)\n",
            "<ipython-input-35-079751cde519>:102: FutureWarning: The frame.append method is deprecated and will be removed from pandas in a future version. Use pandas.concat instead.\n",
            "  df = df.append(new_row9, ignore_index=True)\n",
            "<ipython-input-35-079751cde519>:104: FutureWarning: The frame.append method is deprecated and will be removed from pandas in a future version. Use pandas.concat instead.\n",
            "  df = df.append(new_row10, ignore_index=True)\n",
            "<ipython-input-35-079751cde519>:106: FutureWarning: The frame.append method is deprecated and will be removed from pandas in a future version. Use pandas.concat instead.\n",
            "  df = df.append(new_row10a, ignore_index=True)\n",
            "<ipython-input-35-079751cde519>:108: FutureWarning: The frame.append method is deprecated and will be removed from pandas in a future version. Use pandas.concat instead.\n",
            "  df = df.append(new_row11, ignore_index=True)\n",
            "<ipython-input-35-079751cde519>:110: FutureWarning: The frame.append method is deprecated and will be removed from pandas in a future version. Use pandas.concat instead.\n",
            "  df = df.append(new_row12, ignore_index=True)\n",
            "<ipython-input-35-079751cde519>:112: FutureWarning: The frame.append method is deprecated and will be removed from pandas in a future version. Use pandas.concat instead.\n",
            "  df = df.append(new_row13, ignore_index=True)\n",
            "<ipython-input-35-079751cde519>:114: FutureWarning: The frame.append method is deprecated and will be removed from pandas in a future version. Use pandas.concat instead.\n",
            "  df = df.append(new_row13a, ignore_index=True)\n",
            "<ipython-input-35-079751cde519>:116: FutureWarning: The frame.append method is deprecated and will be removed from pandas in a future version. Use pandas.concat instead.\n",
            "  df = df.append(new_row14, ignore_index=True)\n",
            "<ipython-input-35-079751cde519>:118: FutureWarning: The frame.append method is deprecated and will be removed from pandas in a future version. Use pandas.concat instead.\n",
            "  df = df.append(new_row15, ignore_index=True)\n",
            "<ipython-input-35-079751cde519>:120: FutureWarning: The frame.append method is deprecated and will be removed from pandas in a future version. Use pandas.concat instead.\n",
            "  df = df.append(new_row16, ignore_index=True)\n",
            "<ipython-input-35-079751cde519>:122: FutureWarning: The frame.append method is deprecated and will be removed from pandas in a future version. Use pandas.concat instead.\n",
            "  df = df.append(new_row17, ignore_index=True)\n",
            "<ipython-input-35-079751cde519>:124: FutureWarning: The frame.append method is deprecated and will be removed from pandas in a future version. Use pandas.concat instead.\n",
            "  df = df.append(new_row18, ignore_index=True)\n",
            "<ipython-input-35-079751cde519>:126: FutureWarning: The frame.append method is deprecated and will be removed from pandas in a future version. Use pandas.concat instead.\n",
            "  df = df.append(new_row19, ignore_index=True)\n",
            "<ipython-input-35-079751cde519>:128: FutureWarning: The frame.append method is deprecated and will be removed from pandas in a future version. Use pandas.concat instead.\n",
            "  df = df.append(new_row20, ignore_index=True)\n",
            "<ipython-input-35-079751cde519>:80: FutureWarning: The frame.append method is deprecated and will be removed from pandas in a future version. Use pandas.concat instead.\n",
            "  df = df.append(new_row1, ignore_index=True)\n",
            "<ipython-input-35-079751cde519>:82: FutureWarning: The frame.append method is deprecated and will be removed from pandas in a future version. Use pandas.concat instead.\n",
            "  df = df.append(new_row1a, ignore_index=True)\n",
            "<ipython-input-35-079751cde519>:84: FutureWarning: The frame.append method is deprecated and will be removed from pandas in a future version. Use pandas.concat instead.\n",
            "  df = df.append(new_row2, ignore_index=True)\n",
            "<ipython-input-35-079751cde519>:86: FutureWarning: The frame.append method is deprecated and will be removed from pandas in a future version. Use pandas.concat instead.\n",
            "  df = df.append(new_row3, ignore_index=True)\n",
            "<ipython-input-35-079751cde519>:88: FutureWarning: The frame.append method is deprecated and will be removed from pandas in a future version. Use pandas.concat instead.\n",
            "  df = df.append(new_row4, ignore_index=True)\n",
            "<ipython-input-35-079751cde519>:90: FutureWarning: The frame.append method is deprecated and will be removed from pandas in a future version. Use pandas.concat instead.\n",
            "  df = df.append(new_row4a, ignore_index=True)\n",
            "<ipython-input-35-079751cde519>:92: FutureWarning: The frame.append method is deprecated and will be removed from pandas in a future version. Use pandas.concat instead.\n",
            "  df = df.append(new_row5, ignore_index=True)\n",
            "<ipython-input-35-079751cde519>:94: FutureWarning: The frame.append method is deprecated and will be removed from pandas in a future version. Use pandas.concat instead.\n",
            "  df = df.append(new_row6, ignore_index=True)\n",
            "<ipython-input-35-079751cde519>:96: FutureWarning: The frame.append method is deprecated and will be removed from pandas in a future version. Use pandas.concat instead.\n",
            "  df = df.append(new_row7, ignore_index=True)\n",
            "<ipython-input-35-079751cde519>:98: FutureWarning: The frame.append method is deprecated and will be removed from pandas in a future version. Use pandas.concat instead.\n",
            "  df = df.append(new_row7a, ignore_index=True)\n",
            "<ipython-input-35-079751cde519>:100: FutureWarning: The frame.append method is deprecated and will be removed from pandas in a future version. Use pandas.concat instead.\n",
            "  df = df.append(new_row8, ignore_index=True)\n",
            "<ipython-input-35-079751cde519>:102: FutureWarning: The frame.append method is deprecated and will be removed from pandas in a future version. Use pandas.concat instead.\n",
            "  df = df.append(new_row9, ignore_index=True)\n",
            "<ipython-input-35-079751cde519>:104: FutureWarning: The frame.append method is deprecated and will be removed from pandas in a future version. Use pandas.concat instead.\n",
            "  df = df.append(new_row10, ignore_index=True)\n",
            "<ipython-input-35-079751cde519>:106: FutureWarning: The frame.append method is deprecated and will be removed from pandas in a future version. Use pandas.concat instead.\n",
            "  df = df.append(new_row10a, ignore_index=True)\n",
            "<ipython-input-35-079751cde519>:108: FutureWarning: The frame.append method is deprecated and will be removed from pandas in a future version. Use pandas.concat instead.\n",
            "  df = df.append(new_row11, ignore_index=True)\n",
            "<ipython-input-35-079751cde519>:110: FutureWarning: The frame.append method is deprecated and will be removed from pandas in a future version. Use pandas.concat instead.\n",
            "  df = df.append(new_row12, ignore_index=True)\n",
            "<ipython-input-35-079751cde519>:112: FutureWarning: The frame.append method is deprecated and will be removed from pandas in a future version. Use pandas.concat instead.\n",
            "  df = df.append(new_row13, ignore_index=True)\n",
            "<ipython-input-35-079751cde519>:114: FutureWarning: The frame.append method is deprecated and will be removed from pandas in a future version. Use pandas.concat instead.\n",
            "  df = df.append(new_row13a, ignore_index=True)\n",
            "<ipython-input-35-079751cde519>:116: FutureWarning: The frame.append method is deprecated and will be removed from pandas in a future version. Use pandas.concat instead.\n",
            "  df = df.append(new_row14, ignore_index=True)\n",
            "<ipython-input-35-079751cde519>:118: FutureWarning: The frame.append method is deprecated and will be removed from pandas in a future version. Use pandas.concat instead.\n",
            "  df = df.append(new_row15, ignore_index=True)\n",
            "<ipython-input-35-079751cde519>:120: FutureWarning: The frame.append method is deprecated and will be removed from pandas in a future version. Use pandas.concat instead.\n",
            "  df = df.append(new_row16, ignore_index=True)\n",
            "<ipython-input-35-079751cde519>:122: FutureWarning: The frame.append method is deprecated and will be removed from pandas in a future version. Use pandas.concat instead.\n",
            "  df = df.append(new_row17, ignore_index=True)\n",
            "<ipython-input-35-079751cde519>:124: FutureWarning: The frame.append method is deprecated and will be removed from pandas in a future version. Use pandas.concat instead.\n",
            "  df = df.append(new_row18, ignore_index=True)\n",
            "<ipython-input-35-079751cde519>:126: FutureWarning: The frame.append method is deprecated and will be removed from pandas in a future version. Use pandas.concat instead.\n",
            "  df = df.append(new_row19, ignore_index=True)\n",
            "<ipython-input-35-079751cde519>:128: FutureWarning: The frame.append method is deprecated and will be removed from pandas in a future version. Use pandas.concat instead.\n",
            "  df = df.append(new_row20, ignore_index=True)\n",
            "<ipython-input-35-079751cde519>:80: FutureWarning: The frame.append method is deprecated and will be removed from pandas in a future version. Use pandas.concat instead.\n",
            "  df = df.append(new_row1, ignore_index=True)\n",
            "<ipython-input-35-079751cde519>:82: FutureWarning: The frame.append method is deprecated and will be removed from pandas in a future version. Use pandas.concat instead.\n",
            "  df = df.append(new_row1a, ignore_index=True)\n",
            "<ipython-input-35-079751cde519>:84: FutureWarning: The frame.append method is deprecated and will be removed from pandas in a future version. Use pandas.concat instead.\n",
            "  df = df.append(new_row2, ignore_index=True)\n",
            "<ipython-input-35-079751cde519>:86: FutureWarning: The frame.append method is deprecated and will be removed from pandas in a future version. Use pandas.concat instead.\n",
            "  df = df.append(new_row3, ignore_index=True)\n",
            "<ipython-input-35-079751cde519>:88: FutureWarning: The frame.append method is deprecated and will be removed from pandas in a future version. Use pandas.concat instead.\n",
            "  df = df.append(new_row4, ignore_index=True)\n",
            "<ipython-input-35-079751cde519>:90: FutureWarning: The frame.append method is deprecated and will be removed from pandas in a future version. Use pandas.concat instead.\n",
            "  df = df.append(new_row4a, ignore_index=True)\n",
            "<ipython-input-35-079751cde519>:92: FutureWarning: The frame.append method is deprecated and will be removed from pandas in a future version. Use pandas.concat instead.\n",
            "  df = df.append(new_row5, ignore_index=True)\n",
            "<ipython-input-35-079751cde519>:94: FutureWarning: The frame.append method is deprecated and will be removed from pandas in a future version. Use pandas.concat instead.\n",
            "  df = df.append(new_row6, ignore_index=True)\n",
            "<ipython-input-35-079751cde519>:96: FutureWarning: The frame.append method is deprecated and will be removed from pandas in a future version. Use pandas.concat instead.\n",
            "  df = df.append(new_row7, ignore_index=True)\n",
            "<ipython-input-35-079751cde519>:98: FutureWarning: The frame.append method is deprecated and will be removed from pandas in a future version. Use pandas.concat instead.\n",
            "  df = df.append(new_row7a, ignore_index=True)\n",
            "<ipython-input-35-079751cde519>:100: FutureWarning: The frame.append method is deprecated and will be removed from pandas in a future version. Use pandas.concat instead.\n",
            "  df = df.append(new_row8, ignore_index=True)\n",
            "<ipython-input-35-079751cde519>:102: FutureWarning: The frame.append method is deprecated and will be removed from pandas in a future version. Use pandas.concat instead.\n",
            "  df = df.append(new_row9, ignore_index=True)\n",
            "<ipython-input-35-079751cde519>:104: FutureWarning: The frame.append method is deprecated and will be removed from pandas in a future version. Use pandas.concat instead.\n",
            "  df = df.append(new_row10, ignore_index=True)\n",
            "<ipython-input-35-079751cde519>:106: FutureWarning: The frame.append method is deprecated and will be removed from pandas in a future version. Use pandas.concat instead.\n",
            "  df = df.append(new_row10a, ignore_index=True)\n",
            "<ipython-input-35-079751cde519>:108: FutureWarning: The frame.append method is deprecated and will be removed from pandas in a future version. Use pandas.concat instead.\n",
            "  df = df.append(new_row11, ignore_index=True)\n",
            "<ipython-input-35-079751cde519>:110: FutureWarning: The frame.append method is deprecated and will be removed from pandas in a future version. Use pandas.concat instead.\n",
            "  df = df.append(new_row12, ignore_index=True)\n",
            "<ipython-input-35-079751cde519>:112: FutureWarning: The frame.append method is deprecated and will be removed from pandas in a future version. Use pandas.concat instead.\n",
            "  df = df.append(new_row13, ignore_index=True)\n",
            "<ipython-input-35-079751cde519>:114: FutureWarning: The frame.append method is deprecated and will be removed from pandas in a future version. Use pandas.concat instead.\n",
            "  df = df.append(new_row13a, ignore_index=True)\n",
            "<ipython-input-35-079751cde519>:116: FutureWarning: The frame.append method is deprecated and will be removed from pandas in a future version. Use pandas.concat instead.\n",
            "  df = df.append(new_row14, ignore_index=True)\n",
            "<ipython-input-35-079751cde519>:118: FutureWarning: The frame.append method is deprecated and will be removed from pandas in a future version. Use pandas.concat instead.\n",
            "  df = df.append(new_row15, ignore_index=True)\n",
            "<ipython-input-35-079751cde519>:120: FutureWarning: The frame.append method is deprecated and will be removed from pandas in a future version. Use pandas.concat instead.\n",
            "  df = df.append(new_row16, ignore_index=True)\n",
            "<ipython-input-35-079751cde519>:122: FutureWarning: The frame.append method is deprecated and will be removed from pandas in a future version. Use pandas.concat instead.\n",
            "  df = df.append(new_row17, ignore_index=True)\n",
            "<ipython-input-35-079751cde519>:124: FutureWarning: The frame.append method is deprecated and will be removed from pandas in a future version. Use pandas.concat instead.\n",
            "  df = df.append(new_row18, ignore_index=True)\n",
            "<ipython-input-35-079751cde519>:126: FutureWarning: The frame.append method is deprecated and will be removed from pandas in a future version. Use pandas.concat instead.\n",
            "  df = df.append(new_row19, ignore_index=True)\n",
            "<ipython-input-35-079751cde519>:128: FutureWarning: The frame.append method is deprecated and will be removed from pandas in a future version. Use pandas.concat instead.\n",
            "  df = df.append(new_row20, ignore_index=True)\n",
            "<ipython-input-35-079751cde519>:80: FutureWarning: The frame.append method is deprecated and will be removed from pandas in a future version. Use pandas.concat instead.\n",
            "  df = df.append(new_row1, ignore_index=True)\n",
            "<ipython-input-35-079751cde519>:82: FutureWarning: The frame.append method is deprecated and will be removed from pandas in a future version. Use pandas.concat instead.\n",
            "  df = df.append(new_row1a, ignore_index=True)\n",
            "<ipython-input-35-079751cde519>:84: FutureWarning: The frame.append method is deprecated and will be removed from pandas in a future version. Use pandas.concat instead.\n",
            "  df = df.append(new_row2, ignore_index=True)\n",
            "<ipython-input-35-079751cde519>:86: FutureWarning: The frame.append method is deprecated and will be removed from pandas in a future version. Use pandas.concat instead.\n",
            "  df = df.append(new_row3, ignore_index=True)\n",
            "<ipython-input-35-079751cde519>:88: FutureWarning: The frame.append method is deprecated and will be removed from pandas in a future version. Use pandas.concat instead.\n",
            "  df = df.append(new_row4, ignore_index=True)\n",
            "<ipython-input-35-079751cde519>:90: FutureWarning: The frame.append method is deprecated and will be removed from pandas in a future version. Use pandas.concat instead.\n",
            "  df = df.append(new_row4a, ignore_index=True)\n",
            "<ipython-input-35-079751cde519>:92: FutureWarning: The frame.append method is deprecated and will be removed from pandas in a future version. Use pandas.concat instead.\n",
            "  df = df.append(new_row5, ignore_index=True)\n",
            "<ipython-input-35-079751cde519>:94: FutureWarning: The frame.append method is deprecated and will be removed from pandas in a future version. Use pandas.concat instead.\n",
            "  df = df.append(new_row6, ignore_index=True)\n",
            "<ipython-input-35-079751cde519>:96: FutureWarning: The frame.append method is deprecated and will be removed from pandas in a future version. Use pandas.concat instead.\n",
            "  df = df.append(new_row7, ignore_index=True)\n",
            "<ipython-input-35-079751cde519>:98: FutureWarning: The frame.append method is deprecated and will be removed from pandas in a future version. Use pandas.concat instead.\n",
            "  df = df.append(new_row7a, ignore_index=True)\n",
            "<ipython-input-35-079751cde519>:100: FutureWarning: The frame.append method is deprecated and will be removed from pandas in a future version. Use pandas.concat instead.\n",
            "  df = df.append(new_row8, ignore_index=True)\n",
            "<ipython-input-35-079751cde519>:102: FutureWarning: The frame.append method is deprecated and will be removed from pandas in a future version. Use pandas.concat instead.\n",
            "  df = df.append(new_row9, ignore_index=True)\n",
            "<ipython-input-35-079751cde519>:104: FutureWarning: The frame.append method is deprecated and will be removed from pandas in a future version. Use pandas.concat instead.\n",
            "  df = df.append(new_row10, ignore_index=True)\n",
            "<ipython-input-35-079751cde519>:106: FutureWarning: The frame.append method is deprecated and will be removed from pandas in a future version. Use pandas.concat instead.\n",
            "  df = df.append(new_row10a, ignore_index=True)\n",
            "<ipython-input-35-079751cde519>:108: FutureWarning: The frame.append method is deprecated and will be removed from pandas in a future version. Use pandas.concat instead.\n",
            "  df = df.append(new_row11, ignore_index=True)\n",
            "<ipython-input-35-079751cde519>:110: FutureWarning: The frame.append method is deprecated and will be removed from pandas in a future version. Use pandas.concat instead.\n",
            "  df = df.append(new_row12, ignore_index=True)\n",
            "<ipython-input-35-079751cde519>:112: FutureWarning: The frame.append method is deprecated and will be removed from pandas in a future version. Use pandas.concat instead.\n",
            "  df = df.append(new_row13, ignore_index=True)\n",
            "<ipython-input-35-079751cde519>:114: FutureWarning: The frame.append method is deprecated and will be removed from pandas in a future version. Use pandas.concat instead.\n",
            "  df = df.append(new_row13a, ignore_index=True)\n",
            "<ipython-input-35-079751cde519>:116: FutureWarning: The frame.append method is deprecated and will be removed from pandas in a future version. Use pandas.concat instead.\n",
            "  df = df.append(new_row14, ignore_index=True)\n",
            "<ipython-input-35-079751cde519>:118: FutureWarning: The frame.append method is deprecated and will be removed from pandas in a future version. Use pandas.concat instead.\n",
            "  df = df.append(new_row15, ignore_index=True)\n",
            "<ipython-input-35-079751cde519>:120: FutureWarning: The frame.append method is deprecated and will be removed from pandas in a future version. Use pandas.concat instead.\n",
            "  df = df.append(new_row16, ignore_index=True)\n",
            "<ipython-input-35-079751cde519>:122: FutureWarning: The frame.append method is deprecated and will be removed from pandas in a future version. Use pandas.concat instead.\n",
            "  df = df.append(new_row17, ignore_index=True)\n",
            "<ipython-input-35-079751cde519>:124: FutureWarning: The frame.append method is deprecated and will be removed from pandas in a future version. Use pandas.concat instead.\n",
            "  df = df.append(new_row18, ignore_index=True)\n",
            "<ipython-input-35-079751cde519>:126: FutureWarning: The frame.append method is deprecated and will be removed from pandas in a future version. Use pandas.concat instead.\n",
            "  df = df.append(new_row19, ignore_index=True)\n",
            "<ipython-input-35-079751cde519>:128: FutureWarning: The frame.append method is deprecated and will be removed from pandas in a future version. Use pandas.concat instead.\n",
            "  df = df.append(new_row20, ignore_index=True)\n",
            "<ipython-input-35-079751cde519>:80: FutureWarning: The frame.append method is deprecated and will be removed from pandas in a future version. Use pandas.concat instead.\n",
            "  df = df.append(new_row1, ignore_index=True)\n",
            "<ipython-input-35-079751cde519>:82: FutureWarning: The frame.append method is deprecated and will be removed from pandas in a future version. Use pandas.concat instead.\n",
            "  df = df.append(new_row1a, ignore_index=True)\n",
            "<ipython-input-35-079751cde519>:84: FutureWarning: The frame.append method is deprecated and will be removed from pandas in a future version. Use pandas.concat instead.\n",
            "  df = df.append(new_row2, ignore_index=True)\n",
            "<ipython-input-35-079751cde519>:86: FutureWarning: The frame.append method is deprecated and will be removed from pandas in a future version. Use pandas.concat instead.\n",
            "  df = df.append(new_row3, ignore_index=True)\n",
            "<ipython-input-35-079751cde519>:88: FutureWarning: The frame.append method is deprecated and will be removed from pandas in a future version. Use pandas.concat instead.\n",
            "  df = df.append(new_row4, ignore_index=True)\n",
            "<ipython-input-35-079751cde519>:90: FutureWarning: The frame.append method is deprecated and will be removed from pandas in a future version. Use pandas.concat instead.\n",
            "  df = df.append(new_row4a, ignore_index=True)\n",
            "<ipython-input-35-079751cde519>:92: FutureWarning: The frame.append method is deprecated and will be removed from pandas in a future version. Use pandas.concat instead.\n",
            "  df = df.append(new_row5, ignore_index=True)\n",
            "<ipython-input-35-079751cde519>:94: FutureWarning: The frame.append method is deprecated and will be removed from pandas in a future version. Use pandas.concat instead.\n",
            "  df = df.append(new_row6, ignore_index=True)\n",
            "<ipython-input-35-079751cde519>:96: FutureWarning: The frame.append method is deprecated and will be removed from pandas in a future version. Use pandas.concat instead.\n",
            "  df = df.append(new_row7, ignore_index=True)\n",
            "<ipython-input-35-079751cde519>:98: FutureWarning: The frame.append method is deprecated and will be removed from pandas in a future version. Use pandas.concat instead.\n",
            "  df = df.append(new_row7a, ignore_index=True)\n",
            "<ipython-input-35-079751cde519>:100: FutureWarning: The frame.append method is deprecated and will be removed from pandas in a future version. Use pandas.concat instead.\n",
            "  df = df.append(new_row8, ignore_index=True)\n",
            "<ipython-input-35-079751cde519>:102: FutureWarning: The frame.append method is deprecated and will be removed from pandas in a future version. Use pandas.concat instead.\n",
            "  df = df.append(new_row9, ignore_index=True)\n",
            "<ipython-input-35-079751cde519>:104: FutureWarning: The frame.append method is deprecated and will be removed from pandas in a future version. Use pandas.concat instead.\n",
            "  df = df.append(new_row10, ignore_index=True)\n",
            "<ipython-input-35-079751cde519>:106: FutureWarning: The frame.append method is deprecated and will be removed from pandas in a future version. Use pandas.concat instead.\n",
            "  df = df.append(new_row10a, ignore_index=True)\n",
            "<ipython-input-35-079751cde519>:108: FutureWarning: The frame.append method is deprecated and will be removed from pandas in a future version. Use pandas.concat instead.\n",
            "  df = df.append(new_row11, ignore_index=True)\n",
            "<ipython-input-35-079751cde519>:110: FutureWarning: The frame.append method is deprecated and will be removed from pandas in a future version. Use pandas.concat instead.\n",
            "  df = df.append(new_row12, ignore_index=True)\n",
            "<ipython-input-35-079751cde519>:112: FutureWarning: The frame.append method is deprecated and will be removed from pandas in a future version. Use pandas.concat instead.\n",
            "  df = df.append(new_row13, ignore_index=True)\n",
            "<ipython-input-35-079751cde519>:114: FutureWarning: The frame.append method is deprecated and will be removed from pandas in a future version. Use pandas.concat instead.\n",
            "  df = df.append(new_row13a, ignore_index=True)\n",
            "<ipython-input-35-079751cde519>:116: FutureWarning: The frame.append method is deprecated and will be removed from pandas in a future version. Use pandas.concat instead.\n",
            "  df = df.append(new_row14, ignore_index=True)\n",
            "<ipython-input-35-079751cde519>:118: FutureWarning: The frame.append method is deprecated and will be removed from pandas in a future version. Use pandas.concat instead.\n",
            "  df = df.append(new_row15, ignore_index=True)\n",
            "<ipython-input-35-079751cde519>:120: FutureWarning: The frame.append method is deprecated and will be removed from pandas in a future version. Use pandas.concat instead.\n",
            "  df = df.append(new_row16, ignore_index=True)\n",
            "<ipython-input-35-079751cde519>:122: FutureWarning: The frame.append method is deprecated and will be removed from pandas in a future version. Use pandas.concat instead.\n",
            "  df = df.append(new_row17, ignore_index=True)\n",
            "<ipython-input-35-079751cde519>:124: FutureWarning: The frame.append method is deprecated and will be removed from pandas in a future version. Use pandas.concat instead.\n",
            "  df = df.append(new_row18, ignore_index=True)\n",
            "<ipython-input-35-079751cde519>:126: FutureWarning: The frame.append method is deprecated and will be removed from pandas in a future version. Use pandas.concat instead.\n",
            "  df = df.append(new_row19, ignore_index=True)\n",
            "<ipython-input-35-079751cde519>:128: FutureWarning: The frame.append method is deprecated and will be removed from pandas in a future version. Use pandas.concat instead.\n",
            "  df = df.append(new_row20, ignore_index=True)\n",
            "<ipython-input-35-079751cde519>:80: FutureWarning: The frame.append method is deprecated and will be removed from pandas in a future version. Use pandas.concat instead.\n",
            "  df = df.append(new_row1, ignore_index=True)\n",
            "<ipython-input-35-079751cde519>:82: FutureWarning: The frame.append method is deprecated and will be removed from pandas in a future version. Use pandas.concat instead.\n",
            "  df = df.append(new_row1a, ignore_index=True)\n",
            "<ipython-input-35-079751cde519>:84: FutureWarning: The frame.append method is deprecated and will be removed from pandas in a future version. Use pandas.concat instead.\n",
            "  df = df.append(new_row2, ignore_index=True)\n",
            "<ipython-input-35-079751cde519>:86: FutureWarning: The frame.append method is deprecated and will be removed from pandas in a future version. Use pandas.concat instead.\n",
            "  df = df.append(new_row3, ignore_index=True)\n",
            "<ipython-input-35-079751cde519>:88: FutureWarning: The frame.append method is deprecated and will be removed from pandas in a future version. Use pandas.concat instead.\n",
            "  df = df.append(new_row4, ignore_index=True)\n",
            "<ipython-input-35-079751cde519>:90: FutureWarning: The frame.append method is deprecated and will be removed from pandas in a future version. Use pandas.concat instead.\n",
            "  df = df.append(new_row4a, ignore_index=True)\n",
            "<ipython-input-35-079751cde519>:92: FutureWarning: The frame.append method is deprecated and will be removed from pandas in a future version. Use pandas.concat instead.\n",
            "  df = df.append(new_row5, ignore_index=True)\n",
            "<ipython-input-35-079751cde519>:94: FutureWarning: The frame.append method is deprecated and will be removed from pandas in a future version. Use pandas.concat instead.\n",
            "  df = df.append(new_row6, ignore_index=True)\n",
            "<ipython-input-35-079751cde519>:96: FutureWarning: The frame.append method is deprecated and will be removed from pandas in a future version. Use pandas.concat instead.\n",
            "  df = df.append(new_row7, ignore_index=True)\n",
            "<ipython-input-35-079751cde519>:98: FutureWarning: The frame.append method is deprecated and will be removed from pandas in a future version. Use pandas.concat instead.\n",
            "  df = df.append(new_row7a, ignore_index=True)\n",
            "<ipython-input-35-079751cde519>:100: FutureWarning: The frame.append method is deprecated and will be removed from pandas in a future version. Use pandas.concat instead.\n",
            "  df = df.append(new_row8, ignore_index=True)\n",
            "<ipython-input-35-079751cde519>:102: FutureWarning: The frame.append method is deprecated and will be removed from pandas in a future version. Use pandas.concat instead.\n",
            "  df = df.append(new_row9, ignore_index=True)\n",
            "<ipython-input-35-079751cde519>:104: FutureWarning: The frame.append method is deprecated and will be removed from pandas in a future version. Use pandas.concat instead.\n",
            "  df = df.append(new_row10, ignore_index=True)\n",
            "<ipython-input-35-079751cde519>:106: FutureWarning: The frame.append method is deprecated and will be removed from pandas in a future version. Use pandas.concat instead.\n",
            "  df = df.append(new_row10a, ignore_index=True)\n",
            "<ipython-input-35-079751cde519>:108: FutureWarning: The frame.append method is deprecated and will be removed from pandas in a future version. Use pandas.concat instead.\n",
            "  df = df.append(new_row11, ignore_index=True)\n",
            "<ipython-input-35-079751cde519>:110: FutureWarning: The frame.append method is deprecated and will be removed from pandas in a future version. Use pandas.concat instead.\n",
            "  df = df.append(new_row12, ignore_index=True)\n",
            "<ipython-input-35-079751cde519>:112: FutureWarning: The frame.append method is deprecated and will be removed from pandas in a future version. Use pandas.concat instead.\n",
            "  df = df.append(new_row13, ignore_index=True)\n",
            "<ipython-input-35-079751cde519>:114: FutureWarning: The frame.append method is deprecated and will be removed from pandas in a future version. Use pandas.concat instead.\n",
            "  df = df.append(new_row13a, ignore_index=True)\n",
            "<ipython-input-35-079751cde519>:116: FutureWarning: The frame.append method is deprecated and will be removed from pandas in a future version. Use pandas.concat instead.\n",
            "  df = df.append(new_row14, ignore_index=True)\n",
            "<ipython-input-35-079751cde519>:118: FutureWarning: The frame.append method is deprecated and will be removed from pandas in a future version. Use pandas.concat instead.\n",
            "  df = df.append(new_row15, ignore_index=True)\n",
            "<ipython-input-35-079751cde519>:120: FutureWarning: The frame.append method is deprecated and will be removed from pandas in a future version. Use pandas.concat instead.\n",
            "  df = df.append(new_row16, ignore_index=True)\n",
            "<ipython-input-35-079751cde519>:122: FutureWarning: The frame.append method is deprecated and will be removed from pandas in a future version. Use pandas.concat instead.\n",
            "  df = df.append(new_row17, ignore_index=True)\n",
            "<ipython-input-35-079751cde519>:124: FutureWarning: The frame.append method is deprecated and will be removed from pandas in a future version. Use pandas.concat instead.\n",
            "  df = df.append(new_row18, ignore_index=True)\n",
            "<ipython-input-35-079751cde519>:126: FutureWarning: The frame.append method is deprecated and will be removed from pandas in a future version. Use pandas.concat instead.\n",
            "  df = df.append(new_row19, ignore_index=True)\n",
            "<ipython-input-35-079751cde519>:128: FutureWarning: The frame.append method is deprecated and will be removed from pandas in a future version. Use pandas.concat instead.\n",
            "  df = df.append(new_row20, ignore_index=True)\n",
            "<ipython-input-35-079751cde519>:80: FutureWarning: The frame.append method is deprecated and will be removed from pandas in a future version. Use pandas.concat instead.\n",
            "  df = df.append(new_row1, ignore_index=True)\n",
            "<ipython-input-35-079751cde519>:82: FutureWarning: The frame.append method is deprecated and will be removed from pandas in a future version. Use pandas.concat instead.\n",
            "  df = df.append(new_row1a, ignore_index=True)\n",
            "<ipython-input-35-079751cde519>:84: FutureWarning: The frame.append method is deprecated and will be removed from pandas in a future version. Use pandas.concat instead.\n",
            "  df = df.append(new_row2, ignore_index=True)\n",
            "<ipython-input-35-079751cde519>:86: FutureWarning: The frame.append method is deprecated and will be removed from pandas in a future version. Use pandas.concat instead.\n",
            "  df = df.append(new_row3, ignore_index=True)\n",
            "<ipython-input-35-079751cde519>:88: FutureWarning: The frame.append method is deprecated and will be removed from pandas in a future version. Use pandas.concat instead.\n",
            "  df = df.append(new_row4, ignore_index=True)\n",
            "<ipython-input-35-079751cde519>:90: FutureWarning: The frame.append method is deprecated and will be removed from pandas in a future version. Use pandas.concat instead.\n",
            "  df = df.append(new_row4a, ignore_index=True)\n",
            "<ipython-input-35-079751cde519>:92: FutureWarning: The frame.append method is deprecated and will be removed from pandas in a future version. Use pandas.concat instead.\n",
            "  df = df.append(new_row5, ignore_index=True)\n",
            "<ipython-input-35-079751cde519>:94: FutureWarning: The frame.append method is deprecated and will be removed from pandas in a future version. Use pandas.concat instead.\n",
            "  df = df.append(new_row6, ignore_index=True)\n",
            "<ipython-input-35-079751cde519>:96: FutureWarning: The frame.append method is deprecated and will be removed from pandas in a future version. Use pandas.concat instead.\n",
            "  df = df.append(new_row7, ignore_index=True)\n",
            "<ipython-input-35-079751cde519>:98: FutureWarning: The frame.append method is deprecated and will be removed from pandas in a future version. Use pandas.concat instead.\n",
            "  df = df.append(new_row7a, ignore_index=True)\n",
            "<ipython-input-35-079751cde519>:100: FutureWarning: The frame.append method is deprecated and will be removed from pandas in a future version. Use pandas.concat instead.\n",
            "  df = df.append(new_row8, ignore_index=True)\n",
            "<ipython-input-35-079751cde519>:102: FutureWarning: The frame.append method is deprecated and will be removed from pandas in a future version. Use pandas.concat instead.\n",
            "  df = df.append(new_row9, ignore_index=True)\n",
            "<ipython-input-35-079751cde519>:104: FutureWarning: The frame.append method is deprecated and will be removed from pandas in a future version. Use pandas.concat instead.\n",
            "  df = df.append(new_row10, ignore_index=True)\n",
            "<ipython-input-35-079751cde519>:106: FutureWarning: The frame.append method is deprecated and will be removed from pandas in a future version. Use pandas.concat instead.\n",
            "  df = df.append(new_row10a, ignore_index=True)\n",
            "<ipython-input-35-079751cde519>:108: FutureWarning: The frame.append method is deprecated and will be removed from pandas in a future version. Use pandas.concat instead.\n",
            "  df = df.append(new_row11, ignore_index=True)\n",
            "<ipython-input-35-079751cde519>:110: FutureWarning: The frame.append method is deprecated and will be removed from pandas in a future version. Use pandas.concat instead.\n",
            "  df = df.append(new_row12, ignore_index=True)\n",
            "<ipython-input-35-079751cde519>:112: FutureWarning: The frame.append method is deprecated and will be removed from pandas in a future version. Use pandas.concat instead.\n",
            "  df = df.append(new_row13, ignore_index=True)\n",
            "<ipython-input-35-079751cde519>:114: FutureWarning: The frame.append method is deprecated and will be removed from pandas in a future version. Use pandas.concat instead.\n",
            "  df = df.append(new_row13a, ignore_index=True)\n",
            "<ipython-input-35-079751cde519>:116: FutureWarning: The frame.append method is deprecated and will be removed from pandas in a future version. Use pandas.concat instead.\n",
            "  df = df.append(new_row14, ignore_index=True)\n",
            "<ipython-input-35-079751cde519>:118: FutureWarning: The frame.append method is deprecated and will be removed from pandas in a future version. Use pandas.concat instead.\n",
            "  df = df.append(new_row15, ignore_index=True)\n",
            "<ipython-input-35-079751cde519>:120: FutureWarning: The frame.append method is deprecated and will be removed from pandas in a future version. Use pandas.concat instead.\n",
            "  df = df.append(new_row16, ignore_index=True)\n",
            "<ipython-input-35-079751cde519>:122: FutureWarning: The frame.append method is deprecated and will be removed from pandas in a future version. Use pandas.concat instead.\n",
            "  df = df.append(new_row17, ignore_index=True)\n",
            "<ipython-input-35-079751cde519>:124: FutureWarning: The frame.append method is deprecated and will be removed from pandas in a future version. Use pandas.concat instead.\n",
            "  df = df.append(new_row18, ignore_index=True)\n",
            "<ipython-input-35-079751cde519>:126: FutureWarning: The frame.append method is deprecated and will be removed from pandas in a future version. Use pandas.concat instead.\n",
            "  df = df.append(new_row19, ignore_index=True)\n",
            "<ipython-input-35-079751cde519>:128: FutureWarning: The frame.append method is deprecated and will be removed from pandas in a future version. Use pandas.concat instead.\n",
            "  df = df.append(new_row20, ignore_index=True)\n",
            "<ipython-input-35-079751cde519>:80: FutureWarning: The frame.append method is deprecated and will be removed from pandas in a future version. Use pandas.concat instead.\n",
            "  df = df.append(new_row1, ignore_index=True)\n",
            "<ipython-input-35-079751cde519>:82: FutureWarning: The frame.append method is deprecated and will be removed from pandas in a future version. Use pandas.concat instead.\n",
            "  df = df.append(new_row1a, ignore_index=True)\n",
            "<ipython-input-35-079751cde519>:84: FutureWarning: The frame.append method is deprecated and will be removed from pandas in a future version. Use pandas.concat instead.\n",
            "  df = df.append(new_row2, ignore_index=True)\n",
            "<ipython-input-35-079751cde519>:86: FutureWarning: The frame.append method is deprecated and will be removed from pandas in a future version. Use pandas.concat instead.\n",
            "  df = df.append(new_row3, ignore_index=True)\n",
            "<ipython-input-35-079751cde519>:88: FutureWarning: The frame.append method is deprecated and will be removed from pandas in a future version. Use pandas.concat instead.\n",
            "  df = df.append(new_row4, ignore_index=True)\n",
            "<ipython-input-35-079751cde519>:90: FutureWarning: The frame.append method is deprecated and will be removed from pandas in a future version. Use pandas.concat instead.\n",
            "  df = df.append(new_row4a, ignore_index=True)\n",
            "<ipython-input-35-079751cde519>:92: FutureWarning: The frame.append method is deprecated and will be removed from pandas in a future version. Use pandas.concat instead.\n",
            "  df = df.append(new_row5, ignore_index=True)\n",
            "<ipython-input-35-079751cde519>:94: FutureWarning: The frame.append method is deprecated and will be removed from pandas in a future version. Use pandas.concat instead.\n",
            "  df = df.append(new_row6, ignore_index=True)\n",
            "<ipython-input-35-079751cde519>:96: FutureWarning: The frame.append method is deprecated and will be removed from pandas in a future version. Use pandas.concat instead.\n",
            "  df = df.append(new_row7, ignore_index=True)\n",
            "<ipython-input-35-079751cde519>:98: FutureWarning: The frame.append method is deprecated and will be removed from pandas in a future version. Use pandas.concat instead.\n",
            "  df = df.append(new_row7a, ignore_index=True)\n",
            "<ipython-input-35-079751cde519>:100: FutureWarning: The frame.append method is deprecated and will be removed from pandas in a future version. Use pandas.concat instead.\n",
            "  df = df.append(new_row8, ignore_index=True)\n",
            "<ipython-input-35-079751cde519>:102: FutureWarning: The frame.append method is deprecated and will be removed from pandas in a future version. Use pandas.concat instead.\n",
            "  df = df.append(new_row9, ignore_index=True)\n",
            "<ipython-input-35-079751cde519>:104: FutureWarning: The frame.append method is deprecated and will be removed from pandas in a future version. Use pandas.concat instead.\n",
            "  df = df.append(new_row10, ignore_index=True)\n",
            "<ipython-input-35-079751cde519>:106: FutureWarning: The frame.append method is deprecated and will be removed from pandas in a future version. Use pandas.concat instead.\n",
            "  df = df.append(new_row10a, ignore_index=True)\n",
            "<ipython-input-35-079751cde519>:108: FutureWarning: The frame.append method is deprecated and will be removed from pandas in a future version. Use pandas.concat instead.\n",
            "  df = df.append(new_row11, ignore_index=True)\n",
            "<ipython-input-35-079751cde519>:110: FutureWarning: The frame.append method is deprecated and will be removed from pandas in a future version. Use pandas.concat instead.\n",
            "  df = df.append(new_row12, ignore_index=True)\n",
            "<ipython-input-35-079751cde519>:112: FutureWarning: The frame.append method is deprecated and will be removed from pandas in a future version. Use pandas.concat instead.\n",
            "  df = df.append(new_row13, ignore_index=True)\n",
            "<ipython-input-35-079751cde519>:114: FutureWarning: The frame.append method is deprecated and will be removed from pandas in a future version. Use pandas.concat instead.\n",
            "  df = df.append(new_row13a, ignore_index=True)\n",
            "<ipython-input-35-079751cde519>:116: FutureWarning: The frame.append method is deprecated and will be removed from pandas in a future version. Use pandas.concat instead.\n",
            "  df = df.append(new_row14, ignore_index=True)\n",
            "<ipython-input-35-079751cde519>:118: FutureWarning: The frame.append method is deprecated and will be removed from pandas in a future version. Use pandas.concat instead.\n",
            "  df = df.append(new_row15, ignore_index=True)\n",
            "<ipython-input-35-079751cde519>:120: FutureWarning: The frame.append method is deprecated and will be removed from pandas in a future version. Use pandas.concat instead.\n",
            "  df = df.append(new_row16, ignore_index=True)\n",
            "<ipython-input-35-079751cde519>:122: FutureWarning: The frame.append method is deprecated and will be removed from pandas in a future version. Use pandas.concat instead.\n",
            "  df = df.append(new_row17, ignore_index=True)\n",
            "<ipython-input-35-079751cde519>:124: FutureWarning: The frame.append method is deprecated and will be removed from pandas in a future version. Use pandas.concat instead.\n",
            "  df = df.append(new_row18, ignore_index=True)\n",
            "<ipython-input-35-079751cde519>:126: FutureWarning: The frame.append method is deprecated and will be removed from pandas in a future version. Use pandas.concat instead.\n",
            "  df = df.append(new_row19, ignore_index=True)\n",
            "<ipython-input-35-079751cde519>:128: FutureWarning: The frame.append method is deprecated and will be removed from pandas in a future version. Use pandas.concat instead.\n",
            "  df = df.append(new_row20, ignore_index=True)\n",
            "<ipython-input-35-079751cde519>:80: FutureWarning: The frame.append method is deprecated and will be removed from pandas in a future version. Use pandas.concat instead.\n",
            "  df = df.append(new_row1, ignore_index=True)\n",
            "<ipython-input-35-079751cde519>:82: FutureWarning: The frame.append method is deprecated and will be removed from pandas in a future version. Use pandas.concat instead.\n",
            "  df = df.append(new_row1a, ignore_index=True)\n",
            "<ipython-input-35-079751cde519>:84: FutureWarning: The frame.append method is deprecated and will be removed from pandas in a future version. Use pandas.concat instead.\n",
            "  df = df.append(new_row2, ignore_index=True)\n",
            "<ipython-input-35-079751cde519>:86: FutureWarning: The frame.append method is deprecated and will be removed from pandas in a future version. Use pandas.concat instead.\n",
            "  df = df.append(new_row3, ignore_index=True)\n",
            "<ipython-input-35-079751cde519>:88: FutureWarning: The frame.append method is deprecated and will be removed from pandas in a future version. Use pandas.concat instead.\n",
            "  df = df.append(new_row4, ignore_index=True)\n",
            "<ipython-input-35-079751cde519>:90: FutureWarning: The frame.append method is deprecated and will be removed from pandas in a future version. Use pandas.concat instead.\n",
            "  df = df.append(new_row4a, ignore_index=True)\n",
            "<ipython-input-35-079751cde519>:92: FutureWarning: The frame.append method is deprecated and will be removed from pandas in a future version. Use pandas.concat instead.\n",
            "  df = df.append(new_row5, ignore_index=True)\n",
            "<ipython-input-35-079751cde519>:94: FutureWarning: The frame.append method is deprecated and will be removed from pandas in a future version. Use pandas.concat instead.\n",
            "  df = df.append(new_row6, ignore_index=True)\n",
            "<ipython-input-35-079751cde519>:96: FutureWarning: The frame.append method is deprecated and will be removed from pandas in a future version. Use pandas.concat instead.\n",
            "  df = df.append(new_row7, ignore_index=True)\n",
            "<ipython-input-35-079751cde519>:98: FutureWarning: The frame.append method is deprecated and will be removed from pandas in a future version. Use pandas.concat instead.\n",
            "  df = df.append(new_row7a, ignore_index=True)\n",
            "<ipython-input-35-079751cde519>:100: FutureWarning: The frame.append method is deprecated and will be removed from pandas in a future version. Use pandas.concat instead.\n",
            "  df = df.append(new_row8, ignore_index=True)\n",
            "<ipython-input-35-079751cde519>:102: FutureWarning: The frame.append method is deprecated and will be removed from pandas in a future version. Use pandas.concat instead.\n",
            "  df = df.append(new_row9, ignore_index=True)\n",
            "<ipython-input-35-079751cde519>:104: FutureWarning: The frame.append method is deprecated and will be removed from pandas in a future version. Use pandas.concat instead.\n",
            "  df = df.append(new_row10, ignore_index=True)\n",
            "<ipython-input-35-079751cde519>:106: FutureWarning: The frame.append method is deprecated and will be removed from pandas in a future version. Use pandas.concat instead.\n",
            "  df = df.append(new_row10a, ignore_index=True)\n",
            "<ipython-input-35-079751cde519>:108: FutureWarning: The frame.append method is deprecated and will be removed from pandas in a future version. Use pandas.concat instead.\n",
            "  df = df.append(new_row11, ignore_index=True)\n",
            "<ipython-input-35-079751cde519>:110: FutureWarning: The frame.append method is deprecated and will be removed from pandas in a future version. Use pandas.concat instead.\n",
            "  df = df.append(new_row12, ignore_index=True)\n",
            "<ipython-input-35-079751cde519>:112: FutureWarning: The frame.append method is deprecated and will be removed from pandas in a future version. Use pandas.concat instead.\n",
            "  df = df.append(new_row13, ignore_index=True)\n",
            "<ipython-input-35-079751cde519>:114: FutureWarning: The frame.append method is deprecated and will be removed from pandas in a future version. Use pandas.concat instead.\n",
            "  df = df.append(new_row13a, ignore_index=True)\n",
            "<ipython-input-35-079751cde519>:116: FutureWarning: The frame.append method is deprecated and will be removed from pandas in a future version. Use pandas.concat instead.\n",
            "  df = df.append(new_row14, ignore_index=True)\n",
            "<ipython-input-35-079751cde519>:118: FutureWarning: The frame.append method is deprecated and will be removed from pandas in a future version. Use pandas.concat instead.\n",
            "  df = df.append(new_row15, ignore_index=True)\n",
            "<ipython-input-35-079751cde519>:120: FutureWarning: The frame.append method is deprecated and will be removed from pandas in a future version. Use pandas.concat instead.\n",
            "  df = df.append(new_row16, ignore_index=True)\n",
            "<ipython-input-35-079751cde519>:122: FutureWarning: The frame.append method is deprecated and will be removed from pandas in a future version. Use pandas.concat instead.\n",
            "  df = df.append(new_row17, ignore_index=True)\n",
            "<ipython-input-35-079751cde519>:124: FutureWarning: The frame.append method is deprecated and will be removed from pandas in a future version. Use pandas.concat instead.\n",
            "  df = df.append(new_row18, ignore_index=True)\n",
            "<ipython-input-35-079751cde519>:126: FutureWarning: The frame.append method is deprecated and will be removed from pandas in a future version. Use pandas.concat instead.\n",
            "  df = df.append(new_row19, ignore_index=True)\n",
            "<ipython-input-35-079751cde519>:128: FutureWarning: The frame.append method is deprecated and will be removed from pandas in a future version. Use pandas.concat instead.\n",
            "  df = df.append(new_row20, ignore_index=True)\n",
            "<ipython-input-35-079751cde519>:80: FutureWarning: The frame.append method is deprecated and will be removed from pandas in a future version. Use pandas.concat instead.\n",
            "  df = df.append(new_row1, ignore_index=True)\n",
            "<ipython-input-35-079751cde519>:82: FutureWarning: The frame.append method is deprecated and will be removed from pandas in a future version. Use pandas.concat instead.\n",
            "  df = df.append(new_row1a, ignore_index=True)\n",
            "<ipython-input-35-079751cde519>:84: FutureWarning: The frame.append method is deprecated and will be removed from pandas in a future version. Use pandas.concat instead.\n",
            "  df = df.append(new_row2, ignore_index=True)\n",
            "<ipython-input-35-079751cde519>:86: FutureWarning: The frame.append method is deprecated and will be removed from pandas in a future version. Use pandas.concat instead.\n",
            "  df = df.append(new_row3, ignore_index=True)\n",
            "<ipython-input-35-079751cde519>:88: FutureWarning: The frame.append method is deprecated and will be removed from pandas in a future version. Use pandas.concat instead.\n",
            "  df = df.append(new_row4, ignore_index=True)\n",
            "<ipython-input-35-079751cde519>:90: FutureWarning: The frame.append method is deprecated and will be removed from pandas in a future version. Use pandas.concat instead.\n",
            "  df = df.append(new_row4a, ignore_index=True)\n",
            "<ipython-input-35-079751cde519>:92: FutureWarning: The frame.append method is deprecated and will be removed from pandas in a future version. Use pandas.concat instead.\n",
            "  df = df.append(new_row5, ignore_index=True)\n",
            "<ipython-input-35-079751cde519>:94: FutureWarning: The frame.append method is deprecated and will be removed from pandas in a future version. Use pandas.concat instead.\n",
            "  df = df.append(new_row6, ignore_index=True)\n",
            "<ipython-input-35-079751cde519>:96: FutureWarning: The frame.append method is deprecated and will be removed from pandas in a future version. Use pandas.concat instead.\n",
            "  df = df.append(new_row7, ignore_index=True)\n",
            "<ipython-input-35-079751cde519>:98: FutureWarning: The frame.append method is deprecated and will be removed from pandas in a future version. Use pandas.concat instead.\n",
            "  df = df.append(new_row7a, ignore_index=True)\n",
            "<ipython-input-35-079751cde519>:100: FutureWarning: The frame.append method is deprecated and will be removed from pandas in a future version. Use pandas.concat instead.\n",
            "  df = df.append(new_row8, ignore_index=True)\n",
            "<ipython-input-35-079751cde519>:102: FutureWarning: The frame.append method is deprecated and will be removed from pandas in a future version. Use pandas.concat instead.\n",
            "  df = df.append(new_row9, ignore_index=True)\n",
            "<ipython-input-35-079751cde519>:104: FutureWarning: The frame.append method is deprecated and will be removed from pandas in a future version. Use pandas.concat instead.\n",
            "  df = df.append(new_row10, ignore_index=True)\n",
            "<ipython-input-35-079751cde519>:106: FutureWarning: The frame.append method is deprecated and will be removed from pandas in a future version. Use pandas.concat instead.\n",
            "  df = df.append(new_row10a, ignore_index=True)\n",
            "<ipython-input-35-079751cde519>:108: FutureWarning: The frame.append method is deprecated and will be removed from pandas in a future version. Use pandas.concat instead.\n",
            "  df = df.append(new_row11, ignore_index=True)\n",
            "<ipython-input-35-079751cde519>:110: FutureWarning: The frame.append method is deprecated and will be removed from pandas in a future version. Use pandas.concat instead.\n",
            "  df = df.append(new_row12, ignore_index=True)\n",
            "<ipython-input-35-079751cde519>:112: FutureWarning: The frame.append method is deprecated and will be removed from pandas in a future version. Use pandas.concat instead.\n",
            "  df = df.append(new_row13, ignore_index=True)\n",
            "<ipython-input-35-079751cde519>:114: FutureWarning: The frame.append method is deprecated and will be removed from pandas in a future version. Use pandas.concat instead.\n",
            "  df = df.append(new_row13a, ignore_index=True)\n",
            "<ipython-input-35-079751cde519>:116: FutureWarning: The frame.append method is deprecated and will be removed from pandas in a future version. Use pandas.concat instead.\n",
            "  df = df.append(new_row14, ignore_index=True)\n",
            "<ipython-input-35-079751cde519>:118: FutureWarning: The frame.append method is deprecated and will be removed from pandas in a future version. Use pandas.concat instead.\n",
            "  df = df.append(new_row15, ignore_index=True)\n",
            "<ipython-input-35-079751cde519>:120: FutureWarning: The frame.append method is deprecated and will be removed from pandas in a future version. Use pandas.concat instead.\n",
            "  df = df.append(new_row16, ignore_index=True)\n",
            "<ipython-input-35-079751cde519>:122: FutureWarning: The frame.append method is deprecated and will be removed from pandas in a future version. Use pandas.concat instead.\n",
            "  df = df.append(new_row17, ignore_index=True)\n",
            "<ipython-input-35-079751cde519>:124: FutureWarning: The frame.append method is deprecated and will be removed from pandas in a future version. Use pandas.concat instead.\n",
            "  df = df.append(new_row18, ignore_index=True)\n",
            "<ipython-input-35-079751cde519>:126: FutureWarning: The frame.append method is deprecated and will be removed from pandas in a future version. Use pandas.concat instead.\n",
            "  df = df.append(new_row19, ignore_index=True)\n",
            "<ipython-input-35-079751cde519>:128: FutureWarning: The frame.append method is deprecated and will be removed from pandas in a future version. Use pandas.concat instead.\n",
            "  df = df.append(new_row20, ignore_index=True)\n",
            "<ipython-input-35-079751cde519>:80: FutureWarning: The frame.append method is deprecated and will be removed from pandas in a future version. Use pandas.concat instead.\n",
            "  df = df.append(new_row1, ignore_index=True)\n",
            "<ipython-input-35-079751cde519>:82: FutureWarning: The frame.append method is deprecated and will be removed from pandas in a future version. Use pandas.concat instead.\n",
            "  df = df.append(new_row1a, ignore_index=True)\n",
            "<ipython-input-35-079751cde519>:84: FutureWarning: The frame.append method is deprecated and will be removed from pandas in a future version. Use pandas.concat instead.\n",
            "  df = df.append(new_row2, ignore_index=True)\n",
            "<ipython-input-35-079751cde519>:86: FutureWarning: The frame.append method is deprecated and will be removed from pandas in a future version. Use pandas.concat instead.\n",
            "  df = df.append(new_row3, ignore_index=True)\n",
            "<ipython-input-35-079751cde519>:88: FutureWarning: The frame.append method is deprecated and will be removed from pandas in a future version. Use pandas.concat instead.\n",
            "  df = df.append(new_row4, ignore_index=True)\n",
            "<ipython-input-35-079751cde519>:90: FutureWarning: The frame.append method is deprecated and will be removed from pandas in a future version. Use pandas.concat instead.\n",
            "  df = df.append(new_row4a, ignore_index=True)\n",
            "<ipython-input-35-079751cde519>:92: FutureWarning: The frame.append method is deprecated and will be removed from pandas in a future version. Use pandas.concat instead.\n",
            "  df = df.append(new_row5, ignore_index=True)\n",
            "<ipython-input-35-079751cde519>:94: FutureWarning: The frame.append method is deprecated and will be removed from pandas in a future version. Use pandas.concat instead.\n",
            "  df = df.append(new_row6, ignore_index=True)\n",
            "<ipython-input-35-079751cde519>:96: FutureWarning: The frame.append method is deprecated and will be removed from pandas in a future version. Use pandas.concat instead.\n",
            "  df = df.append(new_row7, ignore_index=True)\n",
            "<ipython-input-35-079751cde519>:98: FutureWarning: The frame.append method is deprecated and will be removed from pandas in a future version. Use pandas.concat instead.\n",
            "  df = df.append(new_row7a, ignore_index=True)\n",
            "<ipython-input-35-079751cde519>:100: FutureWarning: The frame.append method is deprecated and will be removed from pandas in a future version. Use pandas.concat instead.\n",
            "  df = df.append(new_row8, ignore_index=True)\n",
            "<ipython-input-35-079751cde519>:102: FutureWarning: The frame.append method is deprecated and will be removed from pandas in a future version. Use pandas.concat instead.\n",
            "  df = df.append(new_row9, ignore_index=True)\n",
            "<ipython-input-35-079751cde519>:104: FutureWarning: The frame.append method is deprecated and will be removed from pandas in a future version. Use pandas.concat instead.\n",
            "  df = df.append(new_row10, ignore_index=True)\n",
            "<ipython-input-35-079751cde519>:106: FutureWarning: The frame.append method is deprecated and will be removed from pandas in a future version. Use pandas.concat instead.\n",
            "  df = df.append(new_row10a, ignore_index=True)\n",
            "<ipython-input-35-079751cde519>:108: FutureWarning: The frame.append method is deprecated and will be removed from pandas in a future version. Use pandas.concat instead.\n",
            "  df = df.append(new_row11, ignore_index=True)\n",
            "<ipython-input-35-079751cde519>:110: FutureWarning: The frame.append method is deprecated and will be removed from pandas in a future version. Use pandas.concat instead.\n",
            "  df = df.append(new_row12, ignore_index=True)\n",
            "<ipython-input-35-079751cde519>:112: FutureWarning: The frame.append method is deprecated and will be removed from pandas in a future version. Use pandas.concat instead.\n",
            "  df = df.append(new_row13, ignore_index=True)\n",
            "<ipython-input-35-079751cde519>:114: FutureWarning: The frame.append method is deprecated and will be removed from pandas in a future version. Use pandas.concat instead.\n",
            "  df = df.append(new_row13a, ignore_index=True)\n",
            "<ipython-input-35-079751cde519>:116: FutureWarning: The frame.append method is deprecated and will be removed from pandas in a future version. Use pandas.concat instead.\n",
            "  df = df.append(new_row14, ignore_index=True)\n",
            "<ipython-input-35-079751cde519>:118: FutureWarning: The frame.append method is deprecated and will be removed from pandas in a future version. Use pandas.concat instead.\n",
            "  df = df.append(new_row15, ignore_index=True)\n",
            "<ipython-input-35-079751cde519>:120: FutureWarning: The frame.append method is deprecated and will be removed from pandas in a future version. Use pandas.concat instead.\n",
            "  df = df.append(new_row16, ignore_index=True)\n",
            "<ipython-input-35-079751cde519>:122: FutureWarning: The frame.append method is deprecated and will be removed from pandas in a future version. Use pandas.concat instead.\n",
            "  df = df.append(new_row17, ignore_index=True)\n",
            "<ipython-input-35-079751cde519>:124: FutureWarning: The frame.append method is deprecated and will be removed from pandas in a future version. Use pandas.concat instead.\n",
            "  df = df.append(new_row18, ignore_index=True)\n",
            "<ipython-input-35-079751cde519>:126: FutureWarning: The frame.append method is deprecated and will be removed from pandas in a future version. Use pandas.concat instead.\n",
            "  df = df.append(new_row19, ignore_index=True)\n",
            "<ipython-input-35-079751cde519>:128: FutureWarning: The frame.append method is deprecated and will be removed from pandas in a future version. Use pandas.concat instead.\n",
            "  df = df.append(new_row20, ignore_index=True)\n",
            "<ipython-input-35-079751cde519>:80: FutureWarning: The frame.append method is deprecated and will be removed from pandas in a future version. Use pandas.concat instead.\n",
            "  df = df.append(new_row1, ignore_index=True)\n",
            "<ipython-input-35-079751cde519>:82: FutureWarning: The frame.append method is deprecated and will be removed from pandas in a future version. Use pandas.concat instead.\n",
            "  df = df.append(new_row1a, ignore_index=True)\n",
            "<ipython-input-35-079751cde519>:84: FutureWarning: The frame.append method is deprecated and will be removed from pandas in a future version. Use pandas.concat instead.\n",
            "  df = df.append(new_row2, ignore_index=True)\n",
            "<ipython-input-35-079751cde519>:86: FutureWarning: The frame.append method is deprecated and will be removed from pandas in a future version. Use pandas.concat instead.\n",
            "  df = df.append(new_row3, ignore_index=True)\n",
            "<ipython-input-35-079751cde519>:88: FutureWarning: The frame.append method is deprecated and will be removed from pandas in a future version. Use pandas.concat instead.\n",
            "  df = df.append(new_row4, ignore_index=True)\n",
            "<ipython-input-35-079751cde519>:90: FutureWarning: The frame.append method is deprecated and will be removed from pandas in a future version. Use pandas.concat instead.\n",
            "  df = df.append(new_row4a, ignore_index=True)\n",
            "<ipython-input-35-079751cde519>:92: FutureWarning: The frame.append method is deprecated and will be removed from pandas in a future version. Use pandas.concat instead.\n",
            "  df = df.append(new_row5, ignore_index=True)\n",
            "<ipython-input-35-079751cde519>:94: FutureWarning: The frame.append method is deprecated and will be removed from pandas in a future version. Use pandas.concat instead.\n",
            "  df = df.append(new_row6, ignore_index=True)\n",
            "<ipython-input-35-079751cde519>:96: FutureWarning: The frame.append method is deprecated and will be removed from pandas in a future version. Use pandas.concat instead.\n",
            "  df = df.append(new_row7, ignore_index=True)\n",
            "<ipython-input-35-079751cde519>:98: FutureWarning: The frame.append method is deprecated and will be removed from pandas in a future version. Use pandas.concat instead.\n",
            "  df = df.append(new_row7a, ignore_index=True)\n",
            "<ipython-input-35-079751cde519>:100: FutureWarning: The frame.append method is deprecated and will be removed from pandas in a future version. Use pandas.concat instead.\n",
            "  df = df.append(new_row8, ignore_index=True)\n",
            "<ipython-input-35-079751cde519>:102: FutureWarning: The frame.append method is deprecated and will be removed from pandas in a future version. Use pandas.concat instead.\n",
            "  df = df.append(new_row9, ignore_index=True)\n",
            "<ipython-input-35-079751cde519>:104: FutureWarning: The frame.append method is deprecated and will be removed from pandas in a future version. Use pandas.concat instead.\n",
            "  df = df.append(new_row10, ignore_index=True)\n",
            "<ipython-input-35-079751cde519>:106: FutureWarning: The frame.append method is deprecated and will be removed from pandas in a future version. Use pandas.concat instead.\n",
            "  df = df.append(new_row10a, ignore_index=True)\n",
            "<ipython-input-35-079751cde519>:108: FutureWarning: The frame.append method is deprecated and will be removed from pandas in a future version. Use pandas.concat instead.\n",
            "  df = df.append(new_row11, ignore_index=True)\n",
            "<ipython-input-35-079751cde519>:110: FutureWarning: The frame.append method is deprecated and will be removed from pandas in a future version. Use pandas.concat instead.\n",
            "  df = df.append(new_row12, ignore_index=True)\n",
            "<ipython-input-35-079751cde519>:112: FutureWarning: The frame.append method is deprecated and will be removed from pandas in a future version. Use pandas.concat instead.\n",
            "  df = df.append(new_row13, ignore_index=True)\n",
            "<ipython-input-35-079751cde519>:114: FutureWarning: The frame.append method is deprecated and will be removed from pandas in a future version. Use pandas.concat instead.\n",
            "  df = df.append(new_row13a, ignore_index=True)\n",
            "<ipython-input-35-079751cde519>:116: FutureWarning: The frame.append method is deprecated and will be removed from pandas in a future version. Use pandas.concat instead.\n",
            "  df = df.append(new_row14, ignore_index=True)\n",
            "<ipython-input-35-079751cde519>:118: FutureWarning: The frame.append method is deprecated and will be removed from pandas in a future version. Use pandas.concat instead.\n",
            "  df = df.append(new_row15, ignore_index=True)\n",
            "<ipython-input-35-079751cde519>:120: FutureWarning: The frame.append method is deprecated and will be removed from pandas in a future version. Use pandas.concat instead.\n",
            "  df = df.append(new_row16, ignore_index=True)\n",
            "<ipython-input-35-079751cde519>:122: FutureWarning: The frame.append method is deprecated and will be removed from pandas in a future version. Use pandas.concat instead.\n",
            "  df = df.append(new_row17, ignore_index=True)\n",
            "<ipython-input-35-079751cde519>:124: FutureWarning: The frame.append method is deprecated and will be removed from pandas in a future version. Use pandas.concat instead.\n",
            "  df = df.append(new_row18, ignore_index=True)\n",
            "<ipython-input-35-079751cde519>:126: FutureWarning: The frame.append method is deprecated and will be removed from pandas in a future version. Use pandas.concat instead.\n",
            "  df = df.append(new_row19, ignore_index=True)\n",
            "<ipython-input-35-079751cde519>:128: FutureWarning: The frame.append method is deprecated and will be removed from pandas in a future version. Use pandas.concat instead.\n",
            "  df = df.append(new_row20, ignore_index=True)\n",
            "<ipython-input-35-079751cde519>:80: FutureWarning: The frame.append method is deprecated and will be removed from pandas in a future version. Use pandas.concat instead.\n",
            "  df = df.append(new_row1, ignore_index=True)\n",
            "<ipython-input-35-079751cde519>:82: FutureWarning: The frame.append method is deprecated and will be removed from pandas in a future version. Use pandas.concat instead.\n",
            "  df = df.append(new_row1a, ignore_index=True)\n",
            "<ipython-input-35-079751cde519>:84: FutureWarning: The frame.append method is deprecated and will be removed from pandas in a future version. Use pandas.concat instead.\n",
            "  df = df.append(new_row2, ignore_index=True)\n",
            "<ipython-input-35-079751cde519>:86: FutureWarning: The frame.append method is deprecated and will be removed from pandas in a future version. Use pandas.concat instead.\n",
            "  df = df.append(new_row3, ignore_index=True)\n",
            "<ipython-input-35-079751cde519>:88: FutureWarning: The frame.append method is deprecated and will be removed from pandas in a future version. Use pandas.concat instead.\n",
            "  df = df.append(new_row4, ignore_index=True)\n",
            "<ipython-input-35-079751cde519>:90: FutureWarning: The frame.append method is deprecated and will be removed from pandas in a future version. Use pandas.concat instead.\n",
            "  df = df.append(new_row4a, ignore_index=True)\n",
            "<ipython-input-35-079751cde519>:92: FutureWarning: The frame.append method is deprecated and will be removed from pandas in a future version. Use pandas.concat instead.\n",
            "  df = df.append(new_row5, ignore_index=True)\n",
            "<ipython-input-35-079751cde519>:94: FutureWarning: The frame.append method is deprecated and will be removed from pandas in a future version. Use pandas.concat instead.\n",
            "  df = df.append(new_row6, ignore_index=True)\n",
            "<ipython-input-35-079751cde519>:96: FutureWarning: The frame.append method is deprecated and will be removed from pandas in a future version. Use pandas.concat instead.\n",
            "  df = df.append(new_row7, ignore_index=True)\n",
            "<ipython-input-35-079751cde519>:98: FutureWarning: The frame.append method is deprecated and will be removed from pandas in a future version. Use pandas.concat instead.\n",
            "  df = df.append(new_row7a, ignore_index=True)\n",
            "<ipython-input-35-079751cde519>:100: FutureWarning: The frame.append method is deprecated and will be removed from pandas in a future version. Use pandas.concat instead.\n",
            "  df = df.append(new_row8, ignore_index=True)\n",
            "<ipython-input-35-079751cde519>:102: FutureWarning: The frame.append method is deprecated and will be removed from pandas in a future version. Use pandas.concat instead.\n",
            "  df = df.append(new_row9, ignore_index=True)\n",
            "<ipython-input-35-079751cde519>:104: FutureWarning: The frame.append method is deprecated and will be removed from pandas in a future version. Use pandas.concat instead.\n",
            "  df = df.append(new_row10, ignore_index=True)\n",
            "<ipython-input-35-079751cde519>:106: FutureWarning: The frame.append method is deprecated and will be removed from pandas in a future version. Use pandas.concat instead.\n",
            "  df = df.append(new_row10a, ignore_index=True)\n",
            "<ipython-input-35-079751cde519>:108: FutureWarning: The frame.append method is deprecated and will be removed from pandas in a future version. Use pandas.concat instead.\n",
            "  df = df.append(new_row11, ignore_index=True)\n",
            "<ipython-input-35-079751cde519>:110: FutureWarning: The frame.append method is deprecated and will be removed from pandas in a future version. Use pandas.concat instead.\n",
            "  df = df.append(new_row12, ignore_index=True)\n",
            "<ipython-input-35-079751cde519>:112: FutureWarning: The frame.append method is deprecated and will be removed from pandas in a future version. Use pandas.concat instead.\n",
            "  df = df.append(new_row13, ignore_index=True)\n",
            "<ipython-input-35-079751cde519>:114: FutureWarning: The frame.append method is deprecated and will be removed from pandas in a future version. Use pandas.concat instead.\n",
            "  df = df.append(new_row13a, ignore_index=True)\n",
            "<ipython-input-35-079751cde519>:116: FutureWarning: The frame.append method is deprecated and will be removed from pandas in a future version. Use pandas.concat instead.\n",
            "  df = df.append(new_row14, ignore_index=True)\n",
            "<ipython-input-35-079751cde519>:118: FutureWarning: The frame.append method is deprecated and will be removed from pandas in a future version. Use pandas.concat instead.\n",
            "  df = df.append(new_row15, ignore_index=True)\n",
            "<ipython-input-35-079751cde519>:120: FutureWarning: The frame.append method is deprecated and will be removed from pandas in a future version. Use pandas.concat instead.\n",
            "  df = df.append(new_row16, ignore_index=True)\n",
            "<ipython-input-35-079751cde519>:122: FutureWarning: The frame.append method is deprecated and will be removed from pandas in a future version. Use pandas.concat instead.\n",
            "  df = df.append(new_row17, ignore_index=True)\n",
            "<ipython-input-35-079751cde519>:124: FutureWarning: The frame.append method is deprecated and will be removed from pandas in a future version. Use pandas.concat instead.\n",
            "  df = df.append(new_row18, ignore_index=True)\n",
            "<ipython-input-35-079751cde519>:126: FutureWarning: The frame.append method is deprecated and will be removed from pandas in a future version. Use pandas.concat instead.\n",
            "  df = df.append(new_row19, ignore_index=True)\n",
            "<ipython-input-35-079751cde519>:128: FutureWarning: The frame.append method is deprecated and will be removed from pandas in a future version. Use pandas.concat instead.\n",
            "  df = df.append(new_row20, ignore_index=True)\n",
            "<ipython-input-35-079751cde519>:80: FutureWarning: The frame.append method is deprecated and will be removed from pandas in a future version. Use pandas.concat instead.\n",
            "  df = df.append(new_row1, ignore_index=True)\n",
            "<ipython-input-35-079751cde519>:82: FutureWarning: The frame.append method is deprecated and will be removed from pandas in a future version. Use pandas.concat instead.\n",
            "  df = df.append(new_row1a, ignore_index=True)\n",
            "<ipython-input-35-079751cde519>:84: FutureWarning: The frame.append method is deprecated and will be removed from pandas in a future version. Use pandas.concat instead.\n",
            "  df = df.append(new_row2, ignore_index=True)\n",
            "<ipython-input-35-079751cde519>:86: FutureWarning: The frame.append method is deprecated and will be removed from pandas in a future version. Use pandas.concat instead.\n",
            "  df = df.append(new_row3, ignore_index=True)\n",
            "<ipython-input-35-079751cde519>:88: FutureWarning: The frame.append method is deprecated and will be removed from pandas in a future version. Use pandas.concat instead.\n",
            "  df = df.append(new_row4, ignore_index=True)\n",
            "<ipython-input-35-079751cde519>:90: FutureWarning: The frame.append method is deprecated and will be removed from pandas in a future version. Use pandas.concat instead.\n",
            "  df = df.append(new_row4a, ignore_index=True)\n",
            "<ipython-input-35-079751cde519>:92: FutureWarning: The frame.append method is deprecated and will be removed from pandas in a future version. Use pandas.concat instead.\n",
            "  df = df.append(new_row5, ignore_index=True)\n",
            "<ipython-input-35-079751cde519>:94: FutureWarning: The frame.append method is deprecated and will be removed from pandas in a future version. Use pandas.concat instead.\n",
            "  df = df.append(new_row6, ignore_index=True)\n",
            "<ipython-input-35-079751cde519>:96: FutureWarning: The frame.append method is deprecated and will be removed from pandas in a future version. Use pandas.concat instead.\n",
            "  df = df.append(new_row7, ignore_index=True)\n",
            "<ipython-input-35-079751cde519>:98: FutureWarning: The frame.append method is deprecated and will be removed from pandas in a future version. Use pandas.concat instead.\n",
            "  df = df.append(new_row7a, ignore_index=True)\n",
            "<ipython-input-35-079751cde519>:100: FutureWarning: The frame.append method is deprecated and will be removed from pandas in a future version. Use pandas.concat instead.\n",
            "  df = df.append(new_row8, ignore_index=True)\n",
            "<ipython-input-35-079751cde519>:102: FutureWarning: The frame.append method is deprecated and will be removed from pandas in a future version. Use pandas.concat instead.\n",
            "  df = df.append(new_row9, ignore_index=True)\n",
            "<ipython-input-35-079751cde519>:104: FutureWarning: The frame.append method is deprecated and will be removed from pandas in a future version. Use pandas.concat instead.\n",
            "  df = df.append(new_row10, ignore_index=True)\n",
            "<ipython-input-35-079751cde519>:106: FutureWarning: The frame.append method is deprecated and will be removed from pandas in a future version. Use pandas.concat instead.\n",
            "  df = df.append(new_row10a, ignore_index=True)\n",
            "<ipython-input-35-079751cde519>:108: FutureWarning: The frame.append method is deprecated and will be removed from pandas in a future version. Use pandas.concat instead.\n",
            "  df = df.append(new_row11, ignore_index=True)\n",
            "<ipython-input-35-079751cde519>:110: FutureWarning: The frame.append method is deprecated and will be removed from pandas in a future version. Use pandas.concat instead.\n",
            "  df = df.append(new_row12, ignore_index=True)\n",
            "<ipython-input-35-079751cde519>:112: FutureWarning: The frame.append method is deprecated and will be removed from pandas in a future version. Use pandas.concat instead.\n",
            "  df = df.append(new_row13, ignore_index=True)\n",
            "<ipython-input-35-079751cde519>:114: FutureWarning: The frame.append method is deprecated and will be removed from pandas in a future version. Use pandas.concat instead.\n",
            "  df = df.append(new_row13a, ignore_index=True)\n",
            "<ipython-input-35-079751cde519>:116: FutureWarning: The frame.append method is deprecated and will be removed from pandas in a future version. Use pandas.concat instead.\n",
            "  df = df.append(new_row14, ignore_index=True)\n",
            "<ipython-input-35-079751cde519>:118: FutureWarning: The frame.append method is deprecated and will be removed from pandas in a future version. Use pandas.concat instead.\n",
            "  df = df.append(new_row15, ignore_index=True)\n",
            "<ipython-input-35-079751cde519>:120: FutureWarning: The frame.append method is deprecated and will be removed from pandas in a future version. Use pandas.concat instead.\n",
            "  df = df.append(new_row16, ignore_index=True)\n",
            "<ipython-input-35-079751cde519>:122: FutureWarning: The frame.append method is deprecated and will be removed from pandas in a future version. Use pandas.concat instead.\n",
            "  df = df.append(new_row17, ignore_index=True)\n",
            "<ipython-input-35-079751cde519>:124: FutureWarning: The frame.append method is deprecated and will be removed from pandas in a future version. Use pandas.concat instead.\n",
            "  df = df.append(new_row18, ignore_index=True)\n",
            "<ipython-input-35-079751cde519>:126: FutureWarning: The frame.append method is deprecated and will be removed from pandas in a future version. Use pandas.concat instead.\n",
            "  df = df.append(new_row19, ignore_index=True)\n",
            "<ipython-input-35-079751cde519>:128: FutureWarning: The frame.append method is deprecated and will be removed from pandas in a future version. Use pandas.concat instead.\n",
            "  df = df.append(new_row20, ignore_index=True)\n",
            "<ipython-input-35-079751cde519>:80: FutureWarning: The frame.append method is deprecated and will be removed from pandas in a future version. Use pandas.concat instead.\n",
            "  df = df.append(new_row1, ignore_index=True)\n",
            "<ipython-input-35-079751cde519>:82: FutureWarning: The frame.append method is deprecated and will be removed from pandas in a future version. Use pandas.concat instead.\n",
            "  df = df.append(new_row1a, ignore_index=True)\n",
            "<ipython-input-35-079751cde519>:84: FutureWarning: The frame.append method is deprecated and will be removed from pandas in a future version. Use pandas.concat instead.\n",
            "  df = df.append(new_row2, ignore_index=True)\n",
            "<ipython-input-35-079751cde519>:86: FutureWarning: The frame.append method is deprecated and will be removed from pandas in a future version. Use pandas.concat instead.\n",
            "  df = df.append(new_row3, ignore_index=True)\n",
            "<ipython-input-35-079751cde519>:88: FutureWarning: The frame.append method is deprecated and will be removed from pandas in a future version. Use pandas.concat instead.\n",
            "  df = df.append(new_row4, ignore_index=True)\n",
            "<ipython-input-35-079751cde519>:90: FutureWarning: The frame.append method is deprecated and will be removed from pandas in a future version. Use pandas.concat instead.\n",
            "  df = df.append(new_row4a, ignore_index=True)\n",
            "<ipython-input-35-079751cde519>:92: FutureWarning: The frame.append method is deprecated and will be removed from pandas in a future version. Use pandas.concat instead.\n",
            "  df = df.append(new_row5, ignore_index=True)\n",
            "<ipython-input-35-079751cde519>:94: FutureWarning: The frame.append method is deprecated and will be removed from pandas in a future version. Use pandas.concat instead.\n",
            "  df = df.append(new_row6, ignore_index=True)\n",
            "<ipython-input-35-079751cde519>:96: FutureWarning: The frame.append method is deprecated and will be removed from pandas in a future version. Use pandas.concat instead.\n",
            "  df = df.append(new_row7, ignore_index=True)\n",
            "<ipython-input-35-079751cde519>:98: FutureWarning: The frame.append method is deprecated and will be removed from pandas in a future version. Use pandas.concat instead.\n",
            "  df = df.append(new_row7a, ignore_index=True)\n",
            "<ipython-input-35-079751cde519>:100: FutureWarning: The frame.append method is deprecated and will be removed from pandas in a future version. Use pandas.concat instead.\n",
            "  df = df.append(new_row8, ignore_index=True)\n",
            "<ipython-input-35-079751cde519>:102: FutureWarning: The frame.append method is deprecated and will be removed from pandas in a future version. Use pandas.concat instead.\n",
            "  df = df.append(new_row9, ignore_index=True)\n",
            "<ipython-input-35-079751cde519>:104: FutureWarning: The frame.append method is deprecated and will be removed from pandas in a future version. Use pandas.concat instead.\n",
            "  df = df.append(new_row10, ignore_index=True)\n",
            "<ipython-input-35-079751cde519>:106: FutureWarning: The frame.append method is deprecated and will be removed from pandas in a future version. Use pandas.concat instead.\n",
            "  df = df.append(new_row10a, ignore_index=True)\n",
            "<ipython-input-35-079751cde519>:108: FutureWarning: The frame.append method is deprecated and will be removed from pandas in a future version. Use pandas.concat instead.\n",
            "  df = df.append(new_row11, ignore_index=True)\n",
            "<ipython-input-35-079751cde519>:110: FutureWarning: The frame.append method is deprecated and will be removed from pandas in a future version. Use pandas.concat instead.\n",
            "  df = df.append(new_row12, ignore_index=True)\n",
            "<ipython-input-35-079751cde519>:112: FutureWarning: The frame.append method is deprecated and will be removed from pandas in a future version. Use pandas.concat instead.\n",
            "  df = df.append(new_row13, ignore_index=True)\n",
            "<ipython-input-35-079751cde519>:114: FutureWarning: The frame.append method is deprecated and will be removed from pandas in a future version. Use pandas.concat instead.\n",
            "  df = df.append(new_row13a, ignore_index=True)\n",
            "<ipython-input-35-079751cde519>:116: FutureWarning: The frame.append method is deprecated and will be removed from pandas in a future version. Use pandas.concat instead.\n",
            "  df = df.append(new_row14, ignore_index=True)\n",
            "<ipython-input-35-079751cde519>:118: FutureWarning: The frame.append method is deprecated and will be removed from pandas in a future version. Use pandas.concat instead.\n",
            "  df = df.append(new_row15, ignore_index=True)\n",
            "<ipython-input-35-079751cde519>:120: FutureWarning: The frame.append method is deprecated and will be removed from pandas in a future version. Use pandas.concat instead.\n",
            "  df = df.append(new_row16, ignore_index=True)\n",
            "<ipython-input-35-079751cde519>:122: FutureWarning: The frame.append method is deprecated and will be removed from pandas in a future version. Use pandas.concat instead.\n",
            "  df = df.append(new_row17, ignore_index=True)\n",
            "<ipython-input-35-079751cde519>:124: FutureWarning: The frame.append method is deprecated and will be removed from pandas in a future version. Use pandas.concat instead.\n",
            "  df = df.append(new_row18, ignore_index=True)\n",
            "<ipython-input-35-079751cde519>:126: FutureWarning: The frame.append method is deprecated and will be removed from pandas in a future version. Use pandas.concat instead.\n",
            "  df = df.append(new_row19, ignore_index=True)\n",
            "<ipython-input-35-079751cde519>:128: FutureWarning: The frame.append method is deprecated and will be removed from pandas in a future version. Use pandas.concat instead.\n",
            "  df = df.append(new_row20, ignore_index=True)\n",
            "<ipython-input-35-079751cde519>:80: FutureWarning: The frame.append method is deprecated and will be removed from pandas in a future version. Use pandas.concat instead.\n",
            "  df = df.append(new_row1, ignore_index=True)\n",
            "<ipython-input-35-079751cde519>:82: FutureWarning: The frame.append method is deprecated and will be removed from pandas in a future version. Use pandas.concat instead.\n",
            "  df = df.append(new_row1a, ignore_index=True)\n",
            "<ipython-input-35-079751cde519>:84: FutureWarning: The frame.append method is deprecated and will be removed from pandas in a future version. Use pandas.concat instead.\n",
            "  df = df.append(new_row2, ignore_index=True)\n",
            "<ipython-input-35-079751cde519>:86: FutureWarning: The frame.append method is deprecated and will be removed from pandas in a future version. Use pandas.concat instead.\n",
            "  df = df.append(new_row3, ignore_index=True)\n",
            "<ipython-input-35-079751cde519>:88: FutureWarning: The frame.append method is deprecated and will be removed from pandas in a future version. Use pandas.concat instead.\n",
            "  df = df.append(new_row4, ignore_index=True)\n",
            "<ipython-input-35-079751cde519>:90: FutureWarning: The frame.append method is deprecated and will be removed from pandas in a future version. Use pandas.concat instead.\n",
            "  df = df.append(new_row4a, ignore_index=True)\n",
            "<ipython-input-35-079751cde519>:92: FutureWarning: The frame.append method is deprecated and will be removed from pandas in a future version. Use pandas.concat instead.\n",
            "  df = df.append(new_row5, ignore_index=True)\n",
            "<ipython-input-35-079751cde519>:94: FutureWarning: The frame.append method is deprecated and will be removed from pandas in a future version. Use pandas.concat instead.\n",
            "  df = df.append(new_row6, ignore_index=True)\n",
            "<ipython-input-35-079751cde519>:96: FutureWarning: The frame.append method is deprecated and will be removed from pandas in a future version. Use pandas.concat instead.\n",
            "  df = df.append(new_row7, ignore_index=True)\n",
            "<ipython-input-35-079751cde519>:98: FutureWarning: The frame.append method is deprecated and will be removed from pandas in a future version. Use pandas.concat instead.\n",
            "  df = df.append(new_row7a, ignore_index=True)\n",
            "<ipython-input-35-079751cde519>:100: FutureWarning: The frame.append method is deprecated and will be removed from pandas in a future version. Use pandas.concat instead.\n",
            "  df = df.append(new_row8, ignore_index=True)\n",
            "<ipython-input-35-079751cde519>:102: FutureWarning: The frame.append method is deprecated and will be removed from pandas in a future version. Use pandas.concat instead.\n",
            "  df = df.append(new_row9, ignore_index=True)\n",
            "<ipython-input-35-079751cde519>:104: FutureWarning: The frame.append method is deprecated and will be removed from pandas in a future version. Use pandas.concat instead.\n",
            "  df = df.append(new_row10, ignore_index=True)\n",
            "<ipython-input-35-079751cde519>:106: FutureWarning: The frame.append method is deprecated and will be removed from pandas in a future version. Use pandas.concat instead.\n",
            "  df = df.append(new_row10a, ignore_index=True)\n",
            "<ipython-input-35-079751cde519>:108: FutureWarning: The frame.append method is deprecated and will be removed from pandas in a future version. Use pandas.concat instead.\n",
            "  df = df.append(new_row11, ignore_index=True)\n",
            "<ipython-input-35-079751cde519>:110: FutureWarning: The frame.append method is deprecated and will be removed from pandas in a future version. Use pandas.concat instead.\n",
            "  df = df.append(new_row12, ignore_index=True)\n",
            "<ipython-input-35-079751cde519>:112: FutureWarning: The frame.append method is deprecated and will be removed from pandas in a future version. Use pandas.concat instead.\n",
            "  df = df.append(new_row13, ignore_index=True)\n",
            "<ipython-input-35-079751cde519>:114: FutureWarning: The frame.append method is deprecated and will be removed from pandas in a future version. Use pandas.concat instead.\n",
            "  df = df.append(new_row13a, ignore_index=True)\n",
            "<ipython-input-35-079751cde519>:116: FutureWarning: The frame.append method is deprecated and will be removed from pandas in a future version. Use pandas.concat instead.\n",
            "  df = df.append(new_row14, ignore_index=True)\n",
            "<ipython-input-35-079751cde519>:118: FutureWarning: The frame.append method is deprecated and will be removed from pandas in a future version. Use pandas.concat instead.\n",
            "  df = df.append(new_row15, ignore_index=True)\n",
            "<ipython-input-35-079751cde519>:120: FutureWarning: The frame.append method is deprecated and will be removed from pandas in a future version. Use pandas.concat instead.\n",
            "  df = df.append(new_row16, ignore_index=True)\n",
            "<ipython-input-35-079751cde519>:122: FutureWarning: The frame.append method is deprecated and will be removed from pandas in a future version. Use pandas.concat instead.\n",
            "  df = df.append(new_row17, ignore_index=True)\n",
            "<ipython-input-35-079751cde519>:124: FutureWarning: The frame.append method is deprecated and will be removed from pandas in a future version. Use pandas.concat instead.\n",
            "  df = df.append(new_row18, ignore_index=True)\n",
            "<ipython-input-35-079751cde519>:126: FutureWarning: The frame.append method is deprecated and will be removed from pandas in a future version. Use pandas.concat instead.\n",
            "  df = df.append(new_row19, ignore_index=True)\n",
            "<ipython-input-35-079751cde519>:128: FutureWarning: The frame.append method is deprecated and will be removed from pandas in a future version. Use pandas.concat instead.\n",
            "  df = df.append(new_row20, ignore_index=True)\n",
            "<ipython-input-35-079751cde519>:80: FutureWarning: The frame.append method is deprecated and will be removed from pandas in a future version. Use pandas.concat instead.\n",
            "  df = df.append(new_row1, ignore_index=True)\n",
            "<ipython-input-35-079751cde519>:82: FutureWarning: The frame.append method is deprecated and will be removed from pandas in a future version. Use pandas.concat instead.\n",
            "  df = df.append(new_row1a, ignore_index=True)\n",
            "<ipython-input-35-079751cde519>:84: FutureWarning: The frame.append method is deprecated and will be removed from pandas in a future version. Use pandas.concat instead.\n",
            "  df = df.append(new_row2, ignore_index=True)\n",
            "<ipython-input-35-079751cde519>:86: FutureWarning: The frame.append method is deprecated and will be removed from pandas in a future version. Use pandas.concat instead.\n",
            "  df = df.append(new_row3, ignore_index=True)\n",
            "<ipython-input-35-079751cde519>:88: FutureWarning: The frame.append method is deprecated and will be removed from pandas in a future version. Use pandas.concat instead.\n",
            "  df = df.append(new_row4, ignore_index=True)\n",
            "<ipython-input-35-079751cde519>:90: FutureWarning: The frame.append method is deprecated and will be removed from pandas in a future version. Use pandas.concat instead.\n",
            "  df = df.append(new_row4a, ignore_index=True)\n",
            "<ipython-input-35-079751cde519>:92: FutureWarning: The frame.append method is deprecated and will be removed from pandas in a future version. Use pandas.concat instead.\n",
            "  df = df.append(new_row5, ignore_index=True)\n",
            "<ipython-input-35-079751cde519>:94: FutureWarning: The frame.append method is deprecated and will be removed from pandas in a future version. Use pandas.concat instead.\n",
            "  df = df.append(new_row6, ignore_index=True)\n",
            "<ipython-input-35-079751cde519>:96: FutureWarning: The frame.append method is deprecated and will be removed from pandas in a future version. Use pandas.concat instead.\n",
            "  df = df.append(new_row7, ignore_index=True)\n",
            "<ipython-input-35-079751cde519>:98: FutureWarning: The frame.append method is deprecated and will be removed from pandas in a future version. Use pandas.concat instead.\n",
            "  df = df.append(new_row7a, ignore_index=True)\n",
            "<ipython-input-35-079751cde519>:100: FutureWarning: The frame.append method is deprecated and will be removed from pandas in a future version. Use pandas.concat instead.\n",
            "  df = df.append(new_row8, ignore_index=True)\n",
            "<ipython-input-35-079751cde519>:102: FutureWarning: The frame.append method is deprecated and will be removed from pandas in a future version. Use pandas.concat instead.\n",
            "  df = df.append(new_row9, ignore_index=True)\n",
            "<ipython-input-35-079751cde519>:104: FutureWarning: The frame.append method is deprecated and will be removed from pandas in a future version. Use pandas.concat instead.\n",
            "  df = df.append(new_row10, ignore_index=True)\n",
            "<ipython-input-35-079751cde519>:106: FutureWarning: The frame.append method is deprecated and will be removed from pandas in a future version. Use pandas.concat instead.\n",
            "  df = df.append(new_row10a, ignore_index=True)\n",
            "<ipython-input-35-079751cde519>:108: FutureWarning: The frame.append method is deprecated and will be removed from pandas in a future version. Use pandas.concat instead.\n",
            "  df = df.append(new_row11, ignore_index=True)\n",
            "<ipython-input-35-079751cde519>:110: FutureWarning: The frame.append method is deprecated and will be removed from pandas in a future version. Use pandas.concat instead.\n",
            "  df = df.append(new_row12, ignore_index=True)\n",
            "<ipython-input-35-079751cde519>:112: FutureWarning: The frame.append method is deprecated and will be removed from pandas in a future version. Use pandas.concat instead.\n",
            "  df = df.append(new_row13, ignore_index=True)\n",
            "<ipython-input-35-079751cde519>:114: FutureWarning: The frame.append method is deprecated and will be removed from pandas in a future version. Use pandas.concat instead.\n",
            "  df = df.append(new_row13a, ignore_index=True)\n",
            "<ipython-input-35-079751cde519>:116: FutureWarning: The frame.append method is deprecated and will be removed from pandas in a future version. Use pandas.concat instead.\n",
            "  df = df.append(new_row14, ignore_index=True)\n",
            "<ipython-input-35-079751cde519>:118: FutureWarning: The frame.append method is deprecated and will be removed from pandas in a future version. Use pandas.concat instead.\n",
            "  df = df.append(new_row15, ignore_index=True)\n",
            "<ipython-input-35-079751cde519>:120: FutureWarning: The frame.append method is deprecated and will be removed from pandas in a future version. Use pandas.concat instead.\n",
            "  df = df.append(new_row16, ignore_index=True)\n",
            "<ipython-input-35-079751cde519>:122: FutureWarning: The frame.append method is deprecated and will be removed from pandas in a future version. Use pandas.concat instead.\n",
            "  df = df.append(new_row17, ignore_index=True)\n",
            "<ipython-input-35-079751cde519>:124: FutureWarning: The frame.append method is deprecated and will be removed from pandas in a future version. Use pandas.concat instead.\n",
            "  df = df.append(new_row18, ignore_index=True)\n",
            "<ipython-input-35-079751cde519>:126: FutureWarning: The frame.append method is deprecated and will be removed from pandas in a future version. Use pandas.concat instead.\n",
            "  df = df.append(new_row19, ignore_index=True)\n",
            "<ipython-input-35-079751cde519>:128: FutureWarning: The frame.append method is deprecated and will be removed from pandas in a future version. Use pandas.concat instead.\n",
            "  df = df.append(new_row20, ignore_index=True)\n",
            "<ipython-input-35-079751cde519>:80: FutureWarning: The frame.append method is deprecated and will be removed from pandas in a future version. Use pandas.concat instead.\n",
            "  df = df.append(new_row1, ignore_index=True)\n",
            "<ipython-input-35-079751cde519>:82: FutureWarning: The frame.append method is deprecated and will be removed from pandas in a future version. Use pandas.concat instead.\n",
            "  df = df.append(new_row1a, ignore_index=True)\n",
            "<ipython-input-35-079751cde519>:84: FutureWarning: The frame.append method is deprecated and will be removed from pandas in a future version. Use pandas.concat instead.\n",
            "  df = df.append(new_row2, ignore_index=True)\n",
            "<ipython-input-35-079751cde519>:86: FutureWarning: The frame.append method is deprecated and will be removed from pandas in a future version. Use pandas.concat instead.\n",
            "  df = df.append(new_row3, ignore_index=True)\n",
            "<ipython-input-35-079751cde519>:88: FutureWarning: The frame.append method is deprecated and will be removed from pandas in a future version. Use pandas.concat instead.\n",
            "  df = df.append(new_row4, ignore_index=True)\n",
            "<ipython-input-35-079751cde519>:90: FutureWarning: The frame.append method is deprecated and will be removed from pandas in a future version. Use pandas.concat instead.\n",
            "  df = df.append(new_row4a, ignore_index=True)\n",
            "<ipython-input-35-079751cde519>:92: FutureWarning: The frame.append method is deprecated and will be removed from pandas in a future version. Use pandas.concat instead.\n",
            "  df = df.append(new_row5, ignore_index=True)\n",
            "<ipython-input-35-079751cde519>:94: FutureWarning: The frame.append method is deprecated and will be removed from pandas in a future version. Use pandas.concat instead.\n",
            "  df = df.append(new_row6, ignore_index=True)\n",
            "<ipython-input-35-079751cde519>:96: FutureWarning: The frame.append method is deprecated and will be removed from pandas in a future version. Use pandas.concat instead.\n",
            "  df = df.append(new_row7, ignore_index=True)\n",
            "<ipython-input-35-079751cde519>:98: FutureWarning: The frame.append method is deprecated and will be removed from pandas in a future version. Use pandas.concat instead.\n",
            "  df = df.append(new_row7a, ignore_index=True)\n",
            "<ipython-input-35-079751cde519>:100: FutureWarning: The frame.append method is deprecated and will be removed from pandas in a future version. Use pandas.concat instead.\n",
            "  df = df.append(new_row8, ignore_index=True)\n",
            "<ipython-input-35-079751cde519>:102: FutureWarning: The frame.append method is deprecated and will be removed from pandas in a future version. Use pandas.concat instead.\n",
            "  df = df.append(new_row9, ignore_index=True)\n",
            "<ipython-input-35-079751cde519>:104: FutureWarning: The frame.append method is deprecated and will be removed from pandas in a future version. Use pandas.concat instead.\n",
            "  df = df.append(new_row10, ignore_index=True)\n",
            "<ipython-input-35-079751cde519>:106: FutureWarning: The frame.append method is deprecated and will be removed from pandas in a future version. Use pandas.concat instead.\n",
            "  df = df.append(new_row10a, ignore_index=True)\n",
            "<ipython-input-35-079751cde519>:108: FutureWarning: The frame.append method is deprecated and will be removed from pandas in a future version. Use pandas.concat instead.\n",
            "  df = df.append(new_row11, ignore_index=True)\n",
            "<ipython-input-35-079751cde519>:110: FutureWarning: The frame.append method is deprecated and will be removed from pandas in a future version. Use pandas.concat instead.\n",
            "  df = df.append(new_row12, ignore_index=True)\n",
            "<ipython-input-35-079751cde519>:112: FutureWarning: The frame.append method is deprecated and will be removed from pandas in a future version. Use pandas.concat instead.\n",
            "  df = df.append(new_row13, ignore_index=True)\n",
            "<ipython-input-35-079751cde519>:114: FutureWarning: The frame.append method is deprecated and will be removed from pandas in a future version. Use pandas.concat instead.\n",
            "  df = df.append(new_row13a, ignore_index=True)\n",
            "<ipython-input-35-079751cde519>:116: FutureWarning: The frame.append method is deprecated and will be removed from pandas in a future version. Use pandas.concat instead.\n",
            "  df = df.append(new_row14, ignore_index=True)\n",
            "<ipython-input-35-079751cde519>:118: FutureWarning: The frame.append method is deprecated and will be removed from pandas in a future version. Use pandas.concat instead.\n",
            "  df = df.append(new_row15, ignore_index=True)\n",
            "<ipython-input-35-079751cde519>:120: FutureWarning: The frame.append method is deprecated and will be removed from pandas in a future version. Use pandas.concat instead.\n",
            "  df = df.append(new_row16, ignore_index=True)\n",
            "<ipython-input-35-079751cde519>:122: FutureWarning: The frame.append method is deprecated and will be removed from pandas in a future version. Use pandas.concat instead.\n",
            "  df = df.append(new_row17, ignore_index=True)\n",
            "<ipython-input-35-079751cde519>:124: FutureWarning: The frame.append method is deprecated and will be removed from pandas in a future version. Use pandas.concat instead.\n",
            "  df = df.append(new_row18, ignore_index=True)\n",
            "<ipython-input-35-079751cde519>:126: FutureWarning: The frame.append method is deprecated and will be removed from pandas in a future version. Use pandas.concat instead.\n",
            "  df = df.append(new_row19, ignore_index=True)\n",
            "<ipython-input-35-079751cde519>:128: FutureWarning: The frame.append method is deprecated and will be removed from pandas in a future version. Use pandas.concat instead.\n",
            "  df = df.append(new_row20, ignore_index=True)\n",
            "<ipython-input-35-079751cde519>:80: FutureWarning: The frame.append method is deprecated and will be removed from pandas in a future version. Use pandas.concat instead.\n",
            "  df = df.append(new_row1, ignore_index=True)\n",
            "<ipython-input-35-079751cde519>:82: FutureWarning: The frame.append method is deprecated and will be removed from pandas in a future version. Use pandas.concat instead.\n",
            "  df = df.append(new_row1a, ignore_index=True)\n",
            "<ipython-input-35-079751cde519>:84: FutureWarning: The frame.append method is deprecated and will be removed from pandas in a future version. Use pandas.concat instead.\n",
            "  df = df.append(new_row2, ignore_index=True)\n",
            "<ipython-input-35-079751cde519>:86: FutureWarning: The frame.append method is deprecated and will be removed from pandas in a future version. Use pandas.concat instead.\n",
            "  df = df.append(new_row3, ignore_index=True)\n",
            "<ipython-input-35-079751cde519>:88: FutureWarning: The frame.append method is deprecated and will be removed from pandas in a future version. Use pandas.concat instead.\n",
            "  df = df.append(new_row4, ignore_index=True)\n",
            "<ipython-input-35-079751cde519>:90: FutureWarning: The frame.append method is deprecated and will be removed from pandas in a future version. Use pandas.concat instead.\n",
            "  df = df.append(new_row4a, ignore_index=True)\n",
            "<ipython-input-35-079751cde519>:92: FutureWarning: The frame.append method is deprecated and will be removed from pandas in a future version. Use pandas.concat instead.\n",
            "  df = df.append(new_row5, ignore_index=True)\n",
            "<ipython-input-35-079751cde519>:94: FutureWarning: The frame.append method is deprecated and will be removed from pandas in a future version. Use pandas.concat instead.\n",
            "  df = df.append(new_row6, ignore_index=True)\n",
            "<ipython-input-35-079751cde519>:96: FutureWarning: The frame.append method is deprecated and will be removed from pandas in a future version. Use pandas.concat instead.\n",
            "  df = df.append(new_row7, ignore_index=True)\n",
            "<ipython-input-35-079751cde519>:98: FutureWarning: The frame.append method is deprecated and will be removed from pandas in a future version. Use pandas.concat instead.\n",
            "  df = df.append(new_row7a, ignore_index=True)\n",
            "<ipython-input-35-079751cde519>:100: FutureWarning: The frame.append method is deprecated and will be removed from pandas in a future version. Use pandas.concat instead.\n",
            "  df = df.append(new_row8, ignore_index=True)\n",
            "<ipython-input-35-079751cde519>:102: FutureWarning: The frame.append method is deprecated and will be removed from pandas in a future version. Use pandas.concat instead.\n",
            "  df = df.append(new_row9, ignore_index=True)\n",
            "<ipython-input-35-079751cde519>:104: FutureWarning: The frame.append method is deprecated and will be removed from pandas in a future version. Use pandas.concat instead.\n",
            "  df = df.append(new_row10, ignore_index=True)\n",
            "<ipython-input-35-079751cde519>:106: FutureWarning: The frame.append method is deprecated and will be removed from pandas in a future version. Use pandas.concat instead.\n",
            "  df = df.append(new_row10a, ignore_index=True)\n",
            "<ipython-input-35-079751cde519>:108: FutureWarning: The frame.append method is deprecated and will be removed from pandas in a future version. Use pandas.concat instead.\n",
            "  df = df.append(new_row11, ignore_index=True)\n",
            "<ipython-input-35-079751cde519>:110: FutureWarning: The frame.append method is deprecated and will be removed from pandas in a future version. Use pandas.concat instead.\n",
            "  df = df.append(new_row12, ignore_index=True)\n",
            "<ipython-input-35-079751cde519>:112: FutureWarning: The frame.append method is deprecated and will be removed from pandas in a future version. Use pandas.concat instead.\n",
            "  df = df.append(new_row13, ignore_index=True)\n",
            "<ipython-input-35-079751cde519>:114: FutureWarning: The frame.append method is deprecated and will be removed from pandas in a future version. Use pandas.concat instead.\n",
            "  df = df.append(new_row13a, ignore_index=True)\n",
            "<ipython-input-35-079751cde519>:116: FutureWarning: The frame.append method is deprecated and will be removed from pandas in a future version. Use pandas.concat instead.\n",
            "  df = df.append(new_row14, ignore_index=True)\n",
            "<ipython-input-35-079751cde519>:118: FutureWarning: The frame.append method is deprecated and will be removed from pandas in a future version. Use pandas.concat instead.\n",
            "  df = df.append(new_row15, ignore_index=True)\n",
            "<ipython-input-35-079751cde519>:120: FutureWarning: The frame.append method is deprecated and will be removed from pandas in a future version. Use pandas.concat instead.\n",
            "  df = df.append(new_row16, ignore_index=True)\n",
            "<ipython-input-35-079751cde519>:122: FutureWarning: The frame.append method is deprecated and will be removed from pandas in a future version. Use pandas.concat instead.\n",
            "  df = df.append(new_row17, ignore_index=True)\n",
            "<ipython-input-35-079751cde519>:124: FutureWarning: The frame.append method is deprecated and will be removed from pandas in a future version. Use pandas.concat instead.\n",
            "  df = df.append(new_row18, ignore_index=True)\n",
            "<ipython-input-35-079751cde519>:126: FutureWarning: The frame.append method is deprecated and will be removed from pandas in a future version. Use pandas.concat instead.\n",
            "  df = df.append(new_row19, ignore_index=True)\n",
            "<ipython-input-35-079751cde519>:128: FutureWarning: The frame.append method is deprecated and will be removed from pandas in a future version. Use pandas.concat instead.\n",
            "  df = df.append(new_row20, ignore_index=True)\n",
            "<ipython-input-35-079751cde519>:80: FutureWarning: The frame.append method is deprecated and will be removed from pandas in a future version. Use pandas.concat instead.\n",
            "  df = df.append(new_row1, ignore_index=True)\n",
            "<ipython-input-35-079751cde519>:82: FutureWarning: The frame.append method is deprecated and will be removed from pandas in a future version. Use pandas.concat instead.\n",
            "  df = df.append(new_row1a, ignore_index=True)\n",
            "<ipython-input-35-079751cde519>:84: FutureWarning: The frame.append method is deprecated and will be removed from pandas in a future version. Use pandas.concat instead.\n",
            "  df = df.append(new_row2, ignore_index=True)\n",
            "<ipython-input-35-079751cde519>:86: FutureWarning: The frame.append method is deprecated and will be removed from pandas in a future version. Use pandas.concat instead.\n",
            "  df = df.append(new_row3, ignore_index=True)\n",
            "<ipython-input-35-079751cde519>:88: FutureWarning: The frame.append method is deprecated and will be removed from pandas in a future version. Use pandas.concat instead.\n",
            "  df = df.append(new_row4, ignore_index=True)\n",
            "<ipython-input-35-079751cde519>:90: FutureWarning: The frame.append method is deprecated and will be removed from pandas in a future version. Use pandas.concat instead.\n",
            "  df = df.append(new_row4a, ignore_index=True)\n",
            "<ipython-input-35-079751cde519>:92: FutureWarning: The frame.append method is deprecated and will be removed from pandas in a future version. Use pandas.concat instead.\n",
            "  df = df.append(new_row5, ignore_index=True)\n",
            "<ipython-input-35-079751cde519>:94: FutureWarning: The frame.append method is deprecated and will be removed from pandas in a future version. Use pandas.concat instead.\n",
            "  df = df.append(new_row6, ignore_index=True)\n",
            "<ipython-input-35-079751cde519>:96: FutureWarning: The frame.append method is deprecated and will be removed from pandas in a future version. Use pandas.concat instead.\n",
            "  df = df.append(new_row7, ignore_index=True)\n",
            "<ipython-input-35-079751cde519>:98: FutureWarning: The frame.append method is deprecated and will be removed from pandas in a future version. Use pandas.concat instead.\n",
            "  df = df.append(new_row7a, ignore_index=True)\n",
            "<ipython-input-35-079751cde519>:100: FutureWarning: The frame.append method is deprecated and will be removed from pandas in a future version. Use pandas.concat instead.\n",
            "  df = df.append(new_row8, ignore_index=True)\n",
            "<ipython-input-35-079751cde519>:102: FutureWarning: The frame.append method is deprecated and will be removed from pandas in a future version. Use pandas.concat instead.\n",
            "  df = df.append(new_row9, ignore_index=True)\n",
            "<ipython-input-35-079751cde519>:104: FutureWarning: The frame.append method is deprecated and will be removed from pandas in a future version. Use pandas.concat instead.\n",
            "  df = df.append(new_row10, ignore_index=True)\n",
            "<ipython-input-35-079751cde519>:106: FutureWarning: The frame.append method is deprecated and will be removed from pandas in a future version. Use pandas.concat instead.\n",
            "  df = df.append(new_row10a, ignore_index=True)\n",
            "<ipython-input-35-079751cde519>:108: FutureWarning: The frame.append method is deprecated and will be removed from pandas in a future version. Use pandas.concat instead.\n",
            "  df = df.append(new_row11, ignore_index=True)\n",
            "<ipython-input-35-079751cde519>:110: FutureWarning: The frame.append method is deprecated and will be removed from pandas in a future version. Use pandas.concat instead.\n",
            "  df = df.append(new_row12, ignore_index=True)\n",
            "<ipython-input-35-079751cde519>:112: FutureWarning: The frame.append method is deprecated and will be removed from pandas in a future version. Use pandas.concat instead.\n",
            "  df = df.append(new_row13, ignore_index=True)\n",
            "<ipython-input-35-079751cde519>:114: FutureWarning: The frame.append method is deprecated and will be removed from pandas in a future version. Use pandas.concat instead.\n",
            "  df = df.append(new_row13a, ignore_index=True)\n",
            "<ipython-input-35-079751cde519>:116: FutureWarning: The frame.append method is deprecated and will be removed from pandas in a future version. Use pandas.concat instead.\n",
            "  df = df.append(new_row14, ignore_index=True)\n",
            "<ipython-input-35-079751cde519>:118: FutureWarning: The frame.append method is deprecated and will be removed from pandas in a future version. Use pandas.concat instead.\n",
            "  df = df.append(new_row15, ignore_index=True)\n",
            "<ipython-input-35-079751cde519>:120: FutureWarning: The frame.append method is deprecated and will be removed from pandas in a future version. Use pandas.concat instead.\n",
            "  df = df.append(new_row16, ignore_index=True)\n",
            "<ipython-input-35-079751cde519>:122: FutureWarning: The frame.append method is deprecated and will be removed from pandas in a future version. Use pandas.concat instead.\n",
            "  df = df.append(new_row17, ignore_index=True)\n",
            "<ipython-input-35-079751cde519>:124: FutureWarning: The frame.append method is deprecated and will be removed from pandas in a future version. Use pandas.concat instead.\n",
            "  df = df.append(new_row18, ignore_index=True)\n",
            "<ipython-input-35-079751cde519>:126: FutureWarning: The frame.append method is deprecated and will be removed from pandas in a future version. Use pandas.concat instead.\n",
            "  df = df.append(new_row19, ignore_index=True)\n",
            "<ipython-input-35-079751cde519>:128: FutureWarning: The frame.append method is deprecated and will be removed from pandas in a future version. Use pandas.concat instead.\n",
            "  df = df.append(new_row20, ignore_index=True)\n",
            "<ipython-input-35-079751cde519>:80: FutureWarning: The frame.append method is deprecated and will be removed from pandas in a future version. Use pandas.concat instead.\n",
            "  df = df.append(new_row1, ignore_index=True)\n",
            "<ipython-input-35-079751cde519>:82: FutureWarning: The frame.append method is deprecated and will be removed from pandas in a future version. Use pandas.concat instead.\n",
            "  df = df.append(new_row1a, ignore_index=True)\n",
            "<ipython-input-35-079751cde519>:84: FutureWarning: The frame.append method is deprecated and will be removed from pandas in a future version. Use pandas.concat instead.\n",
            "  df = df.append(new_row2, ignore_index=True)\n",
            "<ipython-input-35-079751cde519>:86: FutureWarning: The frame.append method is deprecated and will be removed from pandas in a future version. Use pandas.concat instead.\n",
            "  df = df.append(new_row3, ignore_index=True)\n",
            "<ipython-input-35-079751cde519>:88: FutureWarning: The frame.append method is deprecated and will be removed from pandas in a future version. Use pandas.concat instead.\n",
            "  df = df.append(new_row4, ignore_index=True)\n",
            "<ipython-input-35-079751cde519>:90: FutureWarning: The frame.append method is deprecated and will be removed from pandas in a future version. Use pandas.concat instead.\n",
            "  df = df.append(new_row4a, ignore_index=True)\n",
            "<ipython-input-35-079751cde519>:92: FutureWarning: The frame.append method is deprecated and will be removed from pandas in a future version. Use pandas.concat instead.\n",
            "  df = df.append(new_row5, ignore_index=True)\n",
            "<ipython-input-35-079751cde519>:94: FutureWarning: The frame.append method is deprecated and will be removed from pandas in a future version. Use pandas.concat instead.\n",
            "  df = df.append(new_row6, ignore_index=True)\n",
            "<ipython-input-35-079751cde519>:96: FutureWarning: The frame.append method is deprecated and will be removed from pandas in a future version. Use pandas.concat instead.\n",
            "  df = df.append(new_row7, ignore_index=True)\n",
            "<ipython-input-35-079751cde519>:98: FutureWarning: The frame.append method is deprecated and will be removed from pandas in a future version. Use pandas.concat instead.\n",
            "  df = df.append(new_row7a, ignore_index=True)\n",
            "<ipython-input-35-079751cde519>:100: FutureWarning: The frame.append method is deprecated and will be removed from pandas in a future version. Use pandas.concat instead.\n",
            "  df = df.append(new_row8, ignore_index=True)\n",
            "<ipython-input-35-079751cde519>:102: FutureWarning: The frame.append method is deprecated and will be removed from pandas in a future version. Use pandas.concat instead.\n",
            "  df = df.append(new_row9, ignore_index=True)\n",
            "<ipython-input-35-079751cde519>:104: FutureWarning: The frame.append method is deprecated and will be removed from pandas in a future version. Use pandas.concat instead.\n",
            "  df = df.append(new_row10, ignore_index=True)\n",
            "<ipython-input-35-079751cde519>:106: FutureWarning: The frame.append method is deprecated and will be removed from pandas in a future version. Use pandas.concat instead.\n",
            "  df = df.append(new_row10a, ignore_index=True)\n",
            "<ipython-input-35-079751cde519>:108: FutureWarning: The frame.append method is deprecated and will be removed from pandas in a future version. Use pandas.concat instead.\n",
            "  df = df.append(new_row11, ignore_index=True)\n",
            "<ipython-input-35-079751cde519>:110: FutureWarning: The frame.append method is deprecated and will be removed from pandas in a future version. Use pandas.concat instead.\n",
            "  df = df.append(new_row12, ignore_index=True)\n",
            "<ipython-input-35-079751cde519>:112: FutureWarning: The frame.append method is deprecated and will be removed from pandas in a future version. Use pandas.concat instead.\n",
            "  df = df.append(new_row13, ignore_index=True)\n",
            "<ipython-input-35-079751cde519>:114: FutureWarning: The frame.append method is deprecated and will be removed from pandas in a future version. Use pandas.concat instead.\n",
            "  df = df.append(new_row13a, ignore_index=True)\n",
            "<ipython-input-35-079751cde519>:116: FutureWarning: The frame.append method is deprecated and will be removed from pandas in a future version. Use pandas.concat instead.\n",
            "  df = df.append(new_row14, ignore_index=True)\n",
            "<ipython-input-35-079751cde519>:118: FutureWarning: The frame.append method is deprecated and will be removed from pandas in a future version. Use pandas.concat instead.\n",
            "  df = df.append(new_row15, ignore_index=True)\n",
            "<ipython-input-35-079751cde519>:120: FutureWarning: The frame.append method is deprecated and will be removed from pandas in a future version. Use pandas.concat instead.\n",
            "  df = df.append(new_row16, ignore_index=True)\n",
            "<ipython-input-35-079751cde519>:122: FutureWarning: The frame.append method is deprecated and will be removed from pandas in a future version. Use pandas.concat instead.\n",
            "  df = df.append(new_row17, ignore_index=True)\n",
            "<ipython-input-35-079751cde519>:124: FutureWarning: The frame.append method is deprecated and will be removed from pandas in a future version. Use pandas.concat instead.\n",
            "  df = df.append(new_row18, ignore_index=True)\n",
            "<ipython-input-35-079751cde519>:126: FutureWarning: The frame.append method is deprecated and will be removed from pandas in a future version. Use pandas.concat instead.\n",
            "  df = df.append(new_row19, ignore_index=True)\n",
            "<ipython-input-35-079751cde519>:128: FutureWarning: The frame.append method is deprecated and will be removed from pandas in a future version. Use pandas.concat instead.\n",
            "  df = df.append(new_row20, ignore_index=True)\n",
            "<ipython-input-35-079751cde519>:80: FutureWarning: The frame.append method is deprecated and will be removed from pandas in a future version. Use pandas.concat instead.\n",
            "  df = df.append(new_row1, ignore_index=True)\n",
            "<ipython-input-35-079751cde519>:82: FutureWarning: The frame.append method is deprecated and will be removed from pandas in a future version. Use pandas.concat instead.\n",
            "  df = df.append(new_row1a, ignore_index=True)\n",
            "<ipython-input-35-079751cde519>:84: FutureWarning: The frame.append method is deprecated and will be removed from pandas in a future version. Use pandas.concat instead.\n",
            "  df = df.append(new_row2, ignore_index=True)\n",
            "<ipython-input-35-079751cde519>:86: FutureWarning: The frame.append method is deprecated and will be removed from pandas in a future version. Use pandas.concat instead.\n",
            "  df = df.append(new_row3, ignore_index=True)\n",
            "<ipython-input-35-079751cde519>:88: FutureWarning: The frame.append method is deprecated and will be removed from pandas in a future version. Use pandas.concat instead.\n",
            "  df = df.append(new_row4, ignore_index=True)\n",
            "<ipython-input-35-079751cde519>:90: FutureWarning: The frame.append method is deprecated and will be removed from pandas in a future version. Use pandas.concat instead.\n",
            "  df = df.append(new_row4a, ignore_index=True)\n",
            "<ipython-input-35-079751cde519>:92: FutureWarning: The frame.append method is deprecated and will be removed from pandas in a future version. Use pandas.concat instead.\n",
            "  df = df.append(new_row5, ignore_index=True)\n",
            "<ipython-input-35-079751cde519>:94: FutureWarning: The frame.append method is deprecated and will be removed from pandas in a future version. Use pandas.concat instead.\n",
            "  df = df.append(new_row6, ignore_index=True)\n",
            "<ipython-input-35-079751cde519>:96: FutureWarning: The frame.append method is deprecated and will be removed from pandas in a future version. Use pandas.concat instead.\n",
            "  df = df.append(new_row7, ignore_index=True)\n",
            "<ipython-input-35-079751cde519>:98: FutureWarning: The frame.append method is deprecated and will be removed from pandas in a future version. Use pandas.concat instead.\n",
            "  df = df.append(new_row7a, ignore_index=True)\n",
            "<ipython-input-35-079751cde519>:100: FutureWarning: The frame.append method is deprecated and will be removed from pandas in a future version. Use pandas.concat instead.\n",
            "  df = df.append(new_row8, ignore_index=True)\n",
            "<ipython-input-35-079751cde519>:102: FutureWarning: The frame.append method is deprecated and will be removed from pandas in a future version. Use pandas.concat instead.\n",
            "  df = df.append(new_row9, ignore_index=True)\n",
            "<ipython-input-35-079751cde519>:104: FutureWarning: The frame.append method is deprecated and will be removed from pandas in a future version. Use pandas.concat instead.\n",
            "  df = df.append(new_row10, ignore_index=True)\n",
            "<ipython-input-35-079751cde519>:106: FutureWarning: The frame.append method is deprecated and will be removed from pandas in a future version. Use pandas.concat instead.\n",
            "  df = df.append(new_row10a, ignore_index=True)\n",
            "<ipython-input-35-079751cde519>:108: FutureWarning: The frame.append method is deprecated and will be removed from pandas in a future version. Use pandas.concat instead.\n",
            "  df = df.append(new_row11, ignore_index=True)\n",
            "<ipython-input-35-079751cde519>:110: FutureWarning: The frame.append method is deprecated and will be removed from pandas in a future version. Use pandas.concat instead.\n",
            "  df = df.append(new_row12, ignore_index=True)\n",
            "<ipython-input-35-079751cde519>:112: FutureWarning: The frame.append method is deprecated and will be removed from pandas in a future version. Use pandas.concat instead.\n",
            "  df = df.append(new_row13, ignore_index=True)\n",
            "<ipython-input-35-079751cde519>:114: FutureWarning: The frame.append method is deprecated and will be removed from pandas in a future version. Use pandas.concat instead.\n",
            "  df = df.append(new_row13a, ignore_index=True)\n",
            "<ipython-input-35-079751cde519>:116: FutureWarning: The frame.append method is deprecated and will be removed from pandas in a future version. Use pandas.concat instead.\n",
            "  df = df.append(new_row14, ignore_index=True)\n",
            "<ipython-input-35-079751cde519>:118: FutureWarning: The frame.append method is deprecated and will be removed from pandas in a future version. Use pandas.concat instead.\n",
            "  df = df.append(new_row15, ignore_index=True)\n",
            "<ipython-input-35-079751cde519>:120: FutureWarning: The frame.append method is deprecated and will be removed from pandas in a future version. Use pandas.concat instead.\n",
            "  df = df.append(new_row16, ignore_index=True)\n",
            "<ipython-input-35-079751cde519>:122: FutureWarning: The frame.append method is deprecated and will be removed from pandas in a future version. Use pandas.concat instead.\n",
            "  df = df.append(new_row17, ignore_index=True)\n",
            "<ipython-input-35-079751cde519>:124: FutureWarning: The frame.append method is deprecated and will be removed from pandas in a future version. Use pandas.concat instead.\n",
            "  df = df.append(new_row18, ignore_index=True)\n",
            "<ipython-input-35-079751cde519>:126: FutureWarning: The frame.append method is deprecated and will be removed from pandas in a future version. Use pandas.concat instead.\n",
            "  df = df.append(new_row19, ignore_index=True)\n",
            "<ipython-input-35-079751cde519>:128: FutureWarning: The frame.append method is deprecated and will be removed from pandas in a future version. Use pandas.concat instead.\n",
            "  df = df.append(new_row20, ignore_index=True)\n",
            "<ipython-input-35-079751cde519>:80: FutureWarning: The frame.append method is deprecated and will be removed from pandas in a future version. Use pandas.concat instead.\n",
            "  df = df.append(new_row1, ignore_index=True)\n",
            "<ipython-input-35-079751cde519>:82: FutureWarning: The frame.append method is deprecated and will be removed from pandas in a future version. Use pandas.concat instead.\n",
            "  df = df.append(new_row1a, ignore_index=True)\n",
            "<ipython-input-35-079751cde519>:84: FutureWarning: The frame.append method is deprecated and will be removed from pandas in a future version. Use pandas.concat instead.\n",
            "  df = df.append(new_row2, ignore_index=True)\n",
            "<ipython-input-35-079751cde519>:86: FutureWarning: The frame.append method is deprecated and will be removed from pandas in a future version. Use pandas.concat instead.\n",
            "  df = df.append(new_row3, ignore_index=True)\n",
            "<ipython-input-35-079751cde519>:88: FutureWarning: The frame.append method is deprecated and will be removed from pandas in a future version. Use pandas.concat instead.\n",
            "  df = df.append(new_row4, ignore_index=True)\n",
            "<ipython-input-35-079751cde519>:90: FutureWarning: The frame.append method is deprecated and will be removed from pandas in a future version. Use pandas.concat instead.\n",
            "  df = df.append(new_row4a, ignore_index=True)\n",
            "<ipython-input-35-079751cde519>:92: FutureWarning: The frame.append method is deprecated and will be removed from pandas in a future version. Use pandas.concat instead.\n",
            "  df = df.append(new_row5, ignore_index=True)\n",
            "<ipython-input-35-079751cde519>:94: FutureWarning: The frame.append method is deprecated and will be removed from pandas in a future version. Use pandas.concat instead.\n",
            "  df = df.append(new_row6, ignore_index=True)\n",
            "<ipython-input-35-079751cde519>:96: FutureWarning: The frame.append method is deprecated and will be removed from pandas in a future version. Use pandas.concat instead.\n",
            "  df = df.append(new_row7, ignore_index=True)\n",
            "<ipython-input-35-079751cde519>:98: FutureWarning: The frame.append method is deprecated and will be removed from pandas in a future version. Use pandas.concat instead.\n",
            "  df = df.append(new_row7a, ignore_index=True)\n",
            "<ipython-input-35-079751cde519>:100: FutureWarning: The frame.append method is deprecated and will be removed from pandas in a future version. Use pandas.concat instead.\n",
            "  df = df.append(new_row8, ignore_index=True)\n",
            "<ipython-input-35-079751cde519>:102: FutureWarning: The frame.append method is deprecated and will be removed from pandas in a future version. Use pandas.concat instead.\n",
            "  df = df.append(new_row9, ignore_index=True)\n",
            "<ipython-input-35-079751cde519>:104: FutureWarning: The frame.append method is deprecated and will be removed from pandas in a future version. Use pandas.concat instead.\n",
            "  df = df.append(new_row10, ignore_index=True)\n",
            "<ipython-input-35-079751cde519>:106: FutureWarning: The frame.append method is deprecated and will be removed from pandas in a future version. Use pandas.concat instead.\n",
            "  df = df.append(new_row10a, ignore_index=True)\n",
            "<ipython-input-35-079751cde519>:108: FutureWarning: The frame.append method is deprecated and will be removed from pandas in a future version. Use pandas.concat instead.\n",
            "  df = df.append(new_row11, ignore_index=True)\n",
            "<ipython-input-35-079751cde519>:110: FutureWarning: The frame.append method is deprecated and will be removed from pandas in a future version. Use pandas.concat instead.\n",
            "  df = df.append(new_row12, ignore_index=True)\n",
            "<ipython-input-35-079751cde519>:112: FutureWarning: The frame.append method is deprecated and will be removed from pandas in a future version. Use pandas.concat instead.\n",
            "  df = df.append(new_row13, ignore_index=True)\n",
            "<ipython-input-35-079751cde519>:114: FutureWarning: The frame.append method is deprecated and will be removed from pandas in a future version. Use pandas.concat instead.\n",
            "  df = df.append(new_row13a, ignore_index=True)\n",
            "<ipython-input-35-079751cde519>:116: FutureWarning: The frame.append method is deprecated and will be removed from pandas in a future version. Use pandas.concat instead.\n",
            "  df = df.append(new_row14, ignore_index=True)\n",
            "<ipython-input-35-079751cde519>:118: FutureWarning: The frame.append method is deprecated and will be removed from pandas in a future version. Use pandas.concat instead.\n",
            "  df = df.append(new_row15, ignore_index=True)\n",
            "<ipython-input-35-079751cde519>:120: FutureWarning: The frame.append method is deprecated and will be removed from pandas in a future version. Use pandas.concat instead.\n",
            "  df = df.append(new_row16, ignore_index=True)\n",
            "<ipython-input-35-079751cde519>:122: FutureWarning: The frame.append method is deprecated and will be removed from pandas in a future version. Use pandas.concat instead.\n",
            "  df = df.append(new_row17, ignore_index=True)\n",
            "<ipython-input-35-079751cde519>:124: FutureWarning: The frame.append method is deprecated and will be removed from pandas in a future version. Use pandas.concat instead.\n",
            "  df = df.append(new_row18, ignore_index=True)\n",
            "<ipython-input-35-079751cde519>:126: FutureWarning: The frame.append method is deprecated and will be removed from pandas in a future version. Use pandas.concat instead.\n",
            "  df = df.append(new_row19, ignore_index=True)\n",
            "<ipython-input-35-079751cde519>:128: FutureWarning: The frame.append method is deprecated and will be removed from pandas in a future version. Use pandas.concat instead.\n",
            "  df = df.append(new_row20, ignore_index=True)\n",
            "<ipython-input-35-079751cde519>:80: FutureWarning: The frame.append method is deprecated and will be removed from pandas in a future version. Use pandas.concat instead.\n",
            "  df = df.append(new_row1, ignore_index=True)\n",
            "<ipython-input-35-079751cde519>:82: FutureWarning: The frame.append method is deprecated and will be removed from pandas in a future version. Use pandas.concat instead.\n",
            "  df = df.append(new_row1a, ignore_index=True)\n",
            "<ipython-input-35-079751cde519>:84: FutureWarning: The frame.append method is deprecated and will be removed from pandas in a future version. Use pandas.concat instead.\n",
            "  df = df.append(new_row2, ignore_index=True)\n",
            "<ipython-input-35-079751cde519>:86: FutureWarning: The frame.append method is deprecated and will be removed from pandas in a future version. Use pandas.concat instead.\n",
            "  df = df.append(new_row3, ignore_index=True)\n",
            "<ipython-input-35-079751cde519>:88: FutureWarning: The frame.append method is deprecated and will be removed from pandas in a future version. Use pandas.concat instead.\n",
            "  df = df.append(new_row4, ignore_index=True)\n",
            "<ipython-input-35-079751cde519>:90: FutureWarning: The frame.append method is deprecated and will be removed from pandas in a future version. Use pandas.concat instead.\n",
            "  df = df.append(new_row4a, ignore_index=True)\n",
            "<ipython-input-35-079751cde519>:92: FutureWarning: The frame.append method is deprecated and will be removed from pandas in a future version. Use pandas.concat instead.\n",
            "  df = df.append(new_row5, ignore_index=True)\n",
            "<ipython-input-35-079751cde519>:94: FutureWarning: The frame.append method is deprecated and will be removed from pandas in a future version. Use pandas.concat instead.\n",
            "  df = df.append(new_row6, ignore_index=True)\n",
            "<ipython-input-35-079751cde519>:96: FutureWarning: The frame.append method is deprecated and will be removed from pandas in a future version. Use pandas.concat instead.\n",
            "  df = df.append(new_row7, ignore_index=True)\n",
            "<ipython-input-35-079751cde519>:98: FutureWarning: The frame.append method is deprecated and will be removed from pandas in a future version. Use pandas.concat instead.\n",
            "  df = df.append(new_row7a, ignore_index=True)\n",
            "<ipython-input-35-079751cde519>:100: FutureWarning: The frame.append method is deprecated and will be removed from pandas in a future version. Use pandas.concat instead.\n",
            "  df = df.append(new_row8, ignore_index=True)\n",
            "<ipython-input-35-079751cde519>:102: FutureWarning: The frame.append method is deprecated and will be removed from pandas in a future version. Use pandas.concat instead.\n",
            "  df = df.append(new_row9, ignore_index=True)\n",
            "<ipython-input-35-079751cde519>:104: FutureWarning: The frame.append method is deprecated and will be removed from pandas in a future version. Use pandas.concat instead.\n",
            "  df = df.append(new_row10, ignore_index=True)\n",
            "<ipython-input-35-079751cde519>:106: FutureWarning: The frame.append method is deprecated and will be removed from pandas in a future version. Use pandas.concat instead.\n",
            "  df = df.append(new_row10a, ignore_index=True)\n",
            "<ipython-input-35-079751cde519>:108: FutureWarning: The frame.append method is deprecated and will be removed from pandas in a future version. Use pandas.concat instead.\n",
            "  df = df.append(new_row11, ignore_index=True)\n",
            "<ipython-input-35-079751cde519>:110: FutureWarning: The frame.append method is deprecated and will be removed from pandas in a future version. Use pandas.concat instead.\n",
            "  df = df.append(new_row12, ignore_index=True)\n",
            "<ipython-input-35-079751cde519>:112: FutureWarning: The frame.append method is deprecated and will be removed from pandas in a future version. Use pandas.concat instead.\n",
            "  df = df.append(new_row13, ignore_index=True)\n",
            "<ipython-input-35-079751cde519>:114: FutureWarning: The frame.append method is deprecated and will be removed from pandas in a future version. Use pandas.concat instead.\n",
            "  df = df.append(new_row13a, ignore_index=True)\n",
            "<ipython-input-35-079751cde519>:116: FutureWarning: The frame.append method is deprecated and will be removed from pandas in a future version. Use pandas.concat instead.\n",
            "  df = df.append(new_row14, ignore_index=True)\n",
            "<ipython-input-35-079751cde519>:118: FutureWarning: The frame.append method is deprecated and will be removed from pandas in a future version. Use pandas.concat instead.\n",
            "  df = df.append(new_row15, ignore_index=True)\n",
            "<ipython-input-35-079751cde519>:120: FutureWarning: The frame.append method is deprecated and will be removed from pandas in a future version. Use pandas.concat instead.\n",
            "  df = df.append(new_row16, ignore_index=True)\n",
            "<ipython-input-35-079751cde519>:122: FutureWarning: The frame.append method is deprecated and will be removed from pandas in a future version. Use pandas.concat instead.\n",
            "  df = df.append(new_row17, ignore_index=True)\n",
            "<ipython-input-35-079751cde519>:124: FutureWarning: The frame.append method is deprecated and will be removed from pandas in a future version. Use pandas.concat instead.\n",
            "  df = df.append(new_row18, ignore_index=True)\n",
            "<ipython-input-35-079751cde519>:126: FutureWarning: The frame.append method is deprecated and will be removed from pandas in a future version. Use pandas.concat instead.\n",
            "  df = df.append(new_row19, ignore_index=True)\n",
            "<ipython-input-35-079751cde519>:128: FutureWarning: The frame.append method is deprecated and will be removed from pandas in a future version. Use pandas.concat instead.\n",
            "  df = df.append(new_row20, ignore_index=True)\n"
          ]
        }
      ]
    },
    {
      "cell_type": "code",
      "source": [
        "df.head(20)"
      ],
      "metadata": {
        "colab": {
          "base_uri": "https://localhost:8080/",
          "height": 677
        },
        "id": "xth298l88Jxi",
        "outputId": "74f20bd5-e078-42be-c19d-2eb2858ca780"
      },
      "execution_count": null,
      "outputs": [
        {
          "output_type": "execute_result",
          "data": {
            "text/plain": [
              "                                            Page Text  Class\n",
              "0   1\\ni\\nearly societies\\nFrom the Beginning of T...     11\n",
              "1   \\n\\n\\n ...     12\n",
              "2   T2HEME\\n29\\nwriting and city life\\nCITY life b...     11\n",
              "3    \\n...     12\n",
              "4   49\\nii\\nempires\\nAn Empire Across Three Contin...     11\n",
              "5   \\n\\n \\...     12\n",
              "6   T4HEME\\n77\\nThe Central Islamic\\nLands\\nAS we ...     11\n",
              "7    \\n...     12\n",
              "8   T5HEME\\n104 THEMES IN WORLD HISTORY\\nNOMADIC E...     11\n",
              "9   \\n\\n\\n...     12\n",
              "10  123\\niii\\nCHANGING TRADITIONS\\nThe Three Order...     11\n",
              "11   \\n...     12\n",
              "12  7\\nTHEME\\n152 THEMES IN WORLD HISTORY\\nChangin...     11\n",
              "13   \\n...     12\n",
              "14  T8HEME\\n168 THEMES IN WORLD HISTORY\\nCONFRONTA...     11\n",
              "15   \\n...     12\n",
              "16  185\\niv\\nTOWARDS Modernisation\\nThe Industrial...     11\n",
              "17   \\n...     12\n",
              "18  1THE1ME\\n231\\nPaths to Modernisation\\nEAST ASI...     11\n",
              "19                                                        12"
            ],
            "text/html": [
              "\n",
              "  <div id=\"df-36465eea-6805-4117-926b-ebda5b659f01\">\n",
              "    <div class=\"colab-df-container\">\n",
              "      <div>\n",
              "<style scoped>\n",
              "    .dataframe tbody tr th:only-of-type {\n",
              "        vertical-align: middle;\n",
              "    }\n",
              "\n",
              "    .dataframe tbody tr th {\n",
              "        vertical-align: top;\n",
              "    }\n",
              "\n",
              "    .dataframe thead th {\n",
              "        text-align: right;\n",
              "    }\n",
              "</style>\n",
              "<table border=\"1\" class=\"dataframe\">\n",
              "  <thead>\n",
              "    <tr style=\"text-align: right;\">\n",
              "      <th></th>\n",
              "      <th>Page Text</th>\n",
              "      <th>Class</th>\n",
              "    </tr>\n",
              "  </thead>\n",
              "  <tbody>\n",
              "    <tr>\n",
              "      <th>0</th>\n",
              "      <td>1\\ni\\nearly societies\\nFrom the Beginning of T...</td>\n",
              "      <td>11</td>\n",
              "    </tr>\n",
              "    <tr>\n",
              "      <th>1</th>\n",
              "      <td>\\n\\n\\n ...</td>\n",
              "      <td>12</td>\n",
              "    </tr>\n",
              "    <tr>\n",
              "      <th>2</th>\n",
              "      <td>T2HEME\\n29\\nwriting and city life\\nCITY life b...</td>\n",
              "      <td>11</td>\n",
              "    </tr>\n",
              "    <tr>\n",
              "      <th>3</th>\n",
              "      <td> \\n...</td>\n",
              "      <td>12</td>\n",
              "    </tr>\n",
              "    <tr>\n",
              "      <th>4</th>\n",
              "      <td>49\\nii\\nempires\\nAn Empire Across Three Contin...</td>\n",
              "      <td>11</td>\n",
              "    </tr>\n",
              "    <tr>\n",
              "      <th>5</th>\n",
              "      <td>\\n\\n \\...</td>\n",
              "      <td>12</td>\n",
              "    </tr>\n",
              "    <tr>\n",
              "      <th>6</th>\n",
              "      <td>T4HEME\\n77\\nThe Central Islamic\\nLands\\nAS we ...</td>\n",
              "      <td>11</td>\n",
              "    </tr>\n",
              "    <tr>\n",
              "      <th>7</th>\n",
              "      <td> \\n...</td>\n",
              "      <td>12</td>\n",
              "    </tr>\n",
              "    <tr>\n",
              "      <th>8</th>\n",
              "      <td>T5HEME\\n104 THEMES IN WORLD HISTORY\\nNOMADIC E...</td>\n",
              "      <td>11</td>\n",
              "    </tr>\n",
              "    <tr>\n",
              "      <th>9</th>\n",
              "      <td>\\n\\n\\n...</td>\n",
              "      <td>12</td>\n",
              "    </tr>\n",
              "    <tr>\n",
              "      <th>10</th>\n",
              "      <td>123\\niii\\nCHANGING TRADITIONS\\nThe Three Order...</td>\n",
              "      <td>11</td>\n",
              "    </tr>\n",
              "    <tr>\n",
              "      <th>11</th>\n",
              "      <td> \\n...</td>\n",
              "      <td>12</td>\n",
              "    </tr>\n",
              "    <tr>\n",
              "      <th>12</th>\n",
              "      <td>7\\nTHEME\\n152 THEMES IN WORLD HISTORY\\nChangin...</td>\n",
              "      <td>11</td>\n",
              "    </tr>\n",
              "    <tr>\n",
              "      <th>13</th>\n",
              "      <td> \\n...</td>\n",
              "      <td>12</td>\n",
              "    </tr>\n",
              "    <tr>\n",
              "      <th>14</th>\n",
              "      <td>T8HEME\\n168 THEMES IN WORLD HISTORY\\nCONFRONTA...</td>\n",
              "      <td>11</td>\n",
              "    </tr>\n",
              "    <tr>\n",
              "      <th>15</th>\n",
              "      <td> \\n...</td>\n",
              "      <td>12</td>\n",
              "    </tr>\n",
              "    <tr>\n",
              "      <th>16</th>\n",
              "      <td>185\\niv\\nTOWARDS Modernisation\\nThe Industrial...</td>\n",
              "      <td>11</td>\n",
              "    </tr>\n",
              "    <tr>\n",
              "      <th>17</th>\n",
              "      <td> \\n...</td>\n",
              "      <td>12</td>\n",
              "    </tr>\n",
              "    <tr>\n",
              "      <th>18</th>\n",
              "      <td>1THE1ME\\n231\\nPaths to Modernisation\\nEAST ASI...</td>\n",
              "      <td>11</td>\n",
              "    </tr>\n",
              "    <tr>\n",
              "      <th>19</th>\n",
              "      <td></td>\n",
              "      <td>12</td>\n",
              "    </tr>\n",
              "  </tbody>\n",
              "</table>\n",
              "</div>\n",
              "      <button class=\"colab-df-convert\" onclick=\"convertToInteractive('df-36465eea-6805-4117-926b-ebda5b659f01')\"\n",
              "              title=\"Convert this dataframe to an interactive table.\"\n",
              "              style=\"display:none;\">\n",
              "        \n",
              "  <svg xmlns=\"http://www.w3.org/2000/svg\" height=\"24px\"viewBox=\"0 0 24 24\"\n",
              "       width=\"24px\">\n",
              "    <path d=\"M0 0h24v24H0V0z\" fill=\"none\"/>\n",
              "    <path d=\"M18.56 5.44l.94 2.06.94-2.06 2.06-.94-2.06-.94-.94-2.06-.94 2.06-2.06.94zm-11 1L8.5 8.5l.94-2.06 2.06-.94-2.06-.94L8.5 2.5l-.94 2.06-2.06.94zm10 10l.94 2.06.94-2.06 2.06-.94-2.06-.94-.94-2.06-.94 2.06-2.06.94z\"/><path d=\"M17.41 7.96l-1.37-1.37c-.4-.4-.92-.59-1.43-.59-.52 0-1.04.2-1.43.59L10.3 9.45l-7.72 7.72c-.78.78-.78 2.05 0 2.83L4 21.41c.39.39.9.59 1.41.59.51 0 1.02-.2 1.41-.59l7.78-7.78 2.81-2.81c.8-.78.8-2.07 0-2.86zM5.41 20L4 18.59l7.72-7.72 1.47 1.35L5.41 20z\"/>\n",
              "  </svg>\n",
              "      </button>\n",
              "      \n",
              "  <style>\n",
              "    .colab-df-container {\n",
              "      display:flex;\n",
              "      flex-wrap:wrap;\n",
              "      gap: 12px;\n",
              "    }\n",
              "\n",
              "    .colab-df-convert {\n",
              "      background-color: #E8F0FE;\n",
              "      border: none;\n",
              "      border-radius: 50%;\n",
              "      cursor: pointer;\n",
              "      display: none;\n",
              "      fill: #1967D2;\n",
              "      height: 32px;\n",
              "      padding: 0 0 0 0;\n",
              "      width: 32px;\n",
              "    }\n",
              "\n",
              "    .colab-df-convert:hover {\n",
              "      background-color: #E2EBFA;\n",
              "      box-shadow: 0px 1px 2px rgba(60, 64, 67, 0.3), 0px 1px 3px 1px rgba(60, 64, 67, 0.15);\n",
              "      fill: #174EA6;\n",
              "    }\n",
              "\n",
              "    [theme=dark] .colab-df-convert {\n",
              "      background-color: #3B4455;\n",
              "      fill: #D2E3FC;\n",
              "    }\n",
              "\n",
              "    [theme=dark] .colab-df-convert:hover {\n",
              "      background-color: #434B5C;\n",
              "      box-shadow: 0px 1px 3px 1px rgba(0, 0, 0, 0.15);\n",
              "      filter: drop-shadow(0px 1px 2px rgba(0, 0, 0, 0.3));\n",
              "      fill: #FFFFFF;\n",
              "    }\n",
              "  </style>\n",
              "\n",
              "      <script>\n",
              "        const buttonEl =\n",
              "          document.querySelector('#df-36465eea-6805-4117-926b-ebda5b659f01 button.colab-df-convert');\n",
              "        buttonEl.style.display =\n",
              "          google.colab.kernel.accessAllowed ? 'block' : 'none';\n",
              "\n",
              "        async function convertToInteractive(key) {\n",
              "          const element = document.querySelector('#df-36465eea-6805-4117-926b-ebda5b659f01');\n",
              "          const dataTable =\n",
              "            await google.colab.kernel.invokeFunction('convertToInteractive',\n",
              "                                                     [key], {});\n",
              "          if (!dataTable) return;\n",
              "\n",
              "          const docLinkHtml = 'Like what you see? Visit the ' +\n",
              "            '<a target=\"_blank\" href=https://colab.research.google.com/notebooks/data_table.ipynb>data table notebook</a>'\n",
              "            + ' to learn more about interactive tables.';\n",
              "          element.innerHTML = '';\n",
              "          dataTable['output_type'] = 'display_data';\n",
              "          await google.colab.output.renderOutput(dataTable, element);\n",
              "          const docLink = document.createElement('div');\n",
              "          docLink.innerHTML = docLinkHtml;\n",
              "          element.appendChild(docLink);\n",
              "        }\n",
              "      </script>\n",
              "    </div>\n",
              "  </div>\n",
              "  "
            ]
          },
          "metadata": {},
          "execution_count": 36
        }
      ]
    },
    {
      "cell_type": "code",
      "source": [
        "df.shape"
      ],
      "metadata": {
        "colab": {
          "base_uri": "https://localhost:8080/"
        },
        "id": "S5I8RVxZdOGR",
        "outputId": "3757751f-71aa-4b40-9d6b-81ee3ca2359e"
      },
      "execution_count": null,
      "outputs": [
        {
          "output_type": "execute_result",
          "data": {
            "text/plain": [
              "(850, 2)"
            ]
          },
          "metadata": {},
          "execution_count": 37
        }
      ]
    },
    {
      "cell_type": "code",
      "source": [],
      "metadata": {
        "id": "klnZwxkRnOyI"
      },
      "execution_count": null,
      "outputs": []
    },
    {
      "cell_type": "code",
      "source": [
        "!pip install numpy pandas sklearn nltk\n"
      ],
      "metadata": {
        "id": "aqqtP1n1SoEE",
        "colab": {
          "base_uri": "https://localhost:8080/"
        },
        "outputId": "3afa3679-d462-492f-b42e-c94082164f7d"
      },
      "execution_count": null,
      "outputs": [
        {
          "output_type": "stream",
          "name": "stdout",
          "text": [
            "Looking in indexes: https://pypi.org/simple, https://us-python.pkg.dev/colab-wheels/public/simple/\n",
            "Requirement already satisfied: numpy in /usr/local/lib/python3.10/dist-packages (1.22.4)\n",
            "Requirement already satisfied: pandas in /usr/local/lib/python3.10/dist-packages (1.5.3)\n",
            "Collecting sklearn\n",
            "  Downloading sklearn-0.0.post5.tar.gz (3.7 kB)\n",
            "  Preparing metadata (setup.py) ... \u001b[?25l\u001b[?25hdone\n",
            "Requirement already satisfied: nltk in /usr/local/lib/python3.10/dist-packages (3.8.1)\n",
            "Requirement already satisfied: python-dateutil>=2.8.1 in /usr/local/lib/python3.10/dist-packages (from pandas) (2.8.2)\n",
            "Requirement already satisfied: pytz>=2020.1 in /usr/local/lib/python3.10/dist-packages (from pandas) (2022.7.1)\n",
            "Requirement already satisfied: click in /usr/local/lib/python3.10/dist-packages (from nltk) (8.1.3)\n",
            "Requirement already satisfied: joblib in /usr/local/lib/python3.10/dist-packages (from nltk) (1.2.0)\n",
            "Requirement already satisfied: regex>=2021.8.3 in /usr/local/lib/python3.10/dist-packages (from nltk) (2022.10.31)\n",
            "Requirement already satisfied: tqdm in /usr/local/lib/python3.10/dist-packages (from nltk) (4.65.0)\n",
            "Requirement already satisfied: six>=1.5 in /usr/local/lib/python3.10/dist-packages (from python-dateutil>=2.8.1->pandas) (1.16.0)\n",
            "Building wheels for collected packages: sklearn\n",
            "  Building wheel for sklearn (setup.py) ... \u001b[?25l\u001b[?25hdone\n",
            "  Created wheel for sklearn: filename=sklearn-0.0.post5-py3-none-any.whl size=2950 sha256=8be3a7ceabf5af442ec2b1733ff7360e0f3fef21ad421b7133013fbb5c03fe3b\n",
            "  Stored in directory: /root/.cache/pip/wheels/38/1f/8d/4f812c590e074c1e928f5cec67bf5053b71f38e2648739403a\n",
            "Successfully built sklearn\n",
            "Installing collected packages: sklearn\n",
            "Successfully installed sklearn-0.0.post5\n"
          ]
        }
      ]
    },
    {
      "cell_type": "code",
      "source": [
        "import nltk\n",
        "nltk.download('stopwords')"
      ],
      "metadata": {
        "colab": {
          "base_uri": "https://localhost:8080/"
        },
        "id": "DGEtIXs5ZY9C",
        "outputId": "15992617-3e1f-4fe9-f8a7-01756d3bf8d1"
      },
      "execution_count": null,
      "outputs": [
        {
          "output_type": "stream",
          "name": "stderr",
          "text": [
            "[nltk_data] Downloading package stopwords to /root/nltk_data...\n",
            "[nltk_data]   Unzipping corpora/stopwords.zip.\n"
          ]
        },
        {
          "output_type": "execute_result",
          "data": {
            "text/plain": [
              "True"
            ]
          },
          "metadata": {},
          "execution_count": 39
        }
      ]
    },
    {
      "cell_type": "code",
      "source": [
        "nltk.download('punkt')"
      ],
      "metadata": {
        "colab": {
          "base_uri": "https://localhost:8080/"
        },
        "id": "jqaRRKjoZtvQ",
        "outputId": "887a20a6-dd09-40cc-fbde-4a4d19a477e9"
      },
      "execution_count": null,
      "outputs": [
        {
          "output_type": "stream",
          "name": "stderr",
          "text": [
            "[nltk_data] Downloading package punkt to /root/nltk_data...\n",
            "[nltk_data]   Unzipping tokenizers/punkt.zip.\n"
          ]
        },
        {
          "output_type": "execute_result",
          "data": {
            "text/plain": [
              "True"
            ]
          },
          "metadata": {},
          "execution_count": 40
        }
      ]
    },
    {
      "cell_type": "code",
      "source": [
        "from nltk.corpus import stopwords\n",
        "from nltk.tokenize import word_tokenize\n",
        "from nltk.stem import PorterStemmer\n",
        "import re\n",
        "\n",
        "df['Page Text'] = df['Page Text'].str.lower()  # Convert to lower case\n",
        "df['Page Text'] = df['Page Text'].apply(lambda x: re.sub(r'\\b\\w{1,2}\\b', '', x))  # Remove words with 2 or less letters\n",
        "df['Page Text'] = df['Page Text'].apply(lambda x: re.sub('[^\\w\\s]', '', x))  # Remove punctuation\n",
        "\n",
        "stop_words = set(stopwords.words('english'))\n",
        "stemmer = PorterStemmer()\n",
        "\n",
        "def preprocess_text(text):\n",
        "    word_tokens = word_tokenize(text) #tokenize make \"This is true\" into [\"This\", \"is\", \"True\"]\n",
        "    filtered_text = [stemmer.stem(w) for w in word_tokens if not w in stop_words] #to root form and elimitate stop words like \"the\" \"an\" \"in\"\n",
        "    return \" \".join(filtered_text)\n",
        "\n",
        "df['Page Text'] = df['Page Text'].apply(preprocess_text)\n",
        "\n"
      ],
      "metadata": {
        "id": "VcBnUDMWRFgz"
      },
      "execution_count": null,
      "outputs": []
    },
    {
      "cell_type": "code",
      "source": [
        "df.head"
      ],
      "metadata": {
        "colab": {
          "base_uri": "https://localhost:8080/"
        },
        "id": "JhnBC4X1Zw9H",
        "outputId": "a7b9e7c6-4f44-4dd4-8b7a-b332457e7c04"
      },
      "execution_count": null,
      "outputs": [
        {
          "output_type": "execute_result",
          "data": {
            "text/plain": [
              "<bound method NDFrame.head of                                              Page Text  Class\n",
              "0        earli societi begin time write citi life 2020     11\n",
              "1    harappan seal fig possibl distinct artefact ha...     12\n",
              "2    t2heme write citi life citi life began mesopot...     11\n",
              "3    sever develop differ part subcontin long span ...     12\n",
              "4    empir empir across three contin central islam ...     11\n",
              "..                                                 ...    ...\n",
              "845  revolt particularli widespread awadh prompt pe...     12\n",
              "846                                                        12\n",
              "847  noncooper form protest dialogu round tabl conf...     12\n",
              "848  british india partit women experi partit congr...     12\n",
              "849  institut alkazi foundat art new delhi fig coll...     12\n",
              "\n",
              "[850 rows x 2 columns]>"
            ]
          },
          "metadata": {},
          "execution_count": 42
        }
      ]
    },
    {
      "cell_type": "code",
      "source": [
        "df.drop_duplicates(subset=['Page Text'], inplace=True)\n",
        "df.head\n"
      ],
      "metadata": {
        "colab": {
          "base_uri": "https://localhost:8080/"
        },
        "id": "H2zvn_6Hdr2m",
        "outputId": "f5f930f4-2202-4aa1-e313-7b458f770c47"
      },
      "execution_count": null,
      "outputs": [
        {
          "output_type": "execute_result",
          "data": {
            "text/plain": [
              "<bound method NDFrame.head of                                              Page Text  Class\n",
              "0        earli societi begin time write citi life 2020     11\n",
              "1    harappan seal fig possibl distinct artefact ha...     12\n",
              "2    t2heme write citi life citi life began mesopot...     11\n",
              "3    sever develop differ part subcontin long span ...     12\n",
              "4    empir empir across three contin central islam ...     11\n",
              "..                                                 ...    ...\n",
              "768  conclus 261 hand similar interlinkag connect s...     11\n",
              "782  outlin world map mark area buddhism spread tra...     12\n",
              "792  credit illustr theme fig ritu topa fig henri s...     12\n",
              "807  credit illustr theme fig fig exercis archaeolo...     12\n",
              "817  fig susan huntington art ancient india weather...     12\n",
              "\n",
              "[614 rows x 2 columns]>"
            ]
          },
          "metadata": {},
          "execution_count": 43
        }
      ]
    },
    {
      "cell_type": "code",
      "source": [
        "\n",
        "# Convert to binary\n",
        "df['Binary Class'] = df['Class'].apply(lambda x: 1 if x == 11 else 0)\n",
        "\n",
        "df.head\n"
      ],
      "metadata": {
        "colab": {
          "base_uri": "https://localhost:8080/"
        },
        "id": "nXwEyjMjeUxw",
        "outputId": "c2e1ecf7-b2fa-459e-84bb-71f10d5741f0"
      },
      "execution_count": null,
      "outputs": [
        {
          "output_type": "execute_result",
          "data": {
            "text/plain": [
              "<bound method NDFrame.head of                                              Page Text  Class  Binary Class\n",
              "0        earli societi begin time write citi life 2020     11             1\n",
              "1    harappan seal fig possibl distinct artefact ha...     12             0\n",
              "2    t2heme write citi life citi life began mesopot...     11             1\n",
              "3    sever develop differ part subcontin long span ...     12             0\n",
              "4    empir empir across three contin central islam ...     11             1\n",
              "..                                                 ...    ...           ...\n",
              "768  conclus 261 hand similar interlinkag connect s...     11             1\n",
              "782  outlin world map mark area buddhism spread tra...     12             0\n",
              "792  credit illustr theme fig ritu topa fig henri s...     12             0\n",
              "807  credit illustr theme fig fig exercis archaeolo...     12             0\n",
              "817  fig susan huntington art ancient india weather...     12             0\n",
              "\n",
              "[614 rows x 3 columns]>"
            ]
          },
          "metadata": {},
          "execution_count": 44
        }
      ]
    },
    {
      "cell_type": "code",
      "source": [
        "import matplotlib.pyplot as plt\n",
        "\n",
        "a=df['Binary Class'].value_counts().index\n",
        "b=df['Binary Class'].value_counts()\n",
        "plt.figure(figsize=(8,5))\n",
        "plt.bar(a,b, color='#066471', width=0.5)\n",
        "plt.xlabel('Class')\n",
        "plt.ylabel('Frequency')\n",
        "plt.title('Bar Plot for Class Distribution')\n",
        "plt.show()"
      ],
      "metadata": {
        "colab": {
          "base_uri": "https://localhost:8080/",
          "height": 487
        },
        "id": "8Q5aWQWRaVMM",
        "outputId": "9a39df73-6023-4ff0-d0dc-ec2d60904e00"
      },
      "execution_count": null,
      "outputs": [
        {
          "output_type": "display_data",
          "data": {
            "text/plain": [
              "<Figure size 800x500 with 1 Axes>"
            ],
            "image/png": "[encoded data removed]"
          },
          "metadata": {}
        }
      ]
    },
    {
      "cell_type": "code",
      "source": [],
      "metadata": {
        "id": "VjBEsPNbhA2O"
      },
      "execution_count": null,
      "outputs": []
    },
    {
      "cell_type": "code",
      "execution_count": null,
      "metadata": {
        "id": "kBpzkDfUgDaU"
      },
      "outputs": [],
      "source": [
        "\n",
        "import seaborn as sns\n",
        "import matplotlib.pyplot as plt\n",
        "import numpy as np\n"
      ]
    },
    {
      "cell_type": "code",
      "source": [
        "sns.histplot(data = df , x = 'Class')"
      ],
      "metadata": {
        "colab": {
          "base_uri": "https://localhost:8080/",
          "height": 467
        },
        "id": "22GycJ8YhN6z",
        "outputId": "829fc1c6-1673-4393-b825-48ad8e105ced"
      },
      "execution_count": null,
      "outputs": [
        {
          "output_type": "execute_result",
          "data": {
            "text/plain": [
              "<Axes: xlabel='Class', ylabel='Count'>"
            ]
          },
          "metadata": {},
          "execution_count": 47
        },
        {
          "output_type": "display_data",
          "data": {
            "text/plain": [
              "<Figure size 640x480 with 1 Axes>"
            ],
            "image/png": "[encoded data removed]"
          },
          "metadata": {}
        }
      ]
    },
    {
      "cell_type": "code",
      "source": [
        "df.shape"
      ],
      "metadata": {
        "colab": {
          "base_uri": "https://localhost:8080/"
        },
        "id": "KxDwjlmEil-j",
        "outputId": "5da5fd3d-5bd6-4ab3-cf1e-2ba0c0b0d022"
      },
      "execution_count": null,
      "outputs": [
        {
          "output_type": "execute_result",
          "data": {
            "text/plain": [
              "(359, 3)"
            ]
          },
          "metadata": {},
          "execution_count": 111
        }
      ]
    },
    {
      "cell_type": "code",
      "source": [
        "df.info"
      ],
      "metadata": {
        "colab": {
          "base_uri": "https://localhost:8080/"
        },
        "id": "SFtEkBSPirQy",
        "outputId": "1a0742a6-caa5-4ddb-90c1-0e196ad6897c"
      },
      "execution_count": null,
      "outputs": [
        {
          "output_type": "execute_result",
          "data": {
            "text/plain": [
              "<bound method DataFrame.info of                                              Page Text  Class  Binary Class\n",
              "0        earli societi begin time write citi life 2020     11             1\n",
              "1    harappan seal fig possibl distinct artefact ha...     12             0\n",
              "2    t2heme write citi life citi life began mesopot...     11             1\n",
              "3    sever develop differ part subcontin long span ...     12             0\n",
              "4    empir empir across three contin central islam ...     11             1\n",
              "..                                                 ...    ...           ...\n",
              "768  conclus 261 hand similar interlinkag connect s...     11             1\n",
              "782  outlin world map mark area buddhism spread tra...     12             0\n",
              "792  credit illustr theme fig ritu topa fig henri s...     12             0\n",
              "807  credit illustr theme fig fig exercis archaeolo...     12             0\n",
              "817  fig susan huntington art ancient india weather...     12             0\n",
              "\n",
              "[614 rows x 3 columns]>"
            ]
          },
          "metadata": {},
          "execution_count": 48
        }
      ]
    },
    {
      "cell_type": "markdown",
      "source": [
        "Transform text data into numerical form using TF-IDF."
      ],
      "metadata": {
        "id": "g3PoCsfaSyLd"
      }
    },
    {
      "cell_type": "code",
      "source": [
        "from sklearn.feature_extraction.text import TfidfVectorizer\n",
        "\n",
        "vectorizer = TfidfVectorizer()\n",
        "X = vectorizer.fit_transform(df['Page Text'])\n"
      ],
      "metadata": {
        "id": "pHmcwBxQSy7U"
      },
      "execution_count": null,
      "outputs": []
    },
    {
      "cell_type": "markdown",
      "source": [
        "Encode labels"
      ],
      "metadata": {
        "id": "1U-mu0lZS5jS"
      }
    },
    {
      "cell_type": "code",
      "source": [
        "from sklearn.preprocessing import LabelEncoder\n",
        "\n",
        "encoder = LabelEncoder()\n",
        "y = encoder.fit_transform(df['Class'])\n"
      ],
      "metadata": {
        "id": "GejCO-wOS6zH"
      },
      "execution_count": null,
      "outputs": []
    },
    {
      "cell_type": "code",
      "source": [
        "\n",
        "y = df['Binary Class']\n"
      ],
      "metadata": {
        "id": "R44T0t9qTVqt"
      },
      "execution_count": null,
      "outputs": []
    },
    {
      "cell_type": "markdown",
      "source": [
        "Split data into a training set and a testing set.\n"
      ],
      "metadata": {
        "id": "siqHjS-OTAlI"
      }
    },
    {
      "cell_type": "code",
      "source": [
        "from sklearn.model_selection import train_test_split\n",
        "\n",
        "X_train, X_test, y_train, y_test = train_test_split(X, y, test_size=0.25,stratify = y, random_state=42)\n"
      ],
      "metadata": {
        "id": "tJQdpir_TBII"
      },
      "execution_count": null,
      "outputs": []
    },
    {
      "cell_type": "code",
      "source": [
        "from sklearn.linear_model import LogisticRegression\n",
        "from sklearn.model_selection import GridSearchCV\n"
      ],
      "metadata": {
        "id": "ZhRTU4KnUfaD"
      },
      "execution_count": null,
      "outputs": []
    },
    {
      "cell_type": "code",
      "source": [
        "\n",
        "\n",
        "model = LogisticRegression()\n",
        "model.fit(X_train, y_train)\n"
      ],
      "metadata": {
        "colab": {
          "base_uri": "https://localhost:8080/",
          "height": 75
        },
        "outputId": "e0ef677a-25b4-439b-cc5a-c35d7dff1160",
        "id": "fKM491LbWJfH"
      },
      "execution_count": null,
      "outputs": [
        {
          "output_type": "execute_result",
          "data": {
            "text/plain": [
              "LogisticRegression()"
            ],
            "text/html": [
              "<style>#sk-container-id-3 {color: black;background-color: white;}#sk-container-id-3 pre{padding: 0;}#sk-container-id-3 div.sk-toggleable {background-color: white;}#sk-container-id-3 label.sk-toggleable__label {cursor: pointer;display: block;width: 100%;margin-bottom: 0;padding: 0.3em;box-sizing: border-box;text-align: center;}#sk-container-id-3 label.sk-toggleable__label-arrow:before {content: \"▸\";float: left;margin-right: 0.25em;color: #696969;}#sk-container-id-3 label.sk-toggleable__label-arrow:hover:before {color: black;}#sk-container-id-3 div.sk-estimator:hover label.sk-toggleable__label-arrow:before {color: black;}#sk-container-id-3 div.sk-toggleable__content {max-height: 0;max-width: 0;overflow: hidden;text-align: left;background-color: #f0f8ff;}#sk-container-id-3 div.sk-toggleable__content pre {margin: 0.2em;color: black;border-radius: 0.25em;background-color: #f0f8ff;}#sk-container-id-3 input.sk-toggleable__control:checked~div.sk-toggleable__content {max-height: 200px;max-width: 100%;overflow: auto;}#sk-container-id-3 input.sk-toggleable__control:checked~label.sk-toggleable__label-arrow:before {content: \"▾\";}#sk-container-id-3 div.sk-estimator input.sk-toggleable__control:checked~label.sk-toggleable__label {background-color: #d4ebff;}#sk-container-id-3 div.sk-label input.sk-toggleable__control:checked~label.sk-toggleable__label {background-color: #d4ebff;}#sk-container-id-3 input.sk-hidden--visually {border: 0;clip: rect(1px 1px 1px 1px);clip: rect(1px, 1px, 1px, 1px);height: 1px;margin: -1px;overflow: hidden;padding: 0;position: absolute;width: 1px;}#sk-container-id-3 div.sk-estimator {font-family: monospace;background-color: #f0f8ff;border: 1px dotted black;border-radius: 0.25em;box-sizing: border-box;margin-bottom: 0.5em;}#sk-container-id-3 div.sk-estimator:hover {background-color: #d4ebff;}#sk-container-id-3 div.sk-parallel-item::after {content: \"\";width: 100%;border-bottom: 1px solid gray;flex-grow: 1;}#sk-container-id-3 div.sk-label:hover label.sk-toggleable__label {background-color: #d4ebff;}#sk-container-id-3 div.sk-serial::before {content: \"\";position: absolute;border-left: 1px solid gray;box-sizing: border-box;top: 0;bottom: 0;left: 50%;z-index: 0;}#sk-container-id-3 div.sk-serial {display: flex;flex-direction: column;align-items: center;background-color: white;padding-right: 0.2em;padding-left: 0.2em;position: relative;}#sk-container-id-3 div.sk-item {position: relative;z-index: 1;}#sk-container-id-3 div.sk-parallel {display: flex;align-items: stretch;justify-content: center;background-color: white;position: relative;}#sk-container-id-3 div.sk-item::before, #sk-container-id-3 div.sk-parallel-item::before {content: \"\";position: absolute;border-left: 1px solid gray;box-sizing: border-box;top: 0;bottom: 0;left: 50%;z-index: -1;}#sk-container-id-3 div.sk-parallel-item {display: flex;flex-direction: column;z-index: 1;position: relative;background-color: white;}#sk-container-id-3 div.sk-parallel-item:first-child::after {align-self: flex-end;width: 50%;}#sk-container-id-3 div.sk-parallel-item:last-child::after {align-self: flex-start;width: 50%;}#sk-container-id-3 div.sk-parallel-item:only-child::after {width: 0;}#sk-container-id-3 div.sk-dashed-wrapped {border: 1px dashed gray;margin: 0 0.4em 0.5em 0.4em;box-sizing: border-box;padding-bottom: 0.4em;background-color: white;}#sk-container-id-3 div.sk-label label {font-family: monospace;font-weight: bold;display: inline-block;line-height: 1.2em;}#sk-container-id-3 div.sk-label-container {text-align: center;}#sk-container-id-3 div.sk-container {/* jupyter's `normalize.less` sets `[hidden] { display: none; }` but bootstrap.min.css set `[hidden] { display: none !important; }` so we also need the `!important` here to be able to override the default hidden behavior on the sphinx rendered scikit-learn.org. See: https://github.com/scikit-learn/scikit-learn/issues/21755 */display: inline-block !important;position: relative;}#sk-container-id-3 div.sk-text-repr-fallback {display: none;}</style><div id=\"sk-container-id-3\" class=\"sk-top-container\"><div class=\"sk-text-repr-fallback\"><pre>LogisticRegression()</pre><b>In a Jupyter environment, please rerun this cell to show the HTML representation or trust the notebook. <br />On GitHub, the HTML representation is unable to render, please try loading this page with nbviewer.org.</b></div><div class=\"sk-container\" hidden><div class=\"sk-item\"><div class=\"sk-estimator sk-toggleable\"><input class=\"sk-toggleable__control sk-hidden--visually\" id=\"sk-estimator-id-5\" type=\"checkbox\" checked><label for=\"sk-estimator-id-5\" class=\"sk-toggleable__label sk-toggleable__label-arrow\">LogisticRegression</label><div class=\"sk-toggleable__content\"><pre>LogisticRegression()</pre></div></div></div></div></div>"
            ]
          },
          "metadata": {},
          "execution_count": 95
        }
      ]
    },
    {
      "cell_type": "code",
      "source": [
        "y_pred = model.predict(X_test)\n",
        "\n",
        "from sklearn.metrics import classification_report\n",
        "print(classification_report(y_test, y_pred))\n"
      ],
      "metadata": {
        "colab": {
          "base_uri": "https://localhost:8080/"
        },
        "outputId": "0e88be17-84d3-41f4-8605-a363443b1b6f",
        "id": "cD0H-4cFWAps"
      },
      "execution_count": null,
      "outputs": [
        {
          "output_type": "stream",
          "name": "stdout",
          "text": [
            "              precision    recall  f1-score   support\n",
            "\n",
            "           0       0.99      1.00      0.99        93\n",
            "           1       1.00      0.98      0.99        61\n",
            "\n",
            "    accuracy                           0.99       154\n",
            "   macro avg       0.99      0.99      0.99       154\n",
            "weighted avg       0.99      0.99      0.99       154\n",
            "\n"
          ]
        }
      ]
    },
    {
      "cell_type": "code",
      "source": [
        "param_grid = {\n",
        "    'C': [0.1, 1, 10],                # Regularization parameter\n",
        "    'penalty': ['l1', 'l2'],          # Regularization penalty\n",
        "    'solver': ['liblinear', 'saga']   # Preferred Algorithm\n",
        "}\n"
      ],
      "metadata": {
        "id": "5VCrZeosUyt3"
      },
      "execution_count": null,
      "outputs": []
    },
    {
      "cell_type": "code",
      "source": [
        "grid_search = GridSearchCV(estimator=model, param_grid=param_grid, cv=5)\n",
        "grid_search.fit(X, y)\n"
      ],
      "metadata": {
        "colab": {
          "base_uri": "https://localhost:8080/",
          "height": 638
        },
        "id": "eReUWcHIU7pq",
        "outputId": "1b458b3c-35de-487a-a09f-ea8f193d128f"
      },
      "execution_count": null,
      "outputs": [
        {
          "output_type": "stream",
          "name": "stderr",
          "text": [
            "/usr/local/lib/python3.10/dist-packages/sklearn/linear_model/_sag.py:350: ConvergenceWarning: The max_iter was reached which means the coef_ did not converge\n",
            "  warnings.warn(\n",
            "/usr/local/lib/python3.10/dist-packages/sklearn/linear_model/_sag.py:350: ConvergenceWarning: The max_iter was reached which means the coef_ did not converge\n",
            "  warnings.warn(\n",
            "/usr/local/lib/python3.10/dist-packages/sklearn/linear_model/_sag.py:350: ConvergenceWarning: The max_iter was reached which means the coef_ did not converge\n",
            "  warnings.warn(\n",
            "/usr/local/lib/python3.10/dist-packages/sklearn/linear_model/_sag.py:350: ConvergenceWarning: The max_iter was reached which means the coef_ did not converge\n",
            "  warnings.warn(\n",
            "/usr/local/lib/python3.10/dist-packages/sklearn/linear_model/_sag.py:350: ConvergenceWarning: The max_iter was reached which means the coef_ did not converge\n",
            "  warnings.warn(\n",
            "/usr/local/lib/python3.10/dist-packages/sklearn/linear_model/_sag.py:350: ConvergenceWarning: The max_iter was reached which means the coef_ did not converge\n",
            "  warnings.warn(\n",
            "/usr/local/lib/python3.10/dist-packages/sklearn/linear_model/_sag.py:350: ConvergenceWarning: The max_iter was reached which means the coef_ did not converge\n",
            "  warnings.warn(\n",
            "/usr/local/lib/python3.10/dist-packages/sklearn/linear_model/_sag.py:350: ConvergenceWarning: The max_iter was reached which means the coef_ did not converge\n",
            "  warnings.warn(\n",
            "/usr/local/lib/python3.10/dist-packages/sklearn/linear_model/_sag.py:350: ConvergenceWarning: The max_iter was reached which means the coef_ did not converge\n",
            "  warnings.warn(\n",
            "/usr/local/lib/python3.10/dist-packages/sklearn/linear_model/_sag.py:350: ConvergenceWarning: The max_iter was reached which means the coef_ did not converge\n",
            "  warnings.warn(\n",
            "/usr/local/lib/python3.10/dist-packages/sklearn/linear_model/_sag.py:350: ConvergenceWarning: The max_iter was reached which means the coef_ did not converge\n",
            "  warnings.warn(\n",
            "/usr/local/lib/python3.10/dist-packages/sklearn/linear_model/_sag.py:350: ConvergenceWarning: The max_iter was reached which means the coef_ did not converge\n",
            "  warnings.warn(\n",
            "/usr/local/lib/python3.10/dist-packages/sklearn/linear_model/_sag.py:350: ConvergenceWarning: The max_iter was reached which means the coef_ did not converge\n",
            "  warnings.warn(\n",
            "/usr/local/lib/python3.10/dist-packages/sklearn/linear_model/_sag.py:350: ConvergenceWarning: The max_iter was reached which means the coef_ did not converge\n",
            "  warnings.warn(\n"
          ]
        },
        {
          "output_type": "execute_result",
          "data": {
            "text/plain": [
              "GridSearchCV(cv=5, estimator=LogisticRegression(),\n",
              "             param_grid={'C': [0.1, 1, 10], 'penalty': ['l1', 'l2'],\n",
              "                         'solver': ['liblinear', 'saga']})"
            ],
            "text/html": [
              "<style>#sk-container-id-4 {color: black;background-color: white;}#sk-container-id-4 pre{padding: 0;}#sk-container-id-4 div.sk-toggleable {background-color: white;}#sk-container-id-4 label.sk-toggleable__label {cursor: pointer;display: block;width: 100%;margin-bottom: 0;padding: 0.3em;box-sizing: border-box;text-align: center;}#sk-container-id-4 label.sk-toggleable__label-arrow:before {content: \"▸\";float: left;margin-right: 0.25em;color: #696969;}#sk-container-id-4 label.sk-toggleable__label-arrow:hover:before {color: black;}#sk-container-id-4 div.sk-estimator:hover label.sk-toggleable__label-arrow:before {color: black;}#sk-container-id-4 div.sk-toggleable__content {max-height: 0;max-width: 0;overflow: hidden;text-align: left;background-color: #f0f8ff;}#sk-container-id-4 div.sk-toggleable__content pre {margin: 0.2em;color: black;border-radius: 0.25em;background-color: #f0f8ff;}#sk-container-id-4 input.sk-toggleable__control:checked~div.sk-toggleable__content {max-height: 200px;max-width: 100%;overflow: auto;}#sk-container-id-4 input.sk-toggleable__control:checked~label.sk-toggleable__label-arrow:before {content: \"▾\";}#sk-container-id-4 div.sk-estimator input.sk-toggleable__control:checked~label.sk-toggleable__label {background-color: #d4ebff;}#sk-container-id-4 div.sk-label input.sk-toggleable__control:checked~label.sk-toggleable__label {background-color: #d4ebff;}#sk-container-id-4 input.sk-hidden--visually {border: 0;clip: rect(1px 1px 1px 1px);clip: rect(1px, 1px, 1px, 1px);height: 1px;margin: -1px;overflow: hidden;padding: 0;position: absolute;width: 1px;}#sk-container-id-4 div.sk-estimator {font-family: monospace;background-color: #f0f8ff;border: 1px dotted black;border-radius: 0.25em;box-sizing: border-box;margin-bottom: 0.5em;}#sk-container-id-4 div.sk-estimator:hover {background-color: #d4ebff;}#sk-container-id-4 div.sk-parallel-item::after {content: \"\";width: 100%;border-bottom: 1px solid gray;flex-grow: 1;}#sk-container-id-4 div.sk-label:hover label.sk-toggleable__label {background-color: #d4ebff;}#sk-container-id-4 div.sk-serial::before {content: \"\";position: absolute;border-left: 1px solid gray;box-sizing: border-box;top: 0;bottom: 0;left: 50%;z-index: 0;}#sk-container-id-4 div.sk-serial {display: flex;flex-direction: column;align-items: center;background-color: white;padding-right: 0.2em;padding-left: 0.2em;position: relative;}#sk-container-id-4 div.sk-item {position: relative;z-index: 1;}#sk-container-id-4 div.sk-parallel {display: flex;align-items: stretch;justify-content: center;background-color: white;position: relative;}#sk-container-id-4 div.sk-item::before, #sk-container-id-4 div.sk-parallel-item::before {content: \"\";position: absolute;border-left: 1px solid gray;box-sizing: border-box;top: 0;bottom: 0;left: 50%;z-index: -1;}#sk-container-id-4 div.sk-parallel-item {display: flex;flex-direction: column;z-index: 1;position: relative;background-color: white;}#sk-container-id-4 div.sk-parallel-item:first-child::after {align-self: flex-end;width: 50%;}#sk-container-id-4 div.sk-parallel-item:last-child::after {align-self: flex-start;width: 50%;}#sk-container-id-4 div.sk-parallel-item:only-child::after {width: 0;}#sk-container-id-4 div.sk-dashed-wrapped {border: 1px dashed gray;margin: 0 0.4em 0.5em 0.4em;box-sizing: border-box;padding-bottom: 0.4em;background-color: white;}#sk-container-id-4 div.sk-label label {font-family: monospace;font-weight: bold;display: inline-block;line-height: 1.2em;}#sk-container-id-4 div.sk-label-container {text-align: center;}#sk-container-id-4 div.sk-container {/* jupyter's `normalize.less` sets `[hidden] { display: none; }` but bootstrap.min.css set `[hidden] { display: none !important; }` so we also need the `!important` here to be able to override the default hidden behavior on the sphinx rendered scikit-learn.org. See: https://github.com/scikit-learn/scikit-learn/issues/21755 */display: inline-block !important;position: relative;}#sk-container-id-4 div.sk-text-repr-fallback {display: none;}</style><div id=\"sk-container-id-4\" class=\"sk-top-container\"><div class=\"sk-text-repr-fallback\"><pre>GridSearchCV(cv=5, estimator=LogisticRegression(),\n",
              "             param_grid={&#x27;C&#x27;: [0.1, 1, 10], &#x27;penalty&#x27;: [&#x27;l1&#x27;, &#x27;l2&#x27;],\n",
              "                         &#x27;solver&#x27;: [&#x27;liblinear&#x27;, &#x27;saga&#x27;]})</pre><b>In a Jupyter environment, please rerun this cell to show the HTML representation or trust the notebook. <br />On GitHub, the HTML representation is unable to render, please try loading this page with nbviewer.org.</b></div><div class=\"sk-container\" hidden><div class=\"sk-item sk-dashed-wrapped\"><div class=\"sk-label-container\"><div class=\"sk-label sk-toggleable\"><input class=\"sk-toggleable__control sk-hidden--visually\" id=\"sk-estimator-id-6\" type=\"checkbox\" ><label for=\"sk-estimator-id-6\" class=\"sk-toggleable__label sk-toggleable__label-arrow\">GridSearchCV</label><div class=\"sk-toggleable__content\"><pre>GridSearchCV(cv=5, estimator=LogisticRegression(),\n",
              "             param_grid={&#x27;C&#x27;: [0.1, 1, 10], &#x27;penalty&#x27;: [&#x27;l1&#x27;, &#x27;l2&#x27;],\n",
              "                         &#x27;solver&#x27;: [&#x27;liblinear&#x27;, &#x27;saga&#x27;]})</pre></div></div></div><div class=\"sk-parallel\"><div class=\"sk-parallel-item\"><div class=\"sk-item\"><div class=\"sk-label-container\"><div class=\"sk-label sk-toggleable\"><input class=\"sk-toggleable__control sk-hidden--visually\" id=\"sk-estimator-id-7\" type=\"checkbox\" ><label for=\"sk-estimator-id-7\" class=\"sk-toggleable__label sk-toggleable__label-arrow\">estimator: LogisticRegression</label><div class=\"sk-toggleable__content\"><pre>LogisticRegression()</pre></div></div></div><div class=\"sk-serial\"><div class=\"sk-item\"><div class=\"sk-estimator sk-toggleable\"><input class=\"sk-toggleable__control sk-hidden--visually\" id=\"sk-estimator-id-8\" type=\"checkbox\" ><label for=\"sk-estimator-id-8\" class=\"sk-toggleable__label sk-toggleable__label-arrow\">LogisticRegression</label><div class=\"sk-toggleable__content\"><pre>LogisticRegression()</pre></div></div></div></div></div></div></div></div></div></div>"
            ]
          },
          "metadata": {},
          "execution_count": 98
        }
      ]
    },
    {
      "cell_type": "code",
      "source": [
        "best_params = grid_search.best_params_\n",
        "best_score = grid_search.best_score_\n"
      ],
      "metadata": {
        "id": "EecaOu3MVM4Y"
      },
      "execution_count": null,
      "outputs": []
    },
    {
      "cell_type": "code",
      "source": [
        "print (best_params, \",\", best_score)"
      ],
      "metadata": {
        "colab": {
          "base_uri": "https://localhost:8080/"
        },
        "id": "ZFyjIWOiVRyL",
        "outputId": "bda6fead-be2c-44cb-9823-6fd0368d9484"
      },
      "execution_count": null,
      "outputs": [
        {
          "output_type": "stream",
          "name": "stdout",
          "text": [
            "{'C': 1, 'penalty': 'l1', 'solver': 'liblinear'} , 1.0\n"
          ]
        }
      ]
    },
    {
      "cell_type": "code",
      "source": [
        "best_model = grid_search.best_estimator_\n",
        "y_pred = best_model.predict(X_test)\n"
      ],
      "metadata": {
        "id": "_BoRrYlkVu3W"
      },
      "execution_count": null,
      "outputs": []
    },
    {
      "cell_type": "code",
      "source": [
        "\n",
        "print(classification_report(y_test, y_pred))\n"
      ],
      "metadata": {
        "id": "qzcmTUKHTKjv",
        "colab": {
          "base_uri": "https://localhost:8080/"
        },
        "outputId": "ea666c22-37e8-4474-b79a-9aa9548561e1"
      },
      "execution_count": null,
      "outputs": [
        {
          "output_type": "stream",
          "name": "stdout",
          "text": [
            "              precision    recall  f1-score   support\n",
            "\n",
            "           0       1.00      1.00      1.00        93\n",
            "           1       1.00      1.00      1.00        61\n",
            "\n",
            "    accuracy                           1.00       154\n",
            "   macro avg       1.00      1.00      1.00       154\n",
            "weighted avg       1.00      1.00      1.00       154\n",
            "\n"
          ]
        }
      ]
    },
    {
      "cell_type": "markdown",
      "source": [
        "**Classfying Webpage Using Built Model After Scrapping Text from Webpage**"
      ],
      "metadata": {
        "id": "Q9HOEpG9phA_"
      }
    },
    {
      "cell_type": "code",
      "source": [
        "import requests\n",
        "from bs4 import BeautifulSoup\n",
        "#import pandas as pd\n",
        "\n",
        "# Input the web URL\n",
        "url = input(\"Enter the URL: \")\n",
        "\n",
        "# Send a GET request to the URL\n",
        "response = requests.get(url)\n",
        "\n",
        "# Create a BeautifulSoup object to parse the HTML content\n",
        "soup = BeautifulSoup(response.text, 'html.parser')\n",
        "\n",
        "# Extract the text data from the HTML\n",
        "text_data = soup.get_text()\n",
        "\n",
        "# Create a DataFrame with a single row and single column\n",
        "df2 = pd.DataFrame({'Page Text': [text_data]})\n",
        "\n",
        "\n",
        "\n",
        "df2['Page Text'] = df2['Page Text'].str.lower()  # Convert to lower case\n",
        "df2['Page Text'] = df2['Page Text'].apply(lambda x: re.sub(r'\\b\\w{1,2}\\b', '', x))  # Remove words with 2 or less letters\n",
        "df2['Page Text'] = df2['Page Text'].apply(lambda x: re.sub('[^\\w\\s]', '', x))  # Remove punctuation\n",
        "\n",
        "\n",
        "\n",
        "#def preprocess_text(text) already defined\n",
        "\n",
        "df2['Page Text'] = df2['Page Text'].apply(preprocess_text) #redued each word to root/base form eg. runs running etc to run\n",
        "\n",
        "df2.head\n"
      ],
      "metadata": {
        "colab": {
          "base_uri": "https://localhost:8080/"
        },
        "id": "Ors6CLgVsD-w",
        "outputId": "de419b65-8141-4d36-ed55-f8abedc29db1"
      },
      "execution_count": null,
      "outputs": [
        {
          "name": "stdout",
          "output_type": "stream",
          "text": [
            "Enter the URL: https://en.wikipedia.org/wiki/Indus_Valley_Civilisation\n"
          ]
        },
        {
          "output_type": "execute_result",
          "data": {
            "text/plain": [
              "<bound method NDFrame.head of                                            Page Text\n",
              "0  indu valley civilis wikipedia jump content mai...>"
            ]
          },
          "metadata": {},
          "execution_count": 89
        }
      ]
    },
    {
      "cell_type": "code",
      "source": [
        "import numpy as np\n",
        "\n",
        "vectorizer = TfidfVectorizer()\n",
        "vectorizer.fit(df['Page Text'])\n",
        "A = vectorizer.transform(df2['Page Text']) #not fit_transform\n",
        "\n",
        "#A_pred = model.predict(A)\n",
        "\n",
        "#A_pred\n",
        "\n",
        "proba = best_model.predict_proba(A)\n",
        "prediction = best_model.predict(A)\n",
        "if proba[0,1] > 0.6:\n",
        "     print('Class 11', prediction)\n",
        "\n",
        "else:\n",
        "    if proba[0,1] < 0.4:\n",
        "      print('Class 12', prediction)\n",
        "    else:\n",
        "      print('Other', prediction)\n",
        "\n"
      ],
      "metadata": {
        "colab": {
          "base_uri": "https://localhost:8080/"
        },
        "id": "M2N91jHPwmLf",
        "outputId": "76f3b3ce-2f7a-46bb-c3e2-1a3659c714ef"
      },
      "execution_count": null,
      "outputs": [
        {
          "output_type": "stream",
          "name": "stdout",
          "text": [
            "Other [1]\n"
          ]
        }
      ]
    },
    {
      "cell_type": "code",
      "source": [
        "proba"
      ],
      "metadata": {
        "colab": {
          "base_uri": "https://localhost:8080/"
        },
        "id": "DilL_unD4wuo",
        "outputId": "19fb555d-f802-4a00-bd7d-82e4adfeaf72"
      },
      "execution_count": null,
      "outputs": [
        {
          "output_type": "execute_result",
          "data": {
            "text/plain": [
              "array([[0.47410653, 0.52589347]])"
            ]
          },
          "metadata": {},
          "execution_count": 91
        }
      ]
    }
  ]
}